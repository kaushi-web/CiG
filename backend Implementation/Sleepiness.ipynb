{
 "cells": [
  {
   "cell_type": "code",
   "execution_count": 1,
   "metadata": {},
   "outputs": [],
   "source": [
    "from keras.callbacks import ModelCheckpoint"
   ]
  },
  {
   "cell_type": "code",
   "execution_count": 2,
   "metadata": {},
   "outputs": [
    {
     "name": "stdout",
     "output_type": "stream",
     "text": [
      "[0.63829787 0.60962567 0.5978836  0.59042553 0.57219251 0.56382979\n",
      " 0.58730159 0.59574468 0.59139785 0.61170213]\n",
      "[1. 0.]\n"
     ]
    }
   ],
   "source": [
    "import numpy as np\n",
    "from keras.utils.np_utils import to_categorical\n",
    "\n",
    "data=np.load('data_train5.npy')\n",
    "target=np.load('target_train5.npy')\n",
    "\n",
    "target=to_categorical(target)\n",
    "\n",
    "print(data[0])\n",
    "print(target[0])"
   ]
  },
  {
   "cell_type": "code",
   "execution_count": 3,
   "metadata": {},
   "outputs": [
    {
     "name": "stdout",
     "output_type": "stream",
     "text": [
      "(3028, 10)\n",
      "(3028, 2)\n"
     ]
    }
   ],
   "source": [
    "print(data.shape)\n",
    "print(target.shape)"
   ]
  },
  {
   "cell_type": "code",
   "execution_count": 4,
   "metadata": {},
   "outputs": [
    {
     "data": {
      "text/plain": [
       "['scaler-data.sav']"
      ]
     },
     "execution_count": 4,
     "metadata": {},
     "output_type": "execute_result"
    }
   ],
   "source": [
    "import sklearn\n",
    "from sklearn.preprocessing import MinMaxScaler\n",
    "import joblib\n",
    "\n",
    "scaler = MinMaxScaler()\n",
    "# transform data\n",
    "data = scaler.fit_transform(data)\n",
    "joblib.dump(scaler,'scaler-data.sav')"
   ]
  },
  {
   "cell_type": "code",
   "execution_count": 5,
   "metadata": {},
   "outputs": [],
   "source": [
    "data=data.reshape(data.shape[0],data.shape[1],1)"
   ]
  },
  {
   "cell_type": "code",
   "execution_count": 6,
   "metadata": {},
   "outputs": [
    {
     "name": "stdout",
     "output_type": "stream",
     "text": [
      "[[[0.71662587]\n",
      "  [0.64352183]\n",
      "  [0.4994709 ]\n",
      "  ...\n",
      "  [0.57964347]\n",
      "  [0.54960289]\n",
      "  [0.57822817]]\n",
      "\n",
      " [[0.71274055]\n",
      "  [0.63884109]\n",
      "  [0.49376344]\n",
      "  ...\n",
      "  [0.58172458]\n",
      "  [0.54865342]\n",
      "  [0.60344828]]\n",
      "\n",
      " [[0.67990962]\n",
      "  [0.67697183]\n",
      "  [0.4994709 ]\n",
      "  ...\n",
      "  [0.6106958 ]\n",
      "  [0.61260322]\n",
      "  [0.61082427]]\n",
      "\n",
      " ...\n",
      "\n",
      " [[0.21238938]\n",
      "  [0.22089025]\n",
      "  [0.17447619]\n",
      "  ...\n",
      "  [0.17170111]\n",
      "  [0.22320117]\n",
      "  [0.20131846]]\n",
      "\n",
      " [[0.1514836 ]\n",
      "  [0.28426804]\n",
      "  [0.23215686]\n",
      "  ...\n",
      "  [0.39527027]\n",
      "  [0.24674192]\n",
      "  [0.29922136]]\n",
      "\n",
      " [[0.37776549]\n",
      "  [0.41795557]\n",
      "  [0.38583333]\n",
      "  ...\n",
      "  [0.48648649]\n",
      "  [0.46035242]\n",
      "  [0.44043887]]]\n"
     ]
    }
   ],
   "source": [
    "print(data)"
   ]
  },
  {
   "cell_type": "code",
   "execution_count": 7,
   "metadata": {},
   "outputs": [],
   "source": [
    "from sklearn.model_selection import train_test_split\n",
    "\n",
    "train_data,test_data,train_target,test_target=train_test_split(data,target,test_size=0.2)"
   ]
  },
  {
   "cell_type": "code",
   "execution_count": 8,
   "metadata": {},
   "outputs": [],
   "source": [
    "\n",
    "from keras.models import Sequential\n",
    "from keras.layers import LSTM,Dense,Dropout\n",
    "\n",
    "model=Sequential()\n",
    "\n",
    "model.add(LSTM(units=64,return_sequences=True,input_shape=data.shape[1:]))\n",
    "model.add(Dropout(0.2))\n",
    "\n",
    "model.add(LSTM(units=32,return_sequences=True))\n",
    "model.add(Dropout(0.2))\n",
    "\n",
    "model.add(LSTM(units=16,return_sequences=False))\n",
    "model.add(Dropout(0.2))\n",
    "\n",
    "model.add(Dense(target.shape[1],activation='softmax'))\n",
    "\n",
    "model.compile(loss='categorical_crossentropy',optimizer='adam',metrics=['accuracy'])"
   ]
  },
  {
   "cell_type": "code",
   "execution_count": 9,
   "metadata": {},
   "outputs": [
    {
     "name": "stdout",
     "output_type": "stream",
     "text": [
      "Model: \"sequential\"\n",
      "_________________________________________________________________\n",
      "Layer (type)                 Output Shape              Param #   \n",
      "=================================================================\n",
      "lstm (LSTM)                  (None, 10, 64)            16896     \n",
      "_________________________________________________________________\n",
      "dropout (Dropout)            (None, 10, 64)            0         \n",
      "_________________________________________________________________\n",
      "lstm_1 (LSTM)                (None, 10, 32)            12416     \n",
      "_________________________________________________________________\n",
      "dropout_1 (Dropout)          (None, 10, 32)            0         \n",
      "_________________________________________________________________\n",
      "lstm_2 (LSTM)                (None, 16)                3136      \n",
      "_________________________________________________________________\n",
      "dropout_2 (Dropout)          (None, 16)                0         \n",
      "_________________________________________________________________\n",
      "dense (Dense)                (None, 2)                 34        \n",
      "=================================================================\n",
      "Total params: 32,482\n",
      "Trainable params: 32,482\n",
      "Non-trainable params: 0\n",
      "_________________________________________________________________\n"
     ]
    }
   ],
   "source": [
    "model.summary()"
   ]
  },
  {
   "cell_type": "code",
   "execution_count": 10,
   "metadata": {},
   "outputs": [],
   "source": [
    "# from keras.callbacks import ModelCheckpoint\n",
    "\n",
    "# checkpoint=ModelCheckpoint(filepath='SleppyModels-{epoch:02d}',monitor='val_accuracy',mode='max',save_best_only=True)\n",
    "\n",
    "# batch_size=8\n",
    "\n",
    "# history = model.fit(batcher(train_data,train_target),epochs=45,validation_data=batcher(test_data,test_target),batch_size=batch_size,\n",
    "#          steps_per_epoch=len(train_data)//batch_size,validation_steps=len(test_data)//batch_size,callbacks=[checkpoint])\n",
    "\n",
    "# model.save('model2_1.h5')"
   ]
  },
  {
   "cell_type": "code",
   "execution_count": 11,
   "metadata": {},
   "outputs": [
    {
     "name": "stdout",
     "output_type": "stream",
     "text": [
      "Epoch 1/1000\n",
      "379/379 [==============================] - 57s 34ms/step - loss: 0.5968 - accuracy: 0.6671 - val_loss: 0.4252 - val_accuracy: 0.8185\n"
     ]
    },
    {
     "name": "stderr",
     "output_type": "stream",
     "text": [
      "WARNING:absl:Found untraced functions such as lstm_cell_layer_call_fn, lstm_cell_layer_call_and_return_conditional_losses, lstm_cell_1_layer_call_fn, lstm_cell_1_layer_call_and_return_conditional_losses, lstm_cell_2_layer_call_fn while saving (showing 5 of 15). These functions will not be directly callable after loading.\n"
     ]
    },
    {
     "name": "stdout",
     "output_type": "stream",
     "text": [
      "INFO:tensorflow:Assets written to: SleppyModels-01\\assets\n"
     ]
    },
    {
     "name": "stderr",
     "output_type": "stream",
     "text": [
      "INFO:tensorflow:Assets written to: SleppyModels-01\\assets\n"
     ]
    },
    {
     "name": "stdout",
     "output_type": "stream",
     "text": [
      "Epoch 2/1000\n",
      "379/379 [==============================] - 9s 25ms/step - loss: 0.4648 - accuracy: 0.7967 - val_loss: 0.4402 - val_accuracy: 0.7987\n",
      "Epoch 3/1000\n",
      "379/379 [==============================] - 9s 24ms/step - loss: 0.4690 - accuracy: 0.7872 - val_loss: 0.4142 - val_accuracy: 0.8152\n",
      "Epoch 4/1000\n",
      "379/379 [==============================] - 9s 25ms/step - loss: 0.4407 - accuracy: 0.8068 - val_loss: 0.4154 - val_accuracy: 0.8102\n",
      "Epoch 5/1000\n",
      "379/379 [==============================] - 9s 25ms/step - loss: 0.4530 - accuracy: 0.7928 - val_loss: 0.4163 - val_accuracy: 0.8119\n",
      "Epoch 6/1000\n",
      "379/379 [==============================] - 9s 25ms/step - loss: 0.4401 - accuracy: 0.8057 - val_loss: 0.4204 - val_accuracy: 0.8036\n",
      "Epoch 7/1000\n",
      "379/379 [==============================] - 9s 25ms/step - loss: 0.4444 - accuracy: 0.7953 - val_loss: 0.4565 - val_accuracy: 0.8135\n",
      "Epoch 8/1000\n",
      "379/379 [==============================] - 9s 24ms/step - loss: 0.4427 - accuracy: 0.8094 - val_loss: 0.4165 - val_accuracy: 0.8086\n",
      "Epoch 9/1000\n",
      "379/379 [==============================] - 10s 25ms/step - loss: 0.4376 - accuracy: 0.8014 - val_loss: 0.4118 - val_accuracy: 0.8168\n",
      "Epoch 10/1000\n",
      "379/379 [==============================] - 9s 24ms/step - loss: 0.4412 - accuracy: 0.8025 - val_loss: 0.4143 - val_accuracy: 0.8102\n",
      "Epoch 11/1000\n",
      "379/379 [==============================] - 9s 25ms/step - loss: 0.4398 - accuracy: 0.8062 - val_loss: 0.4096 - val_accuracy: 0.8366\n"
     ]
    },
    {
     "name": "stderr",
     "output_type": "stream",
     "text": [
      "WARNING:absl:Found untraced functions such as lstm_cell_layer_call_fn, lstm_cell_layer_call_and_return_conditional_losses, lstm_cell_1_layer_call_fn, lstm_cell_1_layer_call_and_return_conditional_losses, lstm_cell_2_layer_call_fn while saving (showing 5 of 15). These functions will not be directly callable after loading.\n"
     ]
    },
    {
     "name": "stdout",
     "output_type": "stream",
     "text": [
      "INFO:tensorflow:Assets written to: SleppyModels-11\\assets\n"
     ]
    },
    {
     "name": "stderr",
     "output_type": "stream",
     "text": [
      "INFO:tensorflow:Assets written to: SleppyModels-11\\assets\n"
     ]
    },
    {
     "name": "stdout",
     "output_type": "stream",
     "text": [
      "Epoch 12/1000\n",
      "379/379 [==============================] - 11s 29ms/step - loss: 0.4335 - accuracy: 0.8120 - val_loss: 0.4173 - val_accuracy: 0.8119\n",
      "Epoch 13/1000\n",
      "379/379 [==============================] - 11s 29ms/step - loss: 0.4274 - accuracy: 0.8223 - val_loss: 0.4075 - val_accuracy: 0.8185\n",
      "Epoch 14/1000\n",
      "379/379 [==============================] - 13s 33ms/step - loss: 0.4365 - accuracy: 0.8186 - val_loss: 0.4039 - val_accuracy: 0.8185\n",
      "Epoch 15/1000\n",
      "379/379 [==============================] - 11s 29ms/step - loss: 0.4328 - accuracy: 0.8109 - val_loss: 0.3968 - val_accuracy: 0.8317\n",
      "Epoch 16/1000\n",
      "379/379 [==============================] - 11s 29ms/step - loss: 0.4475 - accuracy: 0.7971 - val_loss: 0.4044 - val_accuracy: 0.8350\n",
      "Epoch 17/1000\n",
      "379/379 [==============================] - 12s 30ms/step - loss: 0.4210 - accuracy: 0.8184 - val_loss: 0.3987 - val_accuracy: 0.8366\n",
      "Epoch 18/1000\n",
      "379/379 [==============================] - 12s 30ms/step - loss: 0.4292 - accuracy: 0.8155 - val_loss: 0.3998 - val_accuracy: 0.8300\n",
      "Epoch 19/1000\n",
      "379/379 [==============================] - 11s 29ms/step - loss: 0.4139 - accuracy: 0.8306 - val_loss: 0.4114 - val_accuracy: 0.8218\n",
      "Epoch 20/1000\n",
      "379/379 [==============================] - 11s 29ms/step - loss: 0.4189 - accuracy: 0.8191 - val_loss: 0.3945 - val_accuracy: 0.8234\n",
      "Epoch 21/1000\n",
      "379/379 [==============================] - 11s 29ms/step - loss: 0.4282 - accuracy: 0.8212 - val_loss: 0.3970 - val_accuracy: 0.8465 - loss: 0.4283 - ac\n"
     ]
    },
    {
     "name": "stderr",
     "output_type": "stream",
     "text": [
      "WARNING:absl:Found untraced functions such as lstm_cell_layer_call_fn, lstm_cell_layer_call_and_return_conditional_losses, lstm_cell_1_layer_call_fn, lstm_cell_1_layer_call_and_return_conditional_losses, lstm_cell_2_layer_call_fn while saving (showing 5 of 15). These functions will not be directly callable after loading.\n"
     ]
    },
    {
     "name": "stdout",
     "output_type": "stream",
     "text": [
      "INFO:tensorflow:Assets written to: SleppyModels-21\\assets\n"
     ]
    },
    {
     "name": "stderr",
     "output_type": "stream",
     "text": [
      "INFO:tensorflow:Assets written to: SleppyModels-21\\assets\n"
     ]
    },
    {
     "name": "stdout",
     "output_type": "stream",
     "text": [
      "Epoch 22/1000\n",
      "379/379 [==============================] - 12s 33ms/step - loss: 0.4216 - accuracy: 0.8193 - val_loss: 0.4010 - val_accuracy: 0.8234\n",
      "Epoch 23/1000\n",
      "379/379 [==============================] - 12s 32ms/step - loss: 0.4066 - accuracy: 0.8204 - val_loss: 0.3944 - val_accuracy: 0.8300\n",
      "Epoch 24/1000\n",
      "379/379 [==============================] - 12s 31ms/step - loss: 0.4298 - accuracy: 0.8038 - val_loss: 0.3813 - val_accuracy: 0.8383\n",
      "Epoch 25/1000\n",
      "379/379 [==============================] - 12s 33ms/step - loss: 0.4266 - accuracy: 0.8212 - val_loss: 0.3776 - val_accuracy: 0.8366\n",
      "Epoch 26/1000\n",
      "379/379 [==============================] - 12s 32ms/step - loss: 0.4134 - accuracy: 0.8216 - val_loss: 0.3698 - val_accuracy: 0.8449\n",
      "Epoch 27/1000\n",
      "379/379 [==============================] - 12s 33ms/step - loss: 0.4255 - accuracy: 0.8031 - val_loss: 0.3692 - val_accuracy: 0.8498\n"
     ]
    },
    {
     "name": "stderr",
     "output_type": "stream",
     "text": [
      "WARNING:absl:Found untraced functions such as lstm_cell_layer_call_fn, lstm_cell_layer_call_and_return_conditional_losses, lstm_cell_1_layer_call_fn, lstm_cell_1_layer_call_and_return_conditional_losses, lstm_cell_2_layer_call_fn while saving (showing 5 of 15). These functions will not be directly callable after loading.\n"
     ]
    },
    {
     "name": "stdout",
     "output_type": "stream",
     "text": [
      "INFO:tensorflow:Assets written to: SleppyModels-27\\assets\n"
     ]
    },
    {
     "name": "stderr",
     "output_type": "stream",
     "text": [
      "INFO:tensorflow:Assets written to: SleppyModels-27\\assets\n"
     ]
    },
    {
     "name": "stdout",
     "output_type": "stream",
     "text": [
      "Epoch 28/1000\n",
      "379/379 [==============================] - 12s 32ms/step - loss: 0.4056 - accuracy: 0.8269 - val_loss: 0.3684 - val_accuracy: 0.8432\n",
      "Epoch 29/1000\n",
      "379/379 [==============================] - 12s 33ms/step - loss: 0.4082 - accuracy: 0.8255 - val_loss: 0.3644 - val_accuracy: 0.8498\n",
      "Epoch 30/1000\n",
      "379/379 [==============================] - 12s 32ms/step - loss: 0.3974 - accuracy: 0.8258 - val_loss: 0.3672 - val_accuracy: 0.8350\n",
      "Epoch 31/1000\n",
      "379/379 [==============================] - 12s 32ms/step - loss: 0.4017 - accuracy: 0.8202 - val_loss: 0.3639 - val_accuracy: 0.8498\n",
      "Epoch 32/1000\n",
      "379/379 [==============================] - 12s 31ms/step - loss: 0.3933 - accuracy: 0.8292 - val_loss: 0.3690 - val_accuracy: 0.8548\n"
     ]
    },
    {
     "name": "stderr",
     "output_type": "stream",
     "text": [
      "WARNING:absl:Found untraced functions such as lstm_cell_layer_call_fn, lstm_cell_layer_call_and_return_conditional_losses, lstm_cell_1_layer_call_fn, lstm_cell_1_layer_call_and_return_conditional_losses, lstm_cell_2_layer_call_fn while saving (showing 5 of 15). These functions will not be directly callable after loading.\n"
     ]
    },
    {
     "name": "stdout",
     "output_type": "stream",
     "text": [
      "INFO:tensorflow:Assets written to: SleppyModels-32\\assets\n"
     ]
    },
    {
     "name": "stderr",
     "output_type": "stream",
     "text": [
      "INFO:tensorflow:Assets written to: SleppyModels-32\\assets\n"
     ]
    },
    {
     "name": "stdout",
     "output_type": "stream",
     "text": [
      "Epoch 33/1000\n",
      "379/379 [==============================] - 12s 32ms/step - loss: 0.4114 - accuracy: 0.8122 - val_loss: 0.3644 - val_accuracy: 0.8581\n"
     ]
    },
    {
     "name": "stderr",
     "output_type": "stream",
     "text": [
      "WARNING:absl:Found untraced functions such as lstm_cell_layer_call_fn, lstm_cell_layer_call_and_return_conditional_losses, lstm_cell_1_layer_call_fn, lstm_cell_1_layer_call_and_return_conditional_losses, lstm_cell_2_layer_call_fn while saving (showing 5 of 15). These functions will not be directly callable after loading.\n"
     ]
    },
    {
     "name": "stdout",
     "output_type": "stream",
     "text": [
      "INFO:tensorflow:Assets written to: SleppyModels-33\\assets\n"
     ]
    },
    {
     "name": "stderr",
     "output_type": "stream",
     "text": [
      "INFO:tensorflow:Assets written to: SleppyModels-33\\assets\n"
     ]
    },
    {
     "name": "stdout",
     "output_type": "stream",
     "text": [
      "Epoch 34/1000\n",
      "379/379 [==============================] - 10s 27ms/step - loss: 0.4001 - accuracy: 0.8219 - val_loss: 0.3673 - val_accuracy: 0.8482\n",
      "Epoch 35/1000\n",
      "379/379 [==============================] - 11s 28ms/step - loss: 0.4107 - accuracy: 0.8236 - val_loss: 0.3630 - val_accuracy: 0.8482\n",
      "Epoch 36/1000\n",
      "379/379 [==============================] - 11s 28ms/step - loss: 0.4132 - accuracy: 0.8176 - val_loss: 0.3635 - val_accuracy: 0.8531\n",
      "Epoch 37/1000\n",
      "379/379 [==============================] - 10s 28ms/step - loss: 0.4158 - accuracy: 0.8161 - val_loss: 0.3583 - val_accuracy: 0.84985 \n",
      "Epoch 38/1000\n",
      "379/379 [==============================] - 11s 29ms/step - loss: 0.3826 - accuracy: 0.8421 - val_loss: 0.3772 - val_accuracy: 0.8366\n",
      "Epoch 39/1000\n",
      "379/379 [==============================] - 11s 28ms/step - loss: 0.3922 - accuracy: 0.8223 - val_loss: 0.3798 - val_accuracy: 0.8449\n",
      "Epoch 40/1000\n",
      "379/379 [==============================] - 11s 29ms/step - loss: 0.3896 - accuracy: 0.8318 - val_loss: 0.3563 - val_accuracy: 0.8515\n",
      "Epoch 41/1000\n",
      "379/379 [==============================] - 11s 30ms/step - loss: 0.3940 - accuracy: 0.8256 - val_loss: 0.3799 - val_accuracy: 0.8416\n",
      "Epoch 42/1000\n",
      "379/379 [==============================] - 11s 29ms/step - loss: 0.3970 - accuracy: 0.8160 - val_loss: 0.3677 - val_accuracy: 0.8399\n",
      "Epoch 43/1000\n",
      "379/379 [==============================] - 10s 27ms/step - loss: 0.3865 - accuracy: 0.8258 - val_loss: 0.4002 - val_accuracy: 0.8251\n",
      "Epoch 44/1000\n",
      "379/379 [==============================] - 11s 28ms/step - loss: 0.4017 - accuracy: 0.8312 - val_loss: 0.3600 - val_accuracy: 0.8630\n"
     ]
    },
    {
     "name": "stderr",
     "output_type": "stream",
     "text": [
      "WARNING:absl:Found untraced functions such as lstm_cell_layer_call_fn, lstm_cell_layer_call_and_return_conditional_losses, lstm_cell_1_layer_call_fn, lstm_cell_1_layer_call_and_return_conditional_losses, lstm_cell_2_layer_call_fn while saving (showing 5 of 15). These functions will not be directly callable after loading.\n"
     ]
    },
    {
     "name": "stdout",
     "output_type": "stream",
     "text": [
      "INFO:tensorflow:Assets written to: SleppyModels-44\\assets\n"
     ]
    },
    {
     "name": "stderr",
     "output_type": "stream",
     "text": [
      "INFO:tensorflow:Assets written to: SleppyModels-44\\assets\n"
     ]
    },
    {
     "name": "stdout",
     "output_type": "stream",
     "text": [
      "Epoch 45/1000\n",
      "379/379 [==============================] - 13s 33ms/step - loss: 0.3907 - accuracy: 0.8277 - val_loss: 0.3833 - val_accuracy: 0.8333\n",
      "Epoch 46/1000\n",
      "379/379 [==============================] - 13s 35ms/step - loss: 0.3963 - accuracy: 0.8273 - val_loss: 0.3599 - val_accuracy: 0.8350\n",
      "Epoch 47/1000\n",
      "379/379 [==============================] - 15s 38ms/step - loss: 0.3817 - accuracy: 0.8373 - val_loss: 0.3621 - val_accuracy: 0.8465\n",
      "Epoch 48/1000\n",
      "379/379 [==============================] - 15s 39ms/step - loss: 0.3955 - accuracy: 0.8235 - val_loss: 0.3626 - val_accuracy: 0.8564\n",
      "Epoch 49/1000\n",
      "379/379 [==============================] - 13s 34ms/step - loss: 0.4033 - accuracy: 0.8182 - val_loss: 0.3585 - val_accuracy: 0.8564\n",
      "Epoch 50/1000\n",
      "379/379 [==============================] - 13s 33ms/step - loss: 0.3817 - accuracy: 0.8306 - val_loss: 0.3654 - val_accuracy: 0.8482\n",
      "Epoch 51/1000\n",
      "379/379 [==============================] - 11s 30ms/step - loss: 0.3968 - accuracy: 0.8290 - val_loss: 0.3760 - val_accuracy: 0.8449\n",
      "Epoch 52/1000\n",
      "379/379 [==============================] - 11s 29ms/step - loss: 0.3916 - accuracy: 0.8315 - val_loss: 0.3628 - val_accuracy: 0.8383\n",
      "Epoch 53/1000\n",
      "379/379 [==============================] - 12s 32ms/step - loss: 0.4161 - accuracy: 0.8143 - val_loss: 0.3640 - val_accuracy: 0.8548\n",
      "Epoch 54/1000\n",
      "379/379 [==============================] - 11s 29ms/step - loss: 0.3940 - accuracy: 0.8275 - val_loss: 0.3555 - val_accuracy: 0.8432\n",
      "Epoch 55/1000\n",
      "379/379 [==============================] - 11s 30ms/step - loss: 0.4017 - accuracy: 0.8196 - val_loss: 0.3788 - val_accuracy: 0.8498\n",
      "Epoch 56/1000\n",
      "379/379 [==============================] - 11s 29ms/step - loss: 0.3832 - accuracy: 0.8354 - val_loss: 0.3581 - val_accuracy: 0.8548\n",
      "Epoch 57/1000\n",
      "379/379 [==============================] - 11s 30ms/step - loss: 0.3982 - accuracy: 0.8200 - val_loss: 0.3653 - val_accuracy: 0.8498\n",
      "Epoch 58/1000\n",
      "379/379 [==============================] - 11s 30ms/step - loss: 0.4023 - accuracy: 0.8304 - val_loss: 0.3596 - val_accuracy: 0.8399\n",
      "Epoch 59/1000\n",
      "379/379 [==============================] - 11s 29ms/step - loss: 0.3990 - accuracy: 0.8154 - val_loss: 0.3552 - val_accuracy: 0.8597\n",
      "Epoch 60/1000\n",
      "379/379 [==============================] - 11s 30ms/step - loss: 0.3898 - accuracy: 0.8343 - val_loss: 0.3725 - val_accuracy: 0.8333\n",
      "Epoch 61/1000\n",
      "379/379 [==============================] - 12s 30ms/step - loss: 0.3930 - accuracy: 0.8222 - val_loss: 0.3622 - val_accuracy: 0.8432\n",
      "Epoch 62/1000\n",
      "379/379 [==============================] - 12s 30ms/step - loss: 0.3906 - accuracy: 0.8313 - val_loss: 0.3821 - val_accuracy: 0.8350\n",
      "Epoch 63/1000\n",
      "379/379 [==============================] - 11s 30ms/step - loss: 0.3844 - accuracy: 0.8293 - val_loss: 0.3581 - val_accuracy: 0.8614\n",
      "Epoch 64/1000\n",
      "379/379 [==============================] - 12s 30ms/step - loss: 0.4079 - accuracy: 0.8192 - val_loss: 0.3604 - val_accuracy: 0.8482\n",
      "Epoch 65/1000\n",
      "379/379 [==============================] - 12s 30ms/step - loss: 0.3970 - accuracy: 0.8203 - val_loss: 0.3571 - val_accuracy: 0.8614- accuracy: 0.82\n",
      "Epoch 66/1000\n",
      "379/379 [==============================] - 12s 31ms/step - loss: 0.3957 - accuracy: 0.8287 - val_loss: 0.3562 - val_accuracy: 0.8614\n",
      "Epoch 67/1000\n",
      "379/379 [==============================] - 12s 31ms/step - loss: 0.3806 - accuracy: 0.8239 - val_loss: 0.3552 - val_accuracy: 0.8465\n",
      "Epoch 68/1000\n",
      "379/379 [==============================] - 12s 31ms/step - loss: 0.4128 - accuracy: 0.8186 - val_loss: 0.3505 - val_accuracy: 0.8597\n",
      "Epoch 69/1000\n",
      "379/379 [==============================] - 12s 32ms/step - loss: 0.3980 - accuracy: 0.8217 - val_loss: 0.3628 - val_accuracy: 0.8531\n",
      "Epoch 70/1000\n",
      "379/379 [==============================] - 12s 31ms/step - loss: 0.4049 - accuracy: 0.8201 - val_loss: 0.3495 - val_accuracy: 0.8614\n",
      "Epoch 71/1000\n",
      "379/379 [==============================] - 12s 31ms/step - loss: 0.3971 - accuracy: 0.8220 - val_loss: 0.3523 - val_accuracy: 0.8564\n",
      "Epoch 72/1000\n",
      "379/379 [==============================] - 12s 31ms/step - loss: 0.4053 - accuracy: 0.8158 - val_loss: 0.3477 - val_accuracy: 0.8614\n",
      "Epoch 73/1000\n",
      "379/379 [==============================] - 12s 31ms/step - loss: 0.3874 - accuracy: 0.8344 - val_loss: 0.3621 - val_accuracy: 0.8416\n",
      "Epoch 74/1000\n",
      "379/379 [==============================] - 12s 32ms/step - loss: 0.4048 - accuracy: 0.8197 - val_loss: 0.3562 - val_accuracy: 0.8416\n",
      "Epoch 75/1000\n",
      "379/379 [==============================] - 12s 33ms/step - loss: 0.4001 - accuracy: 0.8247 - val_loss: 0.3537 - val_accuracy: 0.8416\n",
      "Epoch 76/1000\n",
      "379/379 [==============================] - 12s 31ms/step - loss: 0.3830 - accuracy: 0.8239 - val_loss: 0.3482 - val_accuracy: 0.8630.381\n",
      "Epoch 77/1000\n",
      "379/379 [==============================] - 12s 31ms/step - loss: 0.3941 - accuracy: 0.8309 - val_loss: 0.3558 - val_accuracy: 0.8531\n",
      "Epoch 78/1000\n",
      "379/379 [==============================] - 12s 32ms/step - loss: 0.3893 - accuracy: 0.8223 - val_loss: 0.3499 - val_accuracy: 0.8548\n",
      "Epoch 79/1000\n",
      "379/379 [==============================] - 12s 30ms/step - loss: 0.3868 - accuracy: 0.8306 - val_loss: 0.3552 - val_accuracy: 0.8465\n",
      "Epoch 80/1000\n",
      "379/379 [==============================] - 13s 33ms/step - loss: 0.3851 - accuracy: 0.8192 - val_loss: 0.3598 - val_accuracy: 0.8531\n",
      "Epoch 81/1000\n",
      "379/379 [==============================] - 12s 30ms/step - loss: 0.3893 - accuracy: 0.8234 - val_loss: 0.3488 - val_accuracy: 0.8630\n",
      "Epoch 82/1000\n",
      "379/379 [==============================] - 12s 32ms/step - loss: 0.4041 - accuracy: 0.8195 - val_loss: 0.3538 - val_accuracy: 0.8416\n",
      "Epoch 83/1000\n",
      "379/379 [==============================] - 12s 31ms/step - loss: 0.3892 - accuracy: 0.8327 - val_loss: 0.3518 - val_accuracy: 0.8515\n",
      "Epoch 84/1000\n",
      "379/379 [==============================] - 11s 30ms/step - loss: 0.3927 - accuracy: 0.8296 - val_loss: 0.3541 - val_accuracy: 0.8449\n",
      "Epoch 85/1000\n",
      "379/379 [==============================] - 12s 32ms/step - loss: 0.3852 - accuracy: 0.8267 - val_loss: 0.3539 - val_accuracy: 0.8614\n",
      "Epoch 86/1000\n",
      "379/379 [==============================] - 12s 32ms/step - loss: 0.3854 - accuracy: 0.8276 - val_loss: 0.3528 - val_accuracy: 0.8663\n"
     ]
    },
    {
     "name": "stderr",
     "output_type": "stream",
     "text": [
      "WARNING:absl:Found untraced functions such as lstm_cell_layer_call_fn, lstm_cell_layer_call_and_return_conditional_losses, lstm_cell_1_layer_call_fn, lstm_cell_1_layer_call_and_return_conditional_losses, lstm_cell_2_layer_call_fn while saving (showing 5 of 15). These functions will not be directly callable after loading.\n"
     ]
    },
    {
     "name": "stdout",
     "output_type": "stream",
     "text": [
      "INFO:tensorflow:Assets written to: SleppyModels-86\\assets\n"
     ]
    },
    {
     "name": "stderr",
     "output_type": "stream",
     "text": [
      "INFO:tensorflow:Assets written to: SleppyModels-86\\assets\n"
     ]
    },
    {
     "name": "stdout",
     "output_type": "stream",
     "text": [
      "Epoch 87/1000\n",
      "379/379 [==============================] - 12s 33ms/step - loss: 0.3911 - accuracy: 0.8278 - val_loss: 0.3546 - val_accuracy: 0.8630\n",
      "Epoch 88/1000\n",
      "379/379 [==============================] - 12s 32ms/step - loss: 0.4018 - accuracy: 0.8258 - val_loss: 0.3476 - val_accuracy: 0.8548\n",
      "Epoch 89/1000\n",
      "379/379 [==============================] - 12s 31ms/step - loss: 0.3924 - accuracy: 0.8287 - val_loss: 0.3519 - val_accuracy: 0.8614\n",
      "Epoch 90/1000\n",
      "379/379 [==============================] - 12s 33ms/step - loss: 0.3874 - accuracy: 0.8358 - val_loss: 0.3485 - val_accuracy: 0.8449\n",
      "Epoch 91/1000\n",
      "379/379 [==============================] - 12s 32ms/step - loss: 0.3734 - accuracy: 0.8262 - val_loss: 0.3573 - val_accuracy: 0.8432\n",
      "Epoch 92/1000\n",
      "379/379 [==============================] - 12s 32ms/step - loss: 0.3836 - accuracy: 0.8287 - val_loss: 0.3476 - val_accuracy: 0.8548\n",
      "Epoch 93/1000\n",
      "379/379 [==============================] - 14s 37ms/step - loss: 0.3792 - accuracy: 0.8380 - val_loss: 0.3702 - val_accuracy: 0.8399\n",
      "Epoch 94/1000\n",
      "379/379 [==============================] - 12s 31ms/step - loss: 0.3979 - accuracy: 0.8211 - val_loss: 0.3481 - val_accuracy: 0.8515\n",
      "Epoch 95/1000\n",
      "379/379 [==============================] - 12s 32ms/step - loss: 0.3683 - accuracy: 0.8319 - val_loss: 0.3501 - val_accuracy: 0.8614\n",
      "Epoch 96/1000\n",
      "379/379 [==============================] - 12s 33ms/step - loss: 0.3768 - accuracy: 0.8343 - val_loss: 0.3459 - val_accuracy: 0.8597\n",
      "Epoch 97/1000\n",
      "379/379 [==============================] - 13s 34ms/step - loss: 0.3788 - accuracy: 0.8339 - val_loss: 0.3549 - val_accuracy: 0.8548\n",
      "Epoch 98/1000\n",
      "379/379 [==============================] - 13s 35ms/step - loss: 0.3969 - accuracy: 0.8183 - val_loss: 0.3492 - val_accuracy: 0.8498\n",
      "Epoch 99/1000\n",
      "379/379 [==============================] - 12s 31ms/step - loss: 0.3923 - accuracy: 0.8208 - val_loss: 0.3488 - val_accuracy: 0.8597\n",
      "Epoch 100/1000\n",
      "379/379 [==============================] - 12s 32ms/step - loss: 0.3895 - accuracy: 0.8254 - val_loss: 0.3715 - val_accuracy: 0.8300\n",
      "Epoch 101/1000\n",
      "379/379 [==============================] - 12s 33ms/step - loss: 0.3844 - accuracy: 0.8253 - val_loss: 0.3452 - val_accuracy: 0.8515\n",
      "Epoch 102/1000\n",
      "379/379 [==============================] - 12s 32ms/step - loss: 0.3872 - accuracy: 0.8280 - val_loss: 0.3506 - val_accuracy: 0.8515\n",
      "Epoch 103/1000\n",
      "379/379 [==============================] - 12s 33ms/step - loss: 0.3847 - accuracy: 0.8254 - val_loss: 0.4135 - val_accuracy: 0.8135\n",
      "Epoch 104/1000\n",
      "379/379 [==============================] - 12s 32ms/step - loss: 0.3869 - accuracy: 0.8247 - val_loss: 0.3527 - val_accuracy: 0.8614\n",
      "Epoch 105/1000\n",
      "379/379 [==============================] - 13s 34ms/step - loss: 0.3957 - accuracy: 0.8212 - val_loss: 0.3500 - val_accuracy: 0.8581\n",
      "Epoch 106/1000\n",
      "379/379 [==============================] - 14s 36ms/step - loss: 0.3730 - accuracy: 0.8410 - val_loss: 0.3488 - val_accuracy: 0.8564\n",
      "Epoch 107/1000\n",
      "379/379 [==============================] - 12s 32ms/step - loss: 0.3858 - accuracy: 0.8302 - val_loss: 0.3465 - val_accuracy: 0.8498\n",
      "Epoch 108/1000\n",
      "379/379 [==============================] - 12s 32ms/step - loss: 0.3875 - accuracy: 0.8261 - val_loss: 0.3486 - val_accuracy: 0.8498\n",
      "Epoch 109/1000\n",
      "379/379 [==============================] - 12s 32ms/step - loss: 0.3855 - accuracy: 0.8327 - val_loss: 0.3457 - val_accuracy: 0.8548\n",
      "Epoch 110/1000\n",
      "379/379 [==============================] - 12s 33ms/step - loss: 0.3673 - accuracy: 0.8438 - val_loss: 0.3513 - val_accuracy: 0.8465\n",
      "Epoch 111/1000\n",
      "379/379 [==============================] - 12s 33ms/step - loss: 0.3855 - accuracy: 0.8279 - val_loss: 0.3435 - val_accuracy: 0.8597\n",
      "Epoch 112/1000\n",
      "379/379 [==============================] - 12s 33ms/step - loss: 0.3878 - accuracy: 0.8235 - val_loss: 0.3439 - val_accuracy: 0.8449\n",
      "Epoch 113/1000\n",
      "379/379 [==============================] - 12s 33ms/step - loss: 0.3931 - accuracy: 0.8270 - val_loss: 0.3408 - val_accuracy: 0.8482\n",
      "Epoch 114/1000\n",
      "379/379 [==============================] - 12s 32ms/step - loss: 0.3734 - accuracy: 0.8346 - val_loss: 0.3392 - val_accuracy: 0.8630\n",
      "Epoch 115/1000\n",
      "379/379 [==============================] - 12s 32ms/step - loss: 0.3773 - accuracy: 0.8311 - val_loss: 0.3456 - val_accuracy: 0.8614\n",
      "Epoch 116/1000\n",
      "379/379 [==============================] - 13s 34ms/step - loss: 0.3970 - accuracy: 0.8297 - val_loss: 0.3392 - val_accuracy: 0.8597\n",
      "Epoch 117/1000\n",
      "379/379 [==============================] - 13s 33ms/step - loss: 0.3811 - accuracy: 0.8185 - val_loss: 0.3383 - val_accuracy: 0.8614\n",
      "Epoch 118/1000\n",
      "379/379 [==============================] - 13s 34ms/step - loss: 0.3912 - accuracy: 0.8260 - val_loss: 0.3377 - val_accuracy: 0.8597\n",
      "Epoch 119/1000\n",
      "379/379 [==============================] - 13s 33ms/step - loss: 0.3856 - accuracy: 0.8291 - val_loss: 0.3447 - val_accuracy: 0.8482 0.385\n",
      "Epoch 120/1000\n",
      "379/379 [==============================] - 12s 33ms/step - loss: 0.3807 - accuracy: 0.8319 - val_loss: 0.3403 - val_accuracy: 0.8630cy\n",
      "Epoch 121/1000\n",
      "379/379 [==============================] - 13s 34ms/step - loss: 0.4020 - accuracy: 0.8159 - val_loss: 0.3390 - val_accuracy: 0.8597\n",
      "Epoch 122/1000\n",
      "379/379 [==============================] - 13s 33ms/step - loss: 0.3683 - accuracy: 0.8357 - val_loss: 0.3589 - val_accuracy: 0.8432\n",
      "Epoch 123/1000\n",
      "379/379 [==============================] - 13s 34ms/step - loss: 0.3759 - accuracy: 0.8364 - val_loss: 0.3490 - val_accuracy: 0.8465\n",
      "Epoch 124/1000\n",
      "379/379 [==============================] - 12s 33ms/step - loss: 0.3933 - accuracy: 0.8211 - val_loss: 0.3375 - val_accuracy: 0.8548\n",
      "Epoch 125/1000\n",
      "379/379 [==============================] - 13s 33ms/step - loss: 0.3832 - accuracy: 0.8275 - val_loss: 0.3446 - val_accuracy: 0.8498\n",
      "Epoch 126/1000\n",
      "379/379 [==============================] - 13s 34ms/step - loss: 0.3630 - accuracy: 0.8339 - val_loss: 0.3463 - val_accuracy: 0.8647\n",
      "Epoch 127/1000\n",
      "379/379 [==============================] - 12s 32ms/step - loss: 0.3923 - accuracy: 0.8224 - val_loss: 0.3405 - val_accuracy: 0.8465\n",
      "Epoch 128/1000\n",
      "379/379 [==============================] - 13s 33ms/step - loss: 0.3725 - accuracy: 0.8291 - val_loss: 0.3529 - val_accuracy: 0.8482\n",
      "Epoch 129/1000\n",
      "379/379 [==============================] - 13s 33ms/step - loss: 0.3805 - accuracy: 0.8282 - val_loss: 0.3396 - val_accuracy: 0.8449\n",
      "Epoch 130/1000\n",
      "379/379 [==============================] - 12s 32ms/step - loss: 0.3889 - accuracy: 0.8275 - val_loss: 0.3329 - val_accuracy: 0.8581\n",
      "Epoch 131/1000\n",
      "379/379 [==============================] - 13s 34ms/step - loss: 0.3715 - accuracy: 0.8311 - val_loss: 0.3341 - val_accuracy: 0.8531\n",
      "Epoch 132/1000\n",
      "379/379 [==============================] - 12s 32ms/step - loss: 0.3994 - accuracy: 0.8333 - val_loss: 0.3322 - val_accuracy: 0.8663\n",
      "Epoch 133/1000\n",
      "379/379 [==============================] - 12s 32ms/step - loss: 0.3780 - accuracy: 0.8311 - val_loss: 0.3306 - val_accuracy: 0.8630\n",
      "Epoch 134/1000\n",
      "379/379 [==============================] - 13s 34ms/step - loss: 0.3865 - accuracy: 0.8226 - val_loss: 0.3514 - val_accuracy: 0.8482\n",
      "Epoch 135/1000\n",
      "379/379 [==============================] - 13s 34ms/step - loss: 0.3892 - accuracy: 0.8220 - val_loss: 0.3326 - val_accuracy: 0.8614\n",
      "Epoch 136/1000\n",
      "379/379 [==============================] - 13s 34ms/step - loss: 0.3765 - accuracy: 0.8283 - val_loss: 0.3309 - val_accuracy: 0.8482\n",
      "Epoch 137/1000\n",
      "379/379 [==============================] - 12s 32ms/step - loss: 0.3792 - accuracy: 0.8405 - val_loss: 0.3394 - val_accuracy: 0.8498\n",
      "Epoch 138/1000\n",
      "379/379 [==============================] - 12s 33ms/step - loss: 0.3745 - accuracy: 0.8382 - val_loss: 0.3346 - val_accuracy: 0.8564\n",
      "Epoch 139/1000\n",
      "379/379 [==============================] - 13s 34ms/step - loss: 0.3719 - accuracy: 0.8378 - val_loss: 0.3452 - val_accuracy: 0.8465\n",
      "Epoch 140/1000\n",
      "379/379 [==============================] - 12s 33ms/step - loss: 0.3810 - accuracy: 0.8345 - val_loss: 0.3425 - val_accuracy: 0.8614\n",
      "Epoch 141/1000\n",
      "379/379 [==============================] - 13s 34ms/step - loss: 0.3716 - accuracy: 0.8301 - val_loss: 0.3336 - val_accuracy: 0.8548\n",
      "Epoch 142/1000\n"
     ]
    },
    {
     "name": "stdout",
     "output_type": "stream",
     "text": [
      "379/379 [==============================] - 12s 32ms/step - loss: 0.3840 - accuracy: 0.8311 - val_loss: 0.3316 - val_accuracy: 0.8548\n",
      "Epoch 143/1000\n",
      "379/379 [==============================] - 12s 31ms/step - loss: 0.3756 - accuracy: 0.8348 - val_loss: 0.3328 - val_accuracy: 0.8581\n",
      "Epoch 144/1000\n",
      "379/379 [==============================] - 12s 33ms/step - loss: 0.3777 - accuracy: 0.8332 - val_loss: 0.3356 - val_accuracy: 0.8630\n",
      "Epoch 145/1000\n",
      "379/379 [==============================] - 12s 31ms/step - loss: 0.3804 - accuracy: 0.8308 - val_loss: 0.3616 - val_accuracy: 0.8449\n",
      "Epoch 146/1000\n",
      "379/379 [==============================] - 12s 32ms/step - loss: 0.3860 - accuracy: 0.8294 - val_loss: 0.3345 - val_accuracy: 0.8531\n",
      "Epoch 147/1000\n",
      "379/379 [==============================] - 12s 31ms/step - loss: 0.3784 - accuracy: 0.8305 - val_loss: 0.3312 - val_accuracy: 0.8581\n",
      "Epoch 148/1000\n",
      "379/379 [==============================] - 12s 31ms/step - loss: 0.3803 - accuracy: 0.8308 - val_loss: 0.3278 - val_accuracy: 0.8696\n"
     ]
    },
    {
     "name": "stderr",
     "output_type": "stream",
     "text": [
      "WARNING:absl:Found untraced functions such as lstm_cell_layer_call_fn, lstm_cell_layer_call_and_return_conditional_losses, lstm_cell_1_layer_call_fn, lstm_cell_1_layer_call_and_return_conditional_losses, lstm_cell_2_layer_call_fn while saving (showing 5 of 15). These functions will not be directly callable after loading.\n"
     ]
    },
    {
     "name": "stdout",
     "output_type": "stream",
     "text": [
      "INFO:tensorflow:Assets written to: SleppyModels-148\\assets\n"
     ]
    },
    {
     "name": "stderr",
     "output_type": "stream",
     "text": [
      "INFO:tensorflow:Assets written to: SleppyModels-148\\assets\n"
     ]
    },
    {
     "name": "stdout",
     "output_type": "stream",
     "text": [
      "Epoch 149/1000\n",
      "379/379 [==============================] - 13s 33ms/step - loss: 0.3830 - accuracy: 0.8373 - val_loss: 0.3471 - val_accuracy: 0.8531\n",
      "Epoch 150/1000\n",
      "379/379 [==============================] - 12s 33ms/step - loss: 0.3915 - accuracy: 0.8304 - val_loss: 0.3276 - val_accuracy: 0.8614\n",
      "Epoch 151/1000\n",
      "379/379 [==============================] - 14s 36ms/step - loss: 0.3780 - accuracy: 0.8285 - val_loss: 0.3291 - val_accuracy: 0.8531\n",
      "Epoch 152/1000\n",
      "379/379 [==============================] - 13s 33ms/step - loss: 0.3661 - accuracy: 0.8424 - val_loss: 0.3284 - val_accuracy: 0.8548\n",
      "Epoch 153/1000\n",
      "379/379 [==============================] - 13s 33ms/step - loss: 0.3719 - accuracy: 0.8360 - val_loss: 0.3308 - val_accuracy: 0.8663\n",
      "Epoch 154/1000\n",
      "379/379 [==============================] - 13s 33ms/step - loss: 0.3686 - accuracy: 0.8317 - val_loss: 0.3233 - val_accuracy: 0.8597\n",
      "Epoch 155/1000\n",
      "379/379 [==============================] - 13s 34ms/step - loss: 0.3670 - accuracy: 0.8419 - val_loss: 0.3281 - val_accuracy: 0.8564\n",
      "Epoch 156/1000\n",
      "379/379 [==============================] - 14s 36ms/step - loss: 0.3625 - accuracy: 0.8400 - val_loss: 0.3292 - val_accuracy: 0.8564\n",
      "Epoch 157/1000\n",
      "379/379 [==============================] - 13s 33ms/step - loss: 0.3565 - accuracy: 0.8406 - val_loss: 0.3289 - val_accuracy: 0.8531\n",
      "Epoch 158/1000\n",
      "379/379 [==============================] - 13s 33ms/step - loss: 0.3668 - accuracy: 0.8424 - val_loss: 0.3330 - val_accuracy: 0.8548\n",
      "Epoch 159/1000\n",
      "379/379 [==============================] - 12s 33ms/step - loss: 0.3826 - accuracy: 0.8276 - val_loss: 0.3345 - val_accuracy: 0.8564\n",
      "Epoch 160/1000\n",
      "379/379 [==============================] - 12s 32ms/step - loss: 0.3630 - accuracy: 0.8337 - val_loss: 0.3241 - val_accuracy: 0.8647\n",
      "Epoch 161/1000\n",
      "379/379 [==============================] - 13s 34ms/step - loss: 0.3670 - accuracy: 0.8359 - val_loss: 0.3374 - val_accuracy: 0.8548\n",
      "Epoch 162/1000\n",
      "379/379 [==============================] - 12s 32ms/step - loss: 0.3738 - accuracy: 0.8325 - val_loss: 0.3300 - val_accuracy: 0.8647\n",
      "Epoch 163/1000\n",
      "379/379 [==============================] - 12s 33ms/step - loss: 0.3794 - accuracy: 0.8290 - val_loss: 0.3290 - val_accuracy: 0.8531\n",
      "Epoch 164/1000\n",
      "379/379 [==============================] - 12s 33ms/step - loss: 0.3616 - accuracy: 0.8476 - val_loss: 0.3320 - val_accuracy: 0.8531\n",
      "Epoch 165/1000\n",
      "379/379 [==============================] - 12s 32ms/step - loss: 0.3564 - accuracy: 0.8449 - val_loss: 0.3244 - val_accuracy: 0.8548\n",
      "Epoch 166/1000\n",
      "379/379 [==============================] - 13s 34ms/step - loss: 0.3654 - accuracy: 0.8404 - val_loss: 0.3196 - val_accuracy: 0.8581\n",
      "Epoch 167/1000\n",
      "379/379 [==============================] - 12s 32ms/step - loss: 0.3936 - accuracy: 0.8199 - val_loss: 0.3237 - val_accuracy: 0.8581\n",
      "Epoch 168/1000\n",
      "379/379 [==============================] - 13s 33ms/step - loss: 0.3732 - accuracy: 0.8341 - val_loss: 0.3226 - val_accuracy: 0.8564\n",
      "Epoch 169/1000\n",
      "379/379 [==============================] - 12s 33ms/step - loss: 0.3525 - accuracy: 0.8380 - val_loss: 0.3219 - val_accuracy: 0.8614\n",
      "Epoch 170/1000\n",
      "379/379 [==============================] - 13s 33ms/step - loss: 0.3312 - accuracy: 0.8590 - val_loss: 0.3324 - val_accuracy: 0.8564\n",
      "Epoch 171/1000\n",
      "379/379 [==============================] - 13s 34ms/step - loss: 0.3572 - accuracy: 0.8444 - val_loss: 0.3245 - val_accuracy: 0.8564\n",
      "Epoch 172/1000\n",
      "379/379 [==============================] - 12s 32ms/step - loss: 0.3537 - accuracy: 0.8377 - val_loss: 0.3563 - val_accuracy: 0.8366\n",
      "Epoch 173/1000\n",
      "379/379 [==============================] - 12s 33ms/step - loss: 0.3505 - accuracy: 0.8472 - val_loss: 0.3168 - val_accuracy: 0.8696\n",
      "Epoch 174/1000\n",
      "379/379 [==============================] - 13s 33ms/step - loss: 0.3550 - accuracy: 0.8409 - val_loss: 0.3131 - val_accuracy: 0.8696\n",
      "Epoch 175/1000\n",
      "379/379 [==============================] - 12s 32ms/step - loss: 0.3387 - accuracy: 0.8522 - val_loss: 0.3156 - val_accuracy: 0.8713\n"
     ]
    },
    {
     "name": "stderr",
     "output_type": "stream",
     "text": [
      "WARNING:absl:Found untraced functions such as lstm_cell_layer_call_fn, lstm_cell_layer_call_and_return_conditional_losses, lstm_cell_1_layer_call_fn, lstm_cell_1_layer_call_and_return_conditional_losses, lstm_cell_2_layer_call_fn while saving (showing 5 of 15). These functions will not be directly callable after loading.\n"
     ]
    },
    {
     "name": "stdout",
     "output_type": "stream",
     "text": [
      "INFO:tensorflow:Assets written to: SleppyModels-175\\assets\n"
     ]
    },
    {
     "name": "stderr",
     "output_type": "stream",
     "text": [
      "INFO:tensorflow:Assets written to: SleppyModels-175\\assets\n"
     ]
    },
    {
     "name": "stdout",
     "output_type": "stream",
     "text": [
      "Epoch 176/1000\n",
      "379/379 [==============================] - 13s 33ms/step - loss: 0.3640 - accuracy: 0.8486 - val_loss: 0.3155 - val_accuracy: 0.8696\n",
      "Epoch 177/1000\n",
      "379/379 [==============================] - 13s 33ms/step - loss: 0.3637 - accuracy: 0.8366 - val_loss: 0.3244 - val_accuracy: 0.8581 0.3637 - accu\n",
      "Epoch 178/1000\n",
      "379/379 [==============================] - 13s 33ms/step - loss: 0.3829 - accuracy: 0.8346 - val_loss: 0.3353 - val_accuracy: 0.8597\n",
      "Epoch 179/1000\n",
      "379/379 [==============================] - 12s 32ms/step - loss: 0.3506 - accuracy: 0.8552 - val_loss: 0.3201 - val_accuracy: 0.8581\n",
      "Epoch 180/1000\n",
      "379/379 [==============================] - 13s 33ms/step - loss: 0.3555 - accuracy: 0.8417 - val_loss: 0.3171 - val_accuracy: 0.8729\n"
     ]
    },
    {
     "name": "stderr",
     "output_type": "stream",
     "text": [
      "WARNING:absl:Found untraced functions such as lstm_cell_layer_call_fn, lstm_cell_layer_call_and_return_conditional_losses, lstm_cell_1_layer_call_fn, lstm_cell_1_layer_call_and_return_conditional_losses, lstm_cell_2_layer_call_fn while saving (showing 5 of 15). These functions will not be directly callable after loading.\n"
     ]
    },
    {
     "name": "stdout",
     "output_type": "stream",
     "text": [
      "INFO:tensorflow:Assets written to: SleppyModels-180\\assets\n"
     ]
    },
    {
     "name": "stderr",
     "output_type": "stream",
     "text": [
      "INFO:tensorflow:Assets written to: SleppyModels-180\\assets\n"
     ]
    },
    {
     "name": "stdout",
     "output_type": "stream",
     "text": [
      "Epoch 181/1000\n",
      "379/379 [==============================] - 13s 35ms/step - loss: 0.3575 - accuracy: 0.8377 - val_loss: 0.3141 - val_accuracy: 0.8729\n",
      "Epoch 182/1000\n",
      "379/379 [==============================] - 13s 34ms/step - loss: 0.3703 - accuracy: 0.8295 - val_loss: 0.3165 - val_accuracy: 0.8564\n",
      "Epoch 183/1000\n",
      "379/379 [==============================] - 13s 34ms/step - loss: 0.3449 - accuracy: 0.8422 - val_loss: 0.3102 - val_accuracy: 0.8746\n"
     ]
    },
    {
     "name": "stderr",
     "output_type": "stream",
     "text": [
      "WARNING:absl:Found untraced functions such as lstm_cell_layer_call_fn, lstm_cell_layer_call_and_return_conditional_losses, lstm_cell_1_layer_call_fn, lstm_cell_1_layer_call_and_return_conditional_losses, lstm_cell_2_layer_call_fn while saving (showing 5 of 15). These functions will not be directly callable after loading.\n"
     ]
    },
    {
     "name": "stdout",
     "output_type": "stream",
     "text": [
      "INFO:tensorflow:Assets written to: SleppyModels-183\\assets\n"
     ]
    },
    {
     "name": "stderr",
     "output_type": "stream",
     "text": [
      "INFO:tensorflow:Assets written to: SleppyModels-183\\assets\n"
     ]
    },
    {
     "name": "stdout",
     "output_type": "stream",
     "text": [
      "Epoch 184/1000\n",
      "379/379 [==============================] - 13s 35ms/step - loss: 0.3350 - accuracy: 0.8492 - val_loss: 0.3136 - val_accuracy: 0.8647\n",
      "Epoch 185/1000\n",
      "379/379 [==============================] - 13s 35ms/step - loss: 0.3596 - accuracy: 0.8453 - val_loss: 0.3217 - val_accuracy: 0.8531\n",
      "Epoch 186/1000\n",
      "379/379 [==============================] - 13s 35ms/step - loss: 0.3491 - accuracy: 0.8404 - val_loss: 0.3126 - val_accuracy: 0.8713\n",
      "Epoch 187/1000\n",
      "379/379 [==============================] - 14s 36ms/step - loss: 0.3714 - accuracy: 0.8300 - val_loss: 0.3084 - val_accuracy: 0.8680\n",
      "Epoch 188/1000\n",
      "379/379 [==============================] - 13s 35ms/step - loss: 0.3582 - accuracy: 0.8333 - val_loss: 0.3054 - val_accuracy: 0.8729\n",
      "Epoch 189/1000\n",
      "379/379 [==============================] - 13s 34ms/step - loss: 0.3368 - accuracy: 0.8542 - val_loss: 0.3097 - val_accuracy: 0.8729\n",
      "Epoch 190/1000\n",
      "379/379 [==============================] - 13s 35ms/step - loss: 0.3511 - accuracy: 0.8477 - val_loss: 0.3076 - val_accuracy: 0.8729\n",
      "Epoch 191/1000\n",
      "379/379 [==============================] - 13s 35ms/step - loss: 0.3494 - accuracy: 0.8469 - val_loss: 0.3042 - val_accuracy: 0.8762\n"
     ]
    },
    {
     "name": "stderr",
     "output_type": "stream",
     "text": [
      "WARNING:absl:Found untraced functions such as lstm_cell_layer_call_fn, lstm_cell_layer_call_and_return_conditional_losses, lstm_cell_1_layer_call_fn, lstm_cell_1_layer_call_and_return_conditional_losses, lstm_cell_2_layer_call_fn while saving (showing 5 of 15). These functions will not be directly callable after loading.\n"
     ]
    },
    {
     "name": "stdout",
     "output_type": "stream",
     "text": [
      "INFO:tensorflow:Assets written to: SleppyModels-191\\assets\n"
     ]
    },
    {
     "name": "stderr",
     "output_type": "stream",
     "text": [
      "INFO:tensorflow:Assets written to: SleppyModels-191\\assets\n"
     ]
    },
    {
     "name": "stdout",
     "output_type": "stream",
     "text": [
      "Epoch 192/1000\n",
      "379/379 [==============================] - 14s 36ms/step - loss: 0.3582 - accuracy: 0.8394 - val_loss: 0.3070 - val_accuracy: 0.8713\n",
      "Epoch 193/1000\n",
      "379/379 [==============================] - 13s 35ms/step - loss: 0.3506 - accuracy: 0.8483 - val_loss: 0.3240 - val_accuracy: 0.8647\n",
      "Epoch 194/1000\n",
      "379/379 [==============================] - 13s 35ms/step - loss: 0.3781 - accuracy: 0.8267 - val_loss: 0.3227 - val_accuracy: 0.8746\n",
      "Epoch 195/1000\n",
      "379/379 [==============================] - 14s 36ms/step - loss: 0.3664 - accuracy: 0.8411 - val_loss: 0.3089 - val_accuracy: 0.8696\n",
      "Epoch 196/1000\n",
      "379/379 [==============================] - 13s 35ms/step - loss: 0.3536 - accuracy: 0.8454 - val_loss: 0.3098 - val_accuracy: 0.8581\n",
      "Epoch 197/1000\n",
      "379/379 [==============================] - 14s 36ms/step - loss: 0.3565 - accuracy: 0.8437 - val_loss: 0.3115 - val_accuracy: 0.8680\n",
      "Epoch 198/1000\n",
      "379/379 [==============================] - 13s 35ms/step - loss: 0.3593 - accuracy: 0.8423 - val_loss: 0.3050 - val_accuracy: 0.8696\n",
      "Epoch 199/1000\n",
      "379/379 [==============================] - 13s 35ms/step - loss: 0.3780 - accuracy: 0.8252 - val_loss: 0.3019 - val_accuracy: 0.8729\n",
      "Epoch 200/1000\n",
      "379/379 [==============================] - 13s 35ms/step - loss: 0.3520 - accuracy: 0.8322 - val_loss: 0.3027 - val_accuracy: 0.8729\n",
      "Epoch 201/1000\n",
      "379/379 [==============================] - 14s 36ms/step - loss: 0.3483 - accuracy: 0.8434 - val_loss: 0.3033 - val_accuracy: 0.8647\n",
      "Epoch 202/1000\n",
      "379/379 [==============================] - 15s 38ms/step - loss: 0.3548 - accuracy: 0.8459 - val_loss: 0.3009 - val_accuracy: 0.8779\n"
     ]
    },
    {
     "name": "stderr",
     "output_type": "stream",
     "text": [
      "WARNING:absl:Found untraced functions such as lstm_cell_layer_call_fn, lstm_cell_layer_call_and_return_conditional_losses, lstm_cell_1_layer_call_fn, lstm_cell_1_layer_call_and_return_conditional_losses, lstm_cell_2_layer_call_fn while saving (showing 5 of 15). These functions will not be directly callable after loading.\n"
     ]
    },
    {
     "name": "stdout",
     "output_type": "stream",
     "text": [
      "INFO:tensorflow:Assets written to: SleppyModels-202\\assets\n"
     ]
    },
    {
     "name": "stderr",
     "output_type": "stream",
     "text": [
      "INFO:tensorflow:Assets written to: SleppyModels-202\\assets\n"
     ]
    },
    {
     "name": "stdout",
     "output_type": "stream",
     "text": [
      "Epoch 203/1000\n",
      "379/379 [==============================] - 13s 34ms/step - loss: 0.3494 - accuracy: 0.8525 - val_loss: 0.3124 - val_accuracy: 0.8647\n",
      "Epoch 204/1000\n",
      "379/379 [==============================] - 13s 34ms/step - loss: 0.3476 - accuracy: 0.8449 - val_loss: 0.3012 - val_accuracy: 0.8696\n",
      "Epoch 205/1000\n",
      "379/379 [==============================] - 13s 34ms/step - loss: 0.3591 - accuracy: 0.8451 - val_loss: 0.3042 - val_accuracy: 0.8647\n",
      "Epoch 206/1000\n",
      "379/379 [==============================] - 13s 35ms/step - loss: 0.3307 - accuracy: 0.8588 - val_loss: 0.3036 - val_accuracy: 0.8713\n",
      "Epoch 207/1000\n",
      "379/379 [==============================] - 15s 40ms/step - loss: 0.3503 - accuracy: 0.8428 - val_loss: 0.2977 - val_accuracy: 0.8828\n"
     ]
    },
    {
     "name": "stderr",
     "output_type": "stream",
     "text": [
      "WARNING:absl:Found untraced functions such as lstm_cell_layer_call_fn, lstm_cell_layer_call_and_return_conditional_losses, lstm_cell_1_layer_call_fn, lstm_cell_1_layer_call_and_return_conditional_losses, lstm_cell_2_layer_call_fn while saving (showing 5 of 15). These functions will not be directly callable after loading.\n"
     ]
    },
    {
     "name": "stdout",
     "output_type": "stream",
     "text": [
      "INFO:tensorflow:Assets written to: SleppyModels-207\\assets\n"
     ]
    },
    {
     "name": "stderr",
     "output_type": "stream",
     "text": [
      "INFO:tensorflow:Assets written to: SleppyModels-207\\assets\n"
     ]
    },
    {
     "name": "stdout",
     "output_type": "stream",
     "text": [
      "Epoch 208/1000\n",
      "379/379 [==============================] - 13s 35ms/step - loss: 0.3391 - accuracy: 0.8466 - val_loss: 0.2993 - val_accuracy: 0.8597\n",
      "Epoch 209/1000\n",
      "379/379 [==============================] - 13s 33ms/step - loss: 0.3437 - accuracy: 0.8457 - val_loss: 0.3026 - val_accuracy: 0.8614\n",
      "Epoch 210/1000\n",
      "379/379 [==============================] - 13s 33ms/step - loss: 0.3218 - accuracy: 0.8644 - val_loss: 0.3111 - val_accuracy: 0.8696\n",
      "Epoch 211/1000\n",
      "379/379 [==============================] - 13s 34ms/step - loss: 0.3557 - accuracy: 0.8450 - val_loss: 0.2982 - val_accuracy: 0.8729\n",
      "Epoch 212/1000\n",
      "379/379 [==============================] - 13s 33ms/step - loss: 0.3506 - accuracy: 0.8366 - val_loss: 0.3076 - val_accuracy: 0.8597\n",
      "Epoch 213/1000\n",
      "379/379 [==============================] - 13s 35ms/step - loss: 0.3358 - accuracy: 0.8537 - val_loss: 0.3141 - val_accuracy: 0.8597\n",
      "Epoch 214/1000\n",
      "379/379 [==============================] - 13s 34ms/step - loss: 0.3281 - accuracy: 0.8553 - val_loss: 0.3069 - val_accuracy: 0.8729\n",
      "Epoch 215/1000\n",
      "379/379 [==============================] - 13s 35ms/step - loss: 0.3302 - accuracy: 0.8496 - val_loss: 0.2958 - val_accuracy: 0.8713\n",
      "Epoch 216/1000\n",
      "379/379 [==============================] - 13s 34ms/step - loss: 0.3277 - accuracy: 0.8596 - val_loss: 0.3025 - val_accuracy: 0.8746\n",
      "Epoch 217/1000\n",
      "379/379 [==============================] - 13s 35ms/step - loss: 0.3372 - accuracy: 0.8531 - val_loss: 0.3055 - val_accuracy: 0.8614\n",
      "Epoch 218/1000\n",
      "379/379 [==============================] - 13s 35ms/step - loss: 0.3366 - accuracy: 0.8494 - val_loss: 0.3059 - val_accuracy: 0.8680\n",
      "Epoch 219/1000\n",
      "379/379 [==============================] - 13s 34ms/step - loss: 0.3385 - accuracy: 0.8493 - val_loss: 0.3013 - val_accuracy: 0.8597\n",
      "Epoch 220/1000\n",
      "379/379 [==============================] - 13s 34ms/step - loss: 0.3289 - accuracy: 0.8508 - val_loss: 0.2968 - val_accuracy: 0.8746\n",
      "Epoch 221/1000\n",
      "379/379 [==============================] - 14s 36ms/step - loss: 0.3389 - accuracy: 0.8476 - val_loss: 0.3102 - val_accuracy: 0.8630\n",
      "Epoch 222/1000\n",
      "379/379 [==============================] - 13s 35ms/step - loss: 0.3332 - accuracy: 0.8566 - val_loss: 0.2986 - val_accuracy: 0.8696\n",
      "Epoch 223/1000\n",
      "379/379 [==============================] - 13s 35ms/step - loss: 0.3413 - accuracy: 0.8473 - val_loss: 0.2948 - val_accuracy: 0.8713\n",
      "Epoch 224/1000\n",
      "379/379 [==============================] - 13s 35ms/step - loss: 0.3452 - accuracy: 0.8500 - val_loss: 0.3018 - val_accuracy: 0.8630\n",
      "Epoch 225/1000\n",
      "379/379 [==============================] - 13s 35ms/step - loss: 0.3419 - accuracy: 0.8519 - val_loss: 0.2883 - val_accuracy: 0.8828\n",
      "Epoch 226/1000\n",
      "379/379 [==============================] - 14s 36ms/step - loss: 0.3334 - accuracy: 0.8450 - val_loss: 0.2919 - val_accuracy: 0.8779\n",
      "Epoch 227/1000\n",
      "379/379 [==============================] - 14s 36ms/step - loss: 0.3279 - accuracy: 0.8495 - val_loss: 0.2952 - val_accuracy: 0.8828\n",
      "Epoch 228/1000\n",
      "379/379 [==============================] - 15s 39ms/step - loss: 0.3286 - accuracy: 0.8444 - val_loss: 0.2926 - val_accuracy: 0.8729\n",
      "Epoch 229/1000\n",
      "379/379 [==============================] - 15s 40ms/step - loss: 0.3320 - accuracy: 0.8479 - val_loss: 0.3000 - val_accuracy: 0.8762\n",
      "Epoch 230/1000\n",
      "379/379 [==============================] - 14s 38ms/step - loss: 0.3213 - accuracy: 0.8529 - val_loss: 0.3621 - val_accuracy: 0.8515\n",
      "Epoch 231/1000\n",
      "379/379 [==============================] - 13s 34ms/step - loss: 0.3457 - accuracy: 0.8474 - val_loss: 0.2894 - val_accuracy: 0.8746\n",
      "Epoch 232/1000\n",
      "379/379 [==============================] - 13s 35ms/step - loss: 0.3436 - accuracy: 0.8497 - val_loss: 0.3014 - val_accuracy: 0.8713\n",
      "Epoch 233/1000\n",
      "379/379 [==============================] - 14s 37ms/step - loss: 0.3418 - accuracy: 0.8453 - val_loss: 0.2954 - val_accuracy: 0.8713\n",
      "Epoch 234/1000\n",
      "379/379 [==============================] - 13s 34ms/step - loss: 0.3494 - accuracy: 0.8390 - val_loss: 0.2860 - val_accuracy: 0.8795\n",
      "Epoch 235/1000\n",
      "379/379 [==============================] - 14s 36ms/step - loss: 0.3594 - accuracy: 0.8499 - val_loss: 0.2960 - val_accuracy: 0.8663\n",
      "Epoch 236/1000\n",
      "379/379 [==============================] - 13s 35ms/step - loss: 0.3409 - accuracy: 0.8399 - val_loss: 0.2908 - val_accuracy: 0.8812\n",
      "Epoch 237/1000\n",
      "379/379 [==============================] - 13s 35ms/step - loss: 0.3361 - accuracy: 0.8546 - val_loss: 0.2858 - val_accuracy: 0.8845\n"
     ]
    },
    {
     "name": "stderr",
     "output_type": "stream",
     "text": [
      "WARNING:absl:Found untraced functions such as lstm_cell_layer_call_fn, lstm_cell_layer_call_and_return_conditional_losses, lstm_cell_1_layer_call_fn, lstm_cell_1_layer_call_and_return_conditional_losses, lstm_cell_2_layer_call_fn while saving (showing 5 of 15). These functions will not be directly callable after loading.\n"
     ]
    },
    {
     "name": "stdout",
     "output_type": "stream",
     "text": [
      "INFO:tensorflow:Assets written to: SleppyModels-237\\assets\n"
     ]
    },
    {
     "name": "stderr",
     "output_type": "stream",
     "text": [
      "INFO:tensorflow:Assets written to: SleppyModels-237\\assets\n"
     ]
    },
    {
     "name": "stdout",
     "output_type": "stream",
     "text": [
      "Epoch 238/1000\n",
      "379/379 [==============================] - 13s 34ms/step - loss: 0.3245 - accuracy: 0.8553 - val_loss: 0.2959 - val_accuracy: 0.8746\n",
      "Epoch 239/1000\n",
      "379/379 [==============================] - 13s 33ms/step - loss: 0.3434 - accuracy: 0.8463 - val_loss: 0.2903 - val_accuracy: 0.8861\n"
     ]
    },
    {
     "name": "stderr",
     "output_type": "stream",
     "text": [
      "WARNING:absl:Found untraced functions such as lstm_cell_layer_call_fn, lstm_cell_layer_call_and_return_conditional_losses, lstm_cell_1_layer_call_fn, lstm_cell_1_layer_call_and_return_conditional_losses, lstm_cell_2_layer_call_fn while saving (showing 5 of 15). These functions will not be directly callable after loading.\n"
     ]
    },
    {
     "name": "stdout",
     "output_type": "stream",
     "text": [
      "INFO:tensorflow:Assets written to: SleppyModels-239\\assets\n"
     ]
    },
    {
     "name": "stderr",
     "output_type": "stream",
     "text": [
      "INFO:tensorflow:Assets written to: SleppyModels-239\\assets\n"
     ]
    },
    {
     "name": "stdout",
     "output_type": "stream",
     "text": [
      "Epoch 240/1000\n",
      "379/379 [==============================] - 13s 34ms/step - loss: 0.3157 - accuracy: 0.8538 - val_loss: 0.2914 - val_accuracy: 0.8729\n",
      "Epoch 241/1000\n",
      "379/379 [==============================] - 13s 35ms/step - loss: 0.3326 - accuracy: 0.8579 - val_loss: 0.2898 - val_accuracy: 0.8746\n",
      "Epoch 242/1000\n",
      "379/379 [==============================] - 13s 34ms/step - loss: 0.3290 - accuracy: 0.8499 - val_loss: 0.2812 - val_accuracy: 0.8861\n",
      "Epoch 243/1000\n",
      "379/379 [==============================] - 13s 34ms/step - loss: 0.3316 - accuracy: 0.8524 - val_loss: 0.2897 - val_accuracy: 0.8795\n",
      "Epoch 244/1000\n",
      "379/379 [==============================] - 13s 34ms/step - loss: 0.3152 - accuracy: 0.8605 - val_loss: 0.2801 - val_accuracy: 0.8861\n",
      "Epoch 245/1000\n",
      "379/379 [==============================] - 13s 34ms/step - loss: 0.3165 - accuracy: 0.8676 - val_loss: 0.2789 - val_accuracy: 0.8812\n",
      "Epoch 246/1000\n",
      "379/379 [==============================] - 12s 33ms/step - loss: 0.3186 - accuracy: 0.8581 - val_loss: 0.2837 - val_accuracy: 0.8845\n",
      "Epoch 247/1000\n",
      "379/379 [==============================] - 12s 33ms/step - loss: 0.3289 - accuracy: 0.8582 - val_loss: 0.2890 - val_accuracy: 0.8746\n",
      "Epoch 248/1000\n",
      "379/379 [==============================] - 12s 32ms/step - loss: 0.3264 - accuracy: 0.8587 - val_loss: 0.2771 - val_accuracy: 0.8845\n",
      "Epoch 249/1000\n",
      "379/379 [==============================] - 12s 33ms/step - loss: 0.3301 - accuracy: 0.8390 - val_loss: 0.2789 - val_accuracy: 0.8779\n",
      "Epoch 250/1000\n",
      "379/379 [==============================] - 13s 35ms/step - loss: 0.3103 - accuracy: 0.8612 - val_loss: 0.2755 - val_accuracy: 0.8828\n",
      "Epoch 251/1000\n",
      "379/379 [==============================] - 13s 35ms/step - loss: 0.3188 - accuracy: 0.8570 - val_loss: 0.2864 - val_accuracy: 0.8795\n",
      "Epoch 252/1000\n",
      "379/379 [==============================] - 13s 34ms/step - loss: 0.3095 - accuracy: 0.8701 - val_loss: 0.2901 - val_accuracy: 0.8713\n",
      "Epoch 253/1000\n",
      "379/379 [==============================] - 13s 33ms/step - loss: 0.3181 - accuracy: 0.8623 - val_loss: 0.2961 - val_accuracy: 0.8729\n",
      "Epoch 254/1000\n",
      "379/379 [==============================] - 13s 34ms/step - loss: 0.3262 - accuracy: 0.8600 - val_loss: 0.2829 - val_accuracy: 0.8713\n",
      "Epoch 255/1000\n",
      "379/379 [==============================] - 13s 34ms/step - loss: 0.3186 - accuracy: 0.8603 - val_loss: 0.2948 - val_accuracy: 0.8663\n",
      "Epoch 256/1000\n",
      "379/379 [==============================] - 14s 37ms/step - loss: 0.3416 - accuracy: 0.8522 - val_loss: 0.2925 - val_accuracy: 0.8713\n",
      "Epoch 257/1000\n",
      "379/379 [==============================] - 13s 34ms/step - loss: 0.3261 - accuracy: 0.8538 - val_loss: 0.2807 - val_accuracy: 0.8812\n",
      "Epoch 258/1000\n",
      "379/379 [==============================] - 12s 33ms/step - loss: 0.3183 - accuracy: 0.8564 - val_loss: 0.2816 - val_accuracy: 0.8845\n",
      "Epoch 259/1000\n",
      "379/379 [==============================] - 13s 34ms/step - loss: 0.3115 - accuracy: 0.8625 - val_loss: 0.2774 - val_accuracy: 0.8911\n"
     ]
    },
    {
     "name": "stderr",
     "output_type": "stream",
     "text": [
      "WARNING:absl:Found untraced functions such as lstm_cell_layer_call_fn, lstm_cell_layer_call_and_return_conditional_losses, lstm_cell_1_layer_call_fn, lstm_cell_1_layer_call_and_return_conditional_losses, lstm_cell_2_layer_call_fn while saving (showing 5 of 15). These functions will not be directly callable after loading.\n"
     ]
    },
    {
     "name": "stdout",
     "output_type": "stream",
     "text": [
      "INFO:tensorflow:Assets written to: SleppyModels-259\\assets\n"
     ]
    },
    {
     "name": "stderr",
     "output_type": "stream",
     "text": [
      "INFO:tensorflow:Assets written to: SleppyModels-259\\assets\n"
     ]
    },
    {
     "name": "stdout",
     "output_type": "stream",
     "text": [
      "Epoch 260/1000\n",
      "379/379 [==============================] - 13s 35ms/step - loss: 0.3264 - accuracy: 0.8547 - val_loss: 0.2855 - val_accuracy: 0.8729\n",
      "Epoch 261/1000\n",
      "379/379 [==============================] - 13s 35ms/step - loss: 0.3298 - accuracy: 0.8604 - val_loss: 0.2749 - val_accuracy: 0.8878\n",
      "Epoch 262/1000\n",
      "379/379 [==============================] - 14s 36ms/step - loss: 0.3259 - accuracy: 0.8604 - val_loss: 0.2717 - val_accuracy: 0.8845\n",
      "Epoch 263/1000\n",
      "379/379 [==============================] - 13s 35ms/step - loss: 0.3366 - accuracy: 0.8538 - val_loss: 0.2707 - val_accuracy: 0.8927\n"
     ]
    },
    {
     "name": "stderr",
     "output_type": "stream",
     "text": [
      "WARNING:absl:Found untraced functions such as lstm_cell_layer_call_fn, lstm_cell_layer_call_and_return_conditional_losses, lstm_cell_1_layer_call_fn, lstm_cell_1_layer_call_and_return_conditional_losses, lstm_cell_2_layer_call_fn while saving (showing 5 of 15). These functions will not be directly callable after loading.\n"
     ]
    },
    {
     "name": "stdout",
     "output_type": "stream",
     "text": [
      "INFO:tensorflow:Assets written to: SleppyModels-263\\assets\n"
     ]
    },
    {
     "name": "stderr",
     "output_type": "stream",
     "text": [
      "INFO:tensorflow:Assets written to: SleppyModels-263\\assets\n"
     ]
    },
    {
     "name": "stdout",
     "output_type": "stream",
     "text": [
      "Epoch 264/1000\n",
      "379/379 [==============================] - 13s 33ms/step - loss: 0.3251 - accuracy: 0.8596 - val_loss: 0.2691 - val_accuracy: 0.8911\n",
      "Epoch 265/1000\n",
      "379/379 [==============================] - 13s 33ms/step - loss: 0.3334 - accuracy: 0.8558 - val_loss: 0.2697 - val_accuracy: 0.8927\n",
      "Epoch 266/1000\n",
      "379/379 [==============================] - 13s 35ms/step - loss: 0.3081 - accuracy: 0.8734 - val_loss: 0.2835 - val_accuracy: 0.8795\n",
      "Epoch 267/1000\n",
      "379/379 [==============================] - 12s 32ms/step - loss: 0.3125 - accuracy: 0.8653 - val_loss: 0.2890 - val_accuracy: 0.8680\n",
      "Epoch 268/1000\n",
      "379/379 [==============================] - 12s 33ms/step - loss: 0.3263 - accuracy: 0.8638 - val_loss: 0.2753 - val_accuracy: 0.8812\n",
      "Epoch 269/1000\n",
      "379/379 [==============================] - 13s 34ms/step - loss: 0.3223 - accuracy: 0.8534 - val_loss: 0.2770 - val_accuracy: 0.8828\n",
      "Epoch 270/1000\n",
      "379/379 [==============================] - 13s 35ms/step - loss: 0.3091 - accuracy: 0.8750 - val_loss: 0.2715 - val_accuracy: 0.8894\n",
      "Epoch 271/1000\n",
      "379/379 [==============================] - 12s 32ms/step - loss: 0.3304 - accuracy: 0.8560 - val_loss: 0.2712 - val_accuracy: 0.8878\n",
      "Epoch 272/1000\n",
      "379/379 [==============================] - 13s 33ms/step - loss: 0.3311 - accuracy: 0.8476 - val_loss: 0.2738 - val_accuracy: 0.8878\n",
      "Epoch 273/1000\n",
      "379/379 [==============================] - 12s 32ms/step - loss: 0.3188 - accuracy: 0.8652 - val_loss: 0.2794 - val_accuracy: 0.8795\n",
      "Epoch 274/1000\n",
      "379/379 [==============================] - 13s 34ms/step - loss: 0.3095 - accuracy: 0.8617 - val_loss: 0.2691 - val_accuracy: 0.8878\n",
      "Epoch 275/1000\n",
      "379/379 [==============================] - 12s 33ms/step - loss: 0.3137 - accuracy: 0.8559 - val_loss: 0.2828 - val_accuracy: 0.8828\n",
      "Epoch 276/1000\n",
      "379/379 [==============================] - 12s 32ms/step - loss: 0.3422 - accuracy: 0.8499 - val_loss: 0.2787 - val_accuracy: 0.8845\n",
      "Epoch 277/1000\n",
      "379/379 [==============================] - 12s 32ms/step - loss: 0.3144 - accuracy: 0.8531 - val_loss: 0.2764 - val_accuracy: 0.8746\n",
      "Epoch 278/1000\n",
      "379/379 [==============================] - 13s 34ms/step - loss: 0.3281 - accuracy: 0.8476 - val_loss: 0.2665 - val_accuracy: 0.8878\n",
      "Epoch 279/1000\n",
      "379/379 [==============================] - 13s 35ms/step - loss: 0.3106 - accuracy: 0.8575 - val_loss: 0.2659 - val_accuracy: 0.8911\n",
      "Epoch 280/1000\n",
      "379/379 [==============================] - 13s 33ms/step - loss: 0.3058 - accuracy: 0.8637 - val_loss: 0.2657 - val_accuracy: 0.8944\n"
     ]
    },
    {
     "name": "stderr",
     "output_type": "stream",
     "text": [
      "WARNING:absl:Found untraced functions such as lstm_cell_layer_call_fn, lstm_cell_layer_call_and_return_conditional_losses, lstm_cell_1_layer_call_fn, lstm_cell_1_layer_call_and_return_conditional_losses, lstm_cell_2_layer_call_fn while saving (showing 5 of 15). These functions will not be directly callable after loading.\n"
     ]
    },
    {
     "name": "stdout",
     "output_type": "stream",
     "text": [
      "INFO:tensorflow:Assets written to: SleppyModels-280\\assets\n"
     ]
    },
    {
     "name": "stderr",
     "output_type": "stream",
     "text": [
      "INFO:tensorflow:Assets written to: SleppyModels-280\\assets\n"
     ]
    },
    {
     "name": "stdout",
     "output_type": "stream",
     "text": [
      "Epoch 281/1000\n",
      "379/379 [==============================] - 13s 34ms/step - loss: 0.3143 - accuracy: 0.8566 - val_loss: 0.2676 - val_accuracy: 0.8878\n",
      "Epoch 282/1000\n",
      "379/379 [==============================] - 13s 34ms/step - loss: 0.3128 - accuracy: 0.8614 - val_loss: 0.2674 - val_accuracy: 0.8779\n",
      "Epoch 283/1000\n",
      "379/379 [==============================] - 13s 34ms/step - loss: 0.3186 - accuracy: 0.8623 - val_loss: 0.4553 - val_accuracy: 0.8317\n",
      "Epoch 284/1000\n",
      "379/379 [==============================] - 14s 36ms/step - loss: 0.4113 - accuracy: 0.8312 - val_loss: 0.2727 - val_accuracy: 0.8795\n",
      "Epoch 285/1000\n",
      "379/379 [==============================] - 13s 35ms/step - loss: 0.3024 - accuracy: 0.8660 - val_loss: 0.2627 - val_accuracy: 0.8878\n",
      "Epoch 286/1000\n",
      "379/379 [==============================] - 13s 35ms/step - loss: 0.3139 - accuracy: 0.8588 - val_loss: 0.2618 - val_accuracy: 0.8812\n",
      "Epoch 287/1000\n",
      "379/379 [==============================] - 13s 34ms/step - loss: 0.3021 - accuracy: 0.8696 - val_loss: 0.2662 - val_accuracy: 0.8960\n"
     ]
    },
    {
     "name": "stderr",
     "output_type": "stream",
     "text": [
      "WARNING:absl:Found untraced functions such as lstm_cell_layer_call_fn, lstm_cell_layer_call_and_return_conditional_losses, lstm_cell_1_layer_call_fn, lstm_cell_1_layer_call_and_return_conditional_losses, lstm_cell_2_layer_call_fn while saving (showing 5 of 15). These functions will not be directly callable after loading.\n"
     ]
    },
    {
     "name": "stdout",
     "output_type": "stream",
     "text": [
      "INFO:tensorflow:Assets written to: SleppyModels-287\\assets\n"
     ]
    },
    {
     "name": "stderr",
     "output_type": "stream",
     "text": [
      "INFO:tensorflow:Assets written to: SleppyModels-287\\assets\n"
     ]
    },
    {
     "name": "stdout",
     "output_type": "stream",
     "text": [
      "Epoch 288/1000\n",
      "379/379 [==============================] - 12s 32ms/step - loss: 0.3223 - accuracy: 0.8629 - val_loss: 0.2682 - val_accuracy: 0.8746\n",
      "Epoch 289/1000\n",
      "379/379 [==============================] - 12s 33ms/step - loss: 0.2974 - accuracy: 0.8617 - val_loss: 0.2632 - val_accuracy: 0.8927\n",
      "Epoch 290/1000\n",
      "379/379 [==============================] - 13s 34ms/step - loss: 0.3270 - accuracy: 0.8527 - val_loss: 0.2567 - val_accuracy: 0.8944\n",
      "Epoch 291/1000\n",
      "379/379 [==============================] - 13s 33ms/step - loss: 0.3104 - accuracy: 0.8606 - val_loss: 0.2709 - val_accuracy: 0.8828\n",
      "Epoch 292/1000\n",
      "379/379 [==============================] - 13s 33ms/step - loss: 0.2954 - accuracy: 0.8684 - val_loss: 0.2689 - val_accuracy: 0.8927\n",
      "Epoch 293/1000\n",
      "379/379 [==============================] - 13s 33ms/step - loss: 0.3058 - accuracy: 0.8613 - val_loss: 0.2636 - val_accuracy: 0.8977\n"
     ]
    },
    {
     "name": "stderr",
     "output_type": "stream",
     "text": [
      "WARNING:absl:Found untraced functions such as lstm_cell_layer_call_fn, lstm_cell_layer_call_and_return_conditional_losses, lstm_cell_1_layer_call_fn, lstm_cell_1_layer_call_and_return_conditional_losses, lstm_cell_2_layer_call_fn while saving (showing 5 of 15). These functions will not be directly callable after loading.\n"
     ]
    },
    {
     "name": "stdout",
     "output_type": "stream",
     "text": [
      "INFO:tensorflow:Assets written to: SleppyModels-293\\assets\n"
     ]
    },
    {
     "name": "stderr",
     "output_type": "stream",
     "text": [
      "INFO:tensorflow:Assets written to: SleppyModels-293\\assets\n"
     ]
    },
    {
     "name": "stdout",
     "output_type": "stream",
     "text": [
      "Epoch 294/1000\n",
      "379/379 [==============================] - 12s 32ms/step - loss: 0.2948 - accuracy: 0.8746 - val_loss: 0.2604 - val_accuracy: 0.8944\n",
      "Epoch 295/1000\n",
      "379/379 [==============================] - 12s 33ms/step - loss: 0.3067 - accuracy: 0.8656 - val_loss: 0.2578 - val_accuracy: 0.8960\n",
      "Epoch 296/1000\n",
      "379/379 [==============================] - 13s 33ms/step - loss: 0.2898 - accuracy: 0.8739 - val_loss: 0.2592 - val_accuracy: 0.8878\n",
      "Epoch 297/1000\n",
      "379/379 [==============================] - 12s 32ms/step - loss: 0.3102 - accuracy: 0.8639 - val_loss: 0.2562 - val_accuracy: 0.8993\n"
     ]
    },
    {
     "name": "stderr",
     "output_type": "stream",
     "text": [
      "WARNING:absl:Found untraced functions such as lstm_cell_layer_call_fn, lstm_cell_layer_call_and_return_conditional_losses, lstm_cell_1_layer_call_fn, lstm_cell_1_layer_call_and_return_conditional_losses, lstm_cell_2_layer_call_fn while saving (showing 5 of 15). These functions will not be directly callable after loading.\n"
     ]
    },
    {
     "name": "stdout",
     "output_type": "stream",
     "text": [
      "INFO:tensorflow:Assets written to: SleppyModels-297\\assets\n"
     ]
    },
    {
     "name": "stderr",
     "output_type": "stream",
     "text": [
      "INFO:tensorflow:Assets written to: SleppyModels-297\\assets\n"
     ]
    },
    {
     "name": "stdout",
     "output_type": "stream",
     "text": [
      "Epoch 298/1000\n",
      "379/379 [==============================] - 15s 40ms/step - loss: 0.2851 - accuracy: 0.8775 - val_loss: 0.2607 - val_accuracy: 0.8861\n",
      "Epoch 299/1000\n",
      "379/379 [==============================] - 14s 37ms/step - loss: 0.3176 - accuracy: 0.8616 - val_loss: 0.2566 - val_accuracy: 0.8861\n",
      "Epoch 300/1000\n",
      "379/379 [==============================] - 14s 38ms/step - loss: 0.3042 - accuracy: 0.8591 - val_loss: 0.2649 - val_accuracy: 0.8828\n",
      "Epoch 301/1000\n",
      "379/379 [==============================] - 13s 34ms/step - loss: 0.2967 - accuracy: 0.8575 - val_loss: 0.2539 - val_accuracy: 0.9010\n"
     ]
    },
    {
     "name": "stderr",
     "output_type": "stream",
     "text": [
      "WARNING:absl:Found untraced functions such as lstm_cell_layer_call_fn, lstm_cell_layer_call_and_return_conditional_losses, lstm_cell_1_layer_call_fn, lstm_cell_1_layer_call_and_return_conditional_losses, lstm_cell_2_layer_call_fn while saving (showing 5 of 15). These functions will not be directly callable after loading.\n"
     ]
    },
    {
     "name": "stdout",
     "output_type": "stream",
     "text": [
      "INFO:tensorflow:Assets written to: SleppyModels-301\\assets\n"
     ]
    },
    {
     "name": "stderr",
     "output_type": "stream",
     "text": [
      "INFO:tensorflow:Assets written to: SleppyModels-301\\assets\n"
     ]
    },
    {
     "name": "stdout",
     "output_type": "stream",
     "text": [
      "Epoch 302/1000\n",
      "379/379 [==============================] - 13s 34ms/step - loss: 0.3120 - accuracy: 0.8584 - val_loss: 0.2587 - val_accuracy: 0.8878\n",
      "Epoch 303/1000\n",
      "379/379 [==============================] - 12s 33ms/step - loss: 0.2963 - accuracy: 0.8584 - val_loss: 0.2947 - val_accuracy: 0.8696\n",
      "Epoch 304/1000\n",
      "379/379 [==============================] - 12s 33ms/step - loss: 0.3109 - accuracy: 0.8625 - val_loss: 0.2693 - val_accuracy: 0.8762\n",
      "Epoch 305/1000\n",
      "379/379 [==============================] - 12s 33ms/step - loss: 0.3095 - accuracy: 0.8547 - val_loss: 0.2590 - val_accuracy: 0.8977\n",
      "Epoch 306/1000\n",
      "379/379 [==============================] - 13s 34ms/step - loss: 0.2967 - accuracy: 0.8738 - val_loss: 0.2672 - val_accuracy: 0.8861\n",
      "Epoch 307/1000\n",
      "379/379 [==============================] - 13s 33ms/step - loss: 0.3024 - accuracy: 0.8621 - val_loss: 0.2499 - val_accuracy: 0.9010\n",
      "Epoch 308/1000\n",
      "379/379 [==============================] - 12s 33ms/step - loss: 0.3122 - accuracy: 0.8610 - val_loss: 0.2472 - val_accuracy: 0.9043\n"
     ]
    },
    {
     "name": "stderr",
     "output_type": "stream",
     "text": [
      "WARNING:absl:Found untraced functions such as lstm_cell_layer_call_fn, lstm_cell_layer_call_and_return_conditional_losses, lstm_cell_1_layer_call_fn, lstm_cell_1_layer_call_and_return_conditional_losses, lstm_cell_2_layer_call_fn while saving (showing 5 of 15). These functions will not be directly callable after loading.\n"
     ]
    },
    {
     "name": "stdout",
     "output_type": "stream",
     "text": [
      "INFO:tensorflow:Assets written to: SleppyModels-308\\assets\n"
     ]
    },
    {
     "name": "stderr",
     "output_type": "stream",
     "text": [
      "INFO:tensorflow:Assets written to: SleppyModels-308\\assets\n"
     ]
    },
    {
     "name": "stdout",
     "output_type": "stream",
     "text": [
      "Epoch 309/1000\n",
      "379/379 [==============================] - 12s 32ms/step - loss: 0.3101 - accuracy: 0.8654 - val_loss: 0.2505 - val_accuracy: 0.8993\n",
      "Epoch 310/1000\n",
      "379/379 [==============================] - 12s 32ms/step - loss: 0.3097 - accuracy: 0.8668 - val_loss: 0.2501 - val_accuracy: 0.9026\n",
      "Epoch 311/1000\n",
      "379/379 [==============================] - 12s 32ms/step - loss: 0.3026 - accuracy: 0.8694 - val_loss: 0.2789 - val_accuracy: 0.8779\n",
      "Epoch 312/1000\n",
      "379/379 [==============================] - 12s 32ms/step - loss: 0.3107 - accuracy: 0.8573 - val_loss: 0.2481 - val_accuracy: 0.8977\n",
      "Epoch 313/1000\n",
      "379/379 [==============================] - 13s 33ms/step - loss: 0.2855 - accuracy: 0.8663 - val_loss: 0.2500 - val_accuracy: 0.8861\n",
      "Epoch 314/1000\n",
      "379/379 [==============================] - 12s 32ms/step - loss: 0.3041 - accuracy: 0.8694 - val_loss: 0.2564 - val_accuracy: 0.8894\n",
      "Epoch 315/1000\n",
      "379/379 [==============================] - 12s 32ms/step - loss: 0.2883 - accuracy: 0.8707 - val_loss: 0.2446 - val_accuracy: 0.9026\n",
      "Epoch 316/1000\n",
      "379/379 [==============================] - 12s 33ms/step - loss: 0.2688 - accuracy: 0.8731 - val_loss: 0.2459 - val_accuracy: 0.8944\n",
      "Epoch 317/1000\n",
      "379/379 [==============================] - 12s 32ms/step - loss: 0.2826 - accuracy: 0.8789 - val_loss: 0.2531 - val_accuracy: 0.8960\n",
      "Epoch 318/1000\n",
      "379/379 [==============================] - 12s 32ms/step - loss: 0.3157 - accuracy: 0.8621 - val_loss: 0.2554 - val_accuracy: 0.9010\n",
      "Epoch 319/1000\n",
      "379/379 [==============================] - 13s 33ms/step - loss: 0.3041 - accuracy: 0.8718 - val_loss: 0.2493 - val_accuracy: 0.8960\n",
      "Epoch 320/1000\n",
      "379/379 [==============================] - 12s 32ms/step - loss: 0.3071 - accuracy: 0.8673 - val_loss: 0.2462 - val_accuracy: 0.8911\n",
      "Epoch 321/1000\n",
      "379/379 [==============================] - 13s 34ms/step - loss: 0.2897 - accuracy: 0.8719 - val_loss: 0.2485 - val_accuracy: 0.8927\n",
      "Epoch 322/1000\n",
      "379/379 [==============================] - 12s 33ms/step - loss: 0.2896 - accuracy: 0.8688 - val_loss: 0.2519 - val_accuracy: 0.9010\n",
      "Epoch 323/1000\n",
      "379/379 [==============================] - 13s 34ms/step - loss: 0.3065 - accuracy: 0.8668 - val_loss: 0.2555 - val_accuracy: 0.8878\n",
      "Epoch 324/1000\n",
      "379/379 [==============================] - 13s 34ms/step - loss: 0.2894 - accuracy: 0.8684 - val_loss: 0.2379 - val_accuracy: 0.8993893 - \n",
      "Epoch 325/1000\n",
      "379/379 [==============================] - 13s 33ms/step - loss: 0.3115 - accuracy: 0.8582 - val_loss: 0.2494 - val_accuracy: 0.8944\n",
      "Epoch 326/1000\n",
      "379/379 [==============================] - 13s 35ms/step - loss: 0.2955 - accuracy: 0.8719 - val_loss: 0.2579 - val_accuracy: 0.8960\n",
      "Epoch 327/1000\n",
      "379/379 [==============================] - 13s 33ms/step - loss: 0.3022 - accuracy: 0.8612 - val_loss: 0.2440 - val_accuracy: 0.8911\n",
      "Epoch 328/1000\n",
      "379/379 [==============================] - 13s 33ms/step - loss: 0.2947 - accuracy: 0.8701 - val_loss: 0.2544 - val_accuracy: 0.8911\n",
      "Epoch 329/1000\n",
      "379/379 [==============================] - 15s 39ms/step - loss: 0.2918 - accuracy: 0.8674 - val_loss: 0.2393 - val_accuracy: 0.9010\n",
      "Epoch 330/1000\n",
      "379/379 [==============================] - 12s 32ms/step - loss: 0.2888 - accuracy: 0.8730 - val_loss: 0.2956 - val_accuracy: 0.8696\n",
      "Epoch 331/1000\n",
      "379/379 [==============================] - 12s 33ms/step - loss: 0.3024 - accuracy: 0.8611 - val_loss: 0.2497 - val_accuracy: 0.9010\n",
      "Epoch 332/1000\n",
      "379/379 [==============================] - 13s 34ms/step - loss: 0.3229 - accuracy: 0.8532 - val_loss: 0.2516 - val_accuracy: 0.8960\n",
      "Epoch 333/1000\n",
      "379/379 [==============================] - 13s 33ms/step - loss: 0.2984 - accuracy: 0.8645 - val_loss: 0.2502 - val_accuracy: 0.8944\n",
      "Epoch 334/1000\n",
      "379/379 [==============================] - 13s 34ms/step - loss: 0.3031 - accuracy: 0.8662 - val_loss: 0.2423 - val_accuracy: 0.9010\n",
      "Epoch 335/1000\n",
      "379/379 [==============================] - 13s 33ms/step - loss: 0.2926 - accuracy: 0.8679 - val_loss: 0.2473 - val_accuracy: 0.9010\n",
      "Epoch 336/1000\n",
      "379/379 [==============================] - 12s 33ms/step - loss: 0.2876 - accuracy: 0.8653 - val_loss: 0.2414 - val_accuracy: 0.9059\n"
     ]
    },
    {
     "name": "stderr",
     "output_type": "stream",
     "text": [
      "WARNING:absl:Found untraced functions such as lstm_cell_layer_call_fn, lstm_cell_layer_call_and_return_conditional_losses, lstm_cell_1_layer_call_fn, lstm_cell_1_layer_call_and_return_conditional_losses, lstm_cell_2_layer_call_fn while saving (showing 5 of 15). These functions will not be directly callable after loading.\n"
     ]
    },
    {
     "name": "stdout",
     "output_type": "stream",
     "text": [
      "INFO:tensorflow:Assets written to: SleppyModels-336\\assets\n"
     ]
    },
    {
     "name": "stderr",
     "output_type": "stream",
     "text": [
      "INFO:tensorflow:Assets written to: SleppyModels-336\\assets\n"
     ]
    },
    {
     "name": "stdout",
     "output_type": "stream",
     "text": [
      "Epoch 337/1000\n",
      "379/379 [==============================] - 13s 35ms/step - loss: 0.2635 - accuracy: 0.8846 - val_loss: 0.2417 - val_accuracy: 0.8960\n",
      "Epoch 338/1000\n",
      "379/379 [==============================] - 13s 35ms/step - loss: 0.2831 - accuracy: 0.8797 - val_loss: 0.2484 - val_accuracy: 0.8993\n",
      "Epoch 339/1000\n",
      "379/379 [==============================] - 13s 35ms/step - loss: 0.2973 - accuracy: 0.8728 - val_loss: 0.2481 - val_accuracy: 0.8960\n",
      "Epoch 340/1000\n",
      "379/379 [==============================] - 14s 36ms/step - loss: 0.3121 - accuracy: 0.8512 - val_loss: 0.2424 - val_accuracy: 0.9026\n",
      "Epoch 341/1000\n",
      "379/379 [==============================] - 13s 35ms/step - loss: 0.2657 - accuracy: 0.8868 - val_loss: 0.2429 - val_accuracy: 0.9010\n",
      "Epoch 342/1000\n",
      "379/379 [==============================] - 13s 36ms/step - loss: 0.2822 - accuracy: 0.8671 - val_loss: 0.2342 - val_accuracy: 0.9076\n"
     ]
    },
    {
     "name": "stderr",
     "output_type": "stream",
     "text": [
      "WARNING:absl:Found untraced functions such as lstm_cell_layer_call_fn, lstm_cell_layer_call_and_return_conditional_losses, lstm_cell_1_layer_call_fn, lstm_cell_1_layer_call_and_return_conditional_losses, lstm_cell_2_layer_call_fn while saving (showing 5 of 15). These functions will not be directly callable after loading.\n"
     ]
    },
    {
     "name": "stdout",
     "output_type": "stream",
     "text": [
      "INFO:tensorflow:Assets written to: SleppyModels-342\\assets\n"
     ]
    },
    {
     "name": "stderr",
     "output_type": "stream",
     "text": [
      "INFO:tensorflow:Assets written to: SleppyModels-342\\assets\n"
     ]
    },
    {
     "name": "stdout",
     "output_type": "stream",
     "text": [
      "Epoch 343/1000\n",
      "379/379 [==============================] - 13s 35ms/step - loss: 0.2963 - accuracy: 0.8650 - val_loss: 0.2467 - val_accuracy: 0.9010\n",
      "Epoch 344/1000\n",
      "379/379 [==============================] - 11s 28ms/step - loss: 0.2943 - accuracy: 0.8691 - val_loss: 0.2406 - val_accuracy: 0.9076\n",
      "Epoch 345/1000\n",
      "379/379 [==============================] - 10s 27ms/step - loss: 0.3129 - accuracy: 0.8731 - val_loss: 0.2423 - val_accuracy: 0.9010\n",
      "Epoch 346/1000\n",
      "379/379 [==============================] - 11s 29ms/step - loss: 0.2829 - accuracy: 0.8667 - val_loss: 0.2376 - val_accuracy: 0.8977\n",
      "Epoch 347/1000\n",
      "379/379 [==============================] - 11s 28ms/step - loss: 0.2979 - accuracy: 0.8698 - val_loss: 0.2535 - val_accuracy: 0.8977\n",
      "Epoch 348/1000\n",
      "379/379 [==============================] - 10s 26ms/step - loss: 0.2912 - accuracy: 0.8699 - val_loss: 0.2387 - val_accuracy: 0.9026\n",
      "Epoch 349/1000\n",
      "379/379 [==============================] - 10s 26ms/step - loss: 0.3018 - accuracy: 0.8738 - val_loss: 0.2387 - val_accuracy: 0.8944\n",
      "Epoch 350/1000\n",
      "379/379 [==============================] - 10s 26ms/step - loss: 0.3004 - accuracy: 0.8608 - val_loss: 0.2513 - val_accuracy: 0.8911\n",
      "Epoch 351/1000\n",
      "379/379 [==============================] - 10s 26ms/step - loss: 0.2942 - accuracy: 0.8701 - val_loss: 0.2404 - val_accuracy: 0.9076\n",
      "Epoch 352/1000\n",
      "379/379 [==============================] - 10s 27ms/step - loss: 0.3017 - accuracy: 0.8711 - val_loss: 0.2448 - val_accuracy: 0.9010\n",
      "Epoch 353/1000\n",
      "379/379 [==============================] - 10s 27ms/step - loss: 0.2898 - accuracy: 0.8715 - val_loss: 0.2357 - val_accuracy: 0.9026\n",
      "Epoch 354/1000\n",
      "379/379 [==============================] - 10s 26ms/step - loss: 0.2938 - accuracy: 0.8719 - val_loss: 0.2389 - val_accuracy: 0.8977\n",
      "Epoch 355/1000\n",
      "379/379 [==============================] - 10s 26ms/step - loss: 0.2838 - accuracy: 0.8794 - val_loss: 0.2493 - val_accuracy: 0.8960\n",
      "Epoch 356/1000\n",
      "379/379 [==============================] - 10s 26ms/step - loss: 0.2990 - accuracy: 0.8707 - val_loss: 0.2474 - val_accuracy: 0.8861\n",
      "Epoch 357/1000\n",
      "379/379 [==============================] - 10s 26ms/step - loss: 0.2797 - accuracy: 0.8835 - val_loss: 0.2827 - val_accuracy: 0.8795\n",
      "Epoch 358/1000\n",
      "379/379 [==============================] - 10s 26ms/step - loss: 0.2823 - accuracy: 0.8722 - val_loss: 0.2360 - val_accuracy: 0.9026\n",
      "Epoch 359/1000\n",
      "379/379 [==============================] - 10s 27ms/step - loss: 0.2891 - accuracy: 0.8719 - val_loss: 0.2477 - val_accuracy: 0.8927\n",
      "Epoch 360/1000\n",
      "379/379 [==============================] - 10s 27ms/step - loss: 0.2811 - accuracy: 0.8671 - val_loss: 0.2449 - val_accuracy: 0.8927\n",
      "Epoch 361/1000\n",
      "379/379 [==============================] - 10s 27ms/step - loss: 0.2727 - accuracy: 0.8683 - val_loss: 0.2524 - val_accuracy: 0.8812\n",
      "Epoch 362/1000\n",
      "379/379 [==============================] - 10s 26ms/step - loss: 0.2771 - accuracy: 0.8846 - val_loss: 0.2375 - val_accuracy: 0.9043\n",
      "Epoch 363/1000\n",
      "379/379 [==============================] - 10s 27ms/step - loss: 0.2829 - accuracy: 0.8699 - val_loss: 0.2400 - val_accuracy: 0.8977\n",
      "Epoch 364/1000\n",
      "379/379 [==============================] - 10s 27ms/step - loss: 0.2839 - accuracy: 0.8683 - val_loss: 0.2383 - val_accuracy: 0.9010\n",
      "Epoch 365/1000\n",
      "379/379 [==============================] - 11s 30ms/step - loss: 0.2790 - accuracy: 0.8754 - val_loss: 0.2376 - val_accuracy: 0.8977\n",
      "Epoch 366/1000\n",
      "379/379 [==============================] - 11s 28ms/step - loss: 0.2769 - accuracy: 0.8678 - val_loss: 0.2277 - val_accuracy: 0.9043\n",
      "Epoch 367/1000\n",
      "379/379 [==============================] - 10s 26ms/step - loss: 0.2834 - accuracy: 0.8690 - val_loss: 0.2333 - val_accuracy: 0.8993\n",
      "Epoch 368/1000\n",
      "379/379 [==============================] - 10s 27ms/step - loss: 0.2556 - accuracy: 0.8898 - val_loss: 0.2290 - val_accuracy: 0.9043\n",
      "Epoch 369/1000\n",
      "379/379 [==============================] - 10s 27ms/step - loss: 0.2844 - accuracy: 0.8741 - val_loss: 0.2334 - val_accuracy: 0.8993\n",
      "Epoch 370/1000\n",
      "379/379 [==============================] - 12s 33ms/step - loss: 0.2760 - accuracy: 0.8802 - val_loss: 0.2268 - val_accuracy: 0.9076\n",
      "Epoch 371/1000\n",
      "379/379 [==============================] - 12s 31ms/step - loss: 0.2859 - accuracy: 0.8788 - val_loss: 0.2426 - val_accuracy: 0.8960\n",
      "Epoch 372/1000\n",
      "379/379 [==============================] - 10s 27ms/step - loss: 0.2842 - accuracy: 0.8786 - val_loss: 0.2355 - val_accuracy: 0.9043\n",
      "Epoch 373/1000\n",
      "379/379 [==============================] - 11s 30ms/step - loss: 0.2566 - accuracy: 0.8832 - val_loss: 0.2438 - val_accuracy: 0.8993\n",
      "Epoch 374/1000\n",
      "379/379 [==============================] - 10s 28ms/step - loss: 0.2683 - accuracy: 0.8813 - val_loss: 0.2331 - val_accuracy: 0.8993\n",
      "Epoch 375/1000\n",
      "379/379 [==============================] - 11s 28ms/step - loss: 0.2843 - accuracy: 0.8767 - val_loss: 0.2285 - val_accuracy: 0.9010\n",
      "Epoch 376/1000\n",
      "379/379 [==============================] - 11s 28ms/step - loss: 0.2990 - accuracy: 0.8708 - val_loss: 0.2283 - val_accuracy: 0.9059\n",
      "Epoch 377/1000\n",
      "379/379 [==============================] - 11s 28ms/step - loss: 0.2632 - accuracy: 0.8846 - val_loss: 0.2321 - val_accuracy: 0.9010\n",
      "Epoch 378/1000\n",
      "379/379 [==============================] - 11s 28ms/step - loss: 0.2546 - accuracy: 0.8783 - val_loss: 0.2715 - val_accuracy: 0.8762\n",
      "Epoch 379/1000\n",
      "379/379 [==============================] - 10s 27ms/step - loss: 0.3003 - accuracy: 0.8670 - val_loss: 0.2209 - val_accuracy: 0.9059\n",
      "Epoch 380/1000\n",
      "379/379 [==============================] - 10s 27ms/step - loss: 0.2789 - accuracy: 0.8774 - val_loss: 0.2373 - val_accuracy: 0.8944\n",
      "Epoch 381/1000\n",
      "379/379 [==============================] - 10s 27ms/step - loss: 0.2748 - accuracy: 0.8810 - val_loss: 0.2832 - val_accuracy: 0.8762\n",
      "Epoch 382/1000\n",
      "379/379 [==============================] - 10s 27ms/step - loss: 0.2823 - accuracy: 0.8698 - val_loss: 0.2273 - val_accuracy: 0.9109\n"
     ]
    },
    {
     "name": "stderr",
     "output_type": "stream",
     "text": [
      "WARNING:absl:Found untraced functions such as lstm_cell_layer_call_fn, lstm_cell_layer_call_and_return_conditional_losses, lstm_cell_1_layer_call_fn, lstm_cell_1_layer_call_and_return_conditional_losses, lstm_cell_2_layer_call_fn while saving (showing 5 of 15). These functions will not be directly callable after loading.\n"
     ]
    },
    {
     "name": "stdout",
     "output_type": "stream",
     "text": [
      "INFO:tensorflow:Assets written to: SleppyModels-382\\assets\n"
     ]
    },
    {
     "name": "stderr",
     "output_type": "stream",
     "text": [
      "INFO:tensorflow:Assets written to: SleppyModels-382\\assets\n"
     ]
    },
    {
     "name": "stdout",
     "output_type": "stream",
     "text": [
      "Epoch 383/1000\n",
      "379/379 [==============================] - 10s 27ms/step - loss: 0.2584 - accuracy: 0.8801 - val_loss: 0.2231 - val_accuracy: 0.9043\n",
      "Epoch 384/1000\n",
      "379/379 [==============================] - 11s 28ms/step - loss: 0.2819 - accuracy: 0.8683 - val_loss: 0.2240 - val_accuracy: 0.9043\n",
      "Epoch 385/1000\n",
      "379/379 [==============================] - 10s 26ms/step - loss: 0.2897 - accuracy: 0.8660 - val_loss: 0.2417 - val_accuracy: 0.9010\n",
      "Epoch 386/1000\n",
      "379/379 [==============================] - 10s 26ms/step - loss: 0.2698 - accuracy: 0.8822 - val_loss: 0.2356 - val_accuracy: 0.8944\n",
      "Epoch 387/1000\n",
      "379/379 [==============================] - 10s 27ms/step - loss: 0.2681 - accuracy: 0.8878 - val_loss: 0.2258 - val_accuracy: 0.8977\n",
      "Epoch 388/1000\n",
      "379/379 [==============================] - 10s 26ms/step - loss: 0.2618 - accuracy: 0.8749 - val_loss: 0.2299 - val_accuracy: 0.8944\n",
      "Epoch 389/1000\n",
      "379/379 [==============================] - 10s 27ms/step - loss: 0.2845 - accuracy: 0.8720 - val_loss: 0.2281 - val_accuracy: 0.8960\n",
      "Epoch 390/1000\n",
      "379/379 [==============================] - 10s 26ms/step - loss: 0.2737 - accuracy: 0.8758 - val_loss: 0.2259 - val_accuracy: 0.8977\n",
      "Epoch 391/1000\n",
      "379/379 [==============================] - 10s 27ms/step - loss: 0.2635 - accuracy: 0.8782 - val_loss: 0.2272 - val_accuracy: 0.8993\n",
      "Epoch 392/1000\n",
      "379/379 [==============================] - 10s 26ms/step - loss: 0.3028 - accuracy: 0.8628 - val_loss: 0.2223 - val_accuracy: 0.8993\n",
      "Epoch 393/1000\n",
      "379/379 [==============================] - 10s 27ms/step - loss: 0.2836 - accuracy: 0.8680 - val_loss: 0.2190 - val_accuracy: 0.9076\n",
      "Epoch 394/1000\n",
      "379/379 [==============================] - 10s 26ms/step - loss: 0.2852 - accuracy: 0.8708 - val_loss: 0.2277 - val_accuracy: 0.8944\n",
      "Epoch 395/1000\n",
      "379/379 [==============================] - 10s 26ms/step - loss: 0.2580 - accuracy: 0.8770 - val_loss: 0.2215 - val_accuracy: 0.9026\n",
      "Epoch 396/1000\n",
      "379/379 [==============================] - 10s 27ms/step - loss: 0.2564 - accuracy: 0.8818 - val_loss: 0.2268 - val_accuracy: 0.8993\n",
      "Epoch 397/1000\n",
      "379/379 [==============================] - 11s 28ms/step - loss: 0.2788 - accuracy: 0.8690 - val_loss: 0.2157 - val_accuracy: 0.8977\n",
      "Epoch 398/1000\n",
      "379/379 [==============================] - 11s 30ms/step - loss: 0.2745 - accuracy: 0.8743 - val_loss: 0.2252 - val_accuracy: 0.9092\n",
      "Epoch 399/1000\n",
      "379/379 [==============================] - 11s 29ms/step - loss: 0.2765 - accuracy: 0.8715 - val_loss: 0.2252 - val_accuracy: 0.8944\n",
      "Epoch 400/1000\n",
      "379/379 [==============================] - 10s 27ms/step - loss: 0.2947 - accuracy: 0.8558 - val_loss: 0.2201 - val_accuracy: 0.8977\n",
      "Epoch 401/1000\n",
      "379/379 [==============================] - 10s 26ms/step - loss: 0.2693 - accuracy: 0.8813 - val_loss: 0.2148 - val_accuracy: 0.9092\n",
      "Epoch 402/1000\n",
      "379/379 [==============================] - 10s 27ms/step - loss: 0.2770 - accuracy: 0.8749 - val_loss: 0.2167 - val_accuracy: 0.9109\n",
      "Epoch 403/1000\n",
      "379/379 [==============================] - 10s 26ms/step - loss: 0.2781 - accuracy: 0.8727 - val_loss: 0.2252 - val_accuracy: 0.9010\n",
      "Epoch 404/1000\n",
      "379/379 [==============================] - 10s 27ms/step - loss: 0.2589 - accuracy: 0.8808 - val_loss: 0.2211 - val_accuracy: 0.9059\n",
      "Epoch 405/1000\n",
      "379/379 [==============================] - 10s 26ms/step - loss: 0.2637 - accuracy: 0.8776 - val_loss: 0.2305 - val_accuracy: 0.8944\n",
      "Epoch 406/1000\n",
      "379/379 [==============================] - 10s 26ms/step - loss: 0.2810 - accuracy: 0.8768 - val_loss: 0.2189 - val_accuracy: 0.9010\n",
      "Epoch 407/1000\n",
      "379/379 [==============================] - 10s 26ms/step - loss: 0.2510 - accuracy: 0.8889 - val_loss: 0.2214 - val_accuracy: 0.9043\n",
      "Epoch 408/1000\n",
      "379/379 [==============================] - 10s 27ms/step - loss: 0.2895 - accuracy: 0.8674 - val_loss: 0.2186 - val_accuracy: 0.9092\n",
      "Epoch 409/1000\n",
      "379/379 [==============================] - 10s 26ms/step - loss: 0.2704 - accuracy: 0.8676 - val_loss: 0.2197 - val_accuracy: 0.8993\n",
      "Epoch 410/1000\n",
      "379/379 [==============================] - 10s 27ms/step - loss: 0.2626 - accuracy: 0.8707 - val_loss: 0.2298 - val_accuracy: 0.9026\n",
      "Epoch 411/1000\n",
      "379/379 [==============================] - 10s 26ms/step - loss: 0.2509 - accuracy: 0.8863 - val_loss: 0.2348 - val_accuracy: 0.9010\n",
      "Epoch 412/1000\n",
      "379/379 [==============================] - 10s 27ms/step - loss: 0.2675 - accuracy: 0.8842 - val_loss: 0.2168 - val_accuracy: 0.9059\n",
      "Epoch 413/1000\n",
      "379/379 [==============================] - 10s 26ms/step - loss: 0.2495 - accuracy: 0.8815 - val_loss: 0.2094 - val_accuracy: 0.9043\n",
      "Epoch 414/1000\n",
      "379/379 [==============================] - 10s 27ms/step - loss: 0.2513 - accuracy: 0.8920 - val_loss: 0.2293 - val_accuracy: 0.8927\n",
      "Epoch 415/1000\n",
      "379/379 [==============================] - 10s 27ms/step - loss: 0.2541 - accuracy: 0.8879 - val_loss: 0.2117 - val_accuracy: 0.9026\n",
      "Epoch 416/1000\n",
      "379/379 [==============================] - 10s 28ms/step - loss: 0.2609 - accuracy: 0.8804 - val_loss: 0.2212 - val_accuracy: 0.9010\n",
      "Epoch 417/1000\n",
      "379/379 [==============================] - 10s 26ms/step - loss: 0.2388 - accuracy: 0.8945 - val_loss: 0.2219 - val_accuracy: 0.9010\n",
      "Epoch 418/1000\n",
      "379/379 [==============================] - 10s 27ms/step - loss: 0.2672 - accuracy: 0.8741 - val_loss: 0.2381 - val_accuracy: 0.8927\n",
      "Epoch 419/1000\n",
      "379/379 [==============================] - 11s 30ms/step - loss: 0.2812 - accuracy: 0.8609 - val_loss: 0.2120 - val_accuracy: 0.9059\n",
      "Epoch 420/1000\n",
      "379/379 [==============================] - 10s 28ms/step - loss: 0.3034 - accuracy: 0.8669 - val_loss: 0.2111 - val_accuracy: 0.9125\n"
     ]
    },
    {
     "name": "stderr",
     "output_type": "stream",
     "text": [
      "WARNING:absl:Found untraced functions such as lstm_cell_layer_call_fn, lstm_cell_layer_call_and_return_conditional_losses, lstm_cell_1_layer_call_fn, lstm_cell_1_layer_call_and_return_conditional_losses, lstm_cell_2_layer_call_fn while saving (showing 5 of 15). These functions will not be directly callable after loading.\n"
     ]
    },
    {
     "name": "stdout",
     "output_type": "stream",
     "text": [
      "INFO:tensorflow:Assets written to: SleppyModels-420\\assets\n"
     ]
    },
    {
     "name": "stderr",
     "output_type": "stream",
     "text": [
      "INFO:tensorflow:Assets written to: SleppyModels-420\\assets\n"
     ]
    },
    {
     "name": "stdout",
     "output_type": "stream",
     "text": [
      "Epoch 421/1000\n",
      "379/379 [==============================] - 15s 40ms/step - loss: 0.2684 - accuracy: 0.8764 - val_loss: 0.2066 - val_accuracy: 0.9125\n",
      "Epoch 422/1000\n",
      "379/379 [==============================] - 13s 35ms/step - loss: 0.2962 - accuracy: 0.8678 - val_loss: 0.2117 - val_accuracy: 0.9059\n",
      "Epoch 423/1000\n",
      "379/379 [==============================] - 16s 43ms/step - loss: 0.2551 - accuracy: 0.8915 - val_loss: 0.2226 - val_accuracy: 0.9043\n",
      "Epoch 424/1000\n",
      "379/379 [==============================] - 24s 64ms/step - loss: 0.2492 - accuracy: 0.8877 - val_loss: 0.2141 - val_accuracy: 0.9125\n",
      "Epoch 425/1000\n",
      "379/379 [==============================] - 19s 50ms/step - loss: 0.2553 - accuracy: 0.8841 - val_loss: 0.2101 - val_accuracy: 0.9125\n",
      "Epoch 426/1000\n",
      "379/379 [==============================] - 13s 35ms/step - loss: 0.2617 - accuracy: 0.8704 - val_loss: 0.2099 - val_accuracy: 0.9109\n",
      "Epoch 427/1000\n",
      "379/379 [==============================] - 17s 44ms/step - loss: 0.2698 - accuracy: 0.8769 - val_loss: 0.2155 - val_accuracy: 0.9010\n",
      "Epoch 428/1000\n",
      "379/379 [==============================] - 13s 35ms/step - loss: 0.2740 - accuracy: 0.8804 - val_loss: 0.2086 - val_accuracy: 0.9059\n",
      "Epoch 429/1000\n",
      "379/379 [==============================] - 15s 40ms/step - loss: 0.2633 - accuracy: 0.8815 - val_loss: 0.2205 - val_accuracy: 0.9026\n",
      "Epoch 430/1000\n",
      "379/379 [==============================] - 14s 36ms/step - loss: 0.2676 - accuracy: 0.8787 - val_loss: 0.2148 - val_accuracy: 0.9043\n",
      "Epoch 431/1000\n",
      "379/379 [==============================] - 18s 47ms/step - loss: 0.2683 - accuracy: 0.8828 - val_loss: 0.2080 - val_accuracy: 0.9076\n",
      "Epoch 432/1000\n",
      "379/379 [==============================] - 15s 39ms/step - loss: 0.2628 - accuracy: 0.8816 - val_loss: 0.2132 - val_accuracy: 0.9092\n",
      "Epoch 433/1000\n",
      "379/379 [==============================] - 17s 44ms/step - loss: 0.2532 - accuracy: 0.8831 - val_loss: 0.2134 - val_accuracy: 0.9092\n",
      "Epoch 434/1000\n",
      "379/379 [==============================] - 25s 67ms/step - loss: 0.2653 - accuracy: 0.8766 - val_loss: 0.2067 - val_accuracy: 0.9092\n",
      "Epoch 435/1000\n",
      "379/379 [==============================] - 20s 52ms/step - loss: 0.2569 - accuracy: 0.8795 - val_loss: 0.2138 - val_accuracy: 0.9043\n",
      "Epoch 436/1000\n",
      "379/379 [==============================] - 18s 46ms/step - loss: 0.2497 - accuracy: 0.8859 - val_loss: 0.2078 - val_accuracy: 0.9059\n",
      "Epoch 437/1000\n",
      "379/379 [==============================] - 17s 44ms/step - loss: 0.2476 - accuracy: 0.8984 - val_loss: 0.2135 - val_accuracy: 0.8977\n",
      "Epoch 438/1000\n",
      "379/379 [==============================] - 12s 31ms/step - loss: 0.2542 - accuracy: 0.8855 - val_loss: 0.2136 - val_accuracy: 0.9043\n",
      "Epoch 439/1000\n",
      "379/379 [==============================] - 22s 59ms/step - loss: 0.2718 - accuracy: 0.8759 - val_loss: 0.2220 - val_accuracy: 0.8977\n",
      "Epoch 440/1000\n",
      "379/379 [==============================] - 25s 67ms/step - loss: 0.2892 - accuracy: 0.8675 - val_loss: 0.2210 - val_accuracy: 0.8977\n",
      "Epoch 441/1000\n",
      "379/379 [==============================] - 21s 55ms/step - loss: 0.2533 - accuracy: 0.8845 - val_loss: 0.2048 - val_accuracy: 0.9059\n",
      "Epoch 442/1000\n",
      "379/379 [==============================] - 17s 46ms/step - loss: 0.2675 - accuracy: 0.8797 - val_loss: 0.2015 - val_accuracy: 0.9059\n",
      "Epoch 443/1000\n",
      "379/379 [==============================] - 14s 38ms/step - loss: 0.2750 - accuracy: 0.8858 - val_loss: 0.2095 - val_accuracy: 0.9026\n",
      "Epoch 444/1000\n",
      "379/379 [==============================] - 14s 37ms/step - loss: 0.2825 - accuracy: 0.8668 - val_loss: 0.2085 - val_accuracy: 0.9010\n",
      "Epoch 445/1000\n",
      "379/379 [==============================] - 13s 33ms/step - loss: 0.2597 - accuracy: 0.8871 - val_loss: 0.2072 - val_accuracy: 0.9059\n",
      "Epoch 446/1000\n",
      "379/379 [==============================] - 16s 43ms/step - loss: 0.2474 - accuracy: 0.8790 - val_loss: 0.1977 - val_accuracy: 0.9125\n",
      "Epoch 447/1000\n",
      "379/379 [==============================] - 14s 37ms/step - loss: 0.2371 - accuracy: 0.8934 - val_loss: 0.2039 - val_accuracy: 0.9076\n",
      "Epoch 448/1000\n",
      "379/379 [==============================] - 24s 62ms/step - loss: 0.2552 - accuracy: 0.8792 - val_loss: 0.2108 - val_accuracy: 0.9059\n",
      "Epoch 449/1000\n",
      "379/379 [==============================] - 26s 69ms/step - loss: 0.2540 - accuracy: 0.8760 - val_loss: 0.2107 - val_accuracy: 0.8993\n",
      "Epoch 450/1000\n",
      "379/379 [==============================] - 19s 51ms/step - loss: 0.2464 - accuracy: 0.8922 - val_loss: 0.2006 - val_accuracy: 0.9125\n",
      "Epoch 451/1000\n",
      "379/379 [==============================] - 15s 40ms/step - loss: 0.2472 - accuracy: 0.8877 - val_loss: 0.2102 - val_accuracy: 0.9010\n",
      "Epoch 452/1000\n",
      "379/379 [==============================] - 12s 31ms/step - loss: 0.2716 - accuracy: 0.8765 - val_loss: 0.2106 - val_accuracy: 0.8960\n",
      "Epoch 453/1000\n",
      "379/379 [==============================] - 13s 34ms/step - loss: 0.2713 - accuracy: 0.8764 - val_loss: 0.2045 - val_accuracy: 0.9076\n",
      "Epoch 454/1000\n",
      "379/379 [==============================] - 15s 40ms/step - loss: 0.2588 - accuracy: 0.8828 - val_loss: 0.2066 - val_accuracy: 0.9059\n",
      "Epoch 455/1000\n",
      "379/379 [==============================] - 13s 35ms/step - loss: 0.2467 - accuracy: 0.8905 - val_loss: 0.2065 - val_accuracy: 0.9026\n",
      "Epoch 456/1000\n",
      "379/379 [==============================] - 11s 28ms/step - loss: 0.2772 - accuracy: 0.8818 - val_loss: 0.2085 - val_accuracy: 0.9109\n",
      "Epoch 457/1000\n",
      "379/379 [==============================] - 12s 31ms/step - loss: 0.2346 - accuracy: 0.8865 - val_loss: 0.1977 - val_accuracy: 0.9076\n",
      "Epoch 458/1000\n",
      "379/379 [==============================] - 11s 30ms/step - loss: 0.2618 - accuracy: 0.8821 - val_loss: 0.2079 - val_accuracy: 0.8977\n",
      "Epoch 459/1000\n",
      "379/379 [==============================] - 18s 48ms/step - loss: 0.2312 - accuracy: 0.8876 - val_loss: 0.2222 - val_accuracy: 0.8977\n",
      "Epoch 460/1000\n",
      "379/379 [==============================] - 16s 42ms/step - loss: 0.2418 - accuracy: 0.8915 - val_loss: 0.1959 - val_accuracy: 0.9125\n",
      "Epoch 461/1000\n",
      "379/379 [==============================] - 16s 43ms/step - loss: 0.2466 - accuracy: 0.8973 - val_loss: 0.2043 - val_accuracy: 0.9092\n",
      "Epoch 462/1000\n",
      "379/379 [==============================] - 13s 34ms/step - loss: 0.2678 - accuracy: 0.8734 - val_loss: 0.1977 - val_accuracy: 0.9076\n",
      "Epoch 463/1000\n",
      "379/379 [==============================] - 19s 50ms/step - loss: 0.2636 - accuracy: 0.8783 - val_loss: 0.1946 - val_accuracy: 0.9125\n",
      "Epoch 464/1000\n",
      "379/379 [==============================] - 18s 49ms/step - loss: 0.2576 - accuracy: 0.8923 - val_loss: 0.2131 - val_accuracy: 0.9026\n",
      "Epoch 465/1000\n",
      "379/379 [==============================] - 23s 60ms/step - loss: 0.2474 - accuracy: 0.8894 - val_loss: 0.1965 - val_accuracy: 0.9142\n"
     ]
    },
    {
     "name": "stderr",
     "output_type": "stream",
     "text": [
      "WARNING:absl:Found untraced functions such as lstm_cell_layer_call_fn, lstm_cell_layer_call_and_return_conditional_losses, lstm_cell_1_layer_call_fn, lstm_cell_1_layer_call_and_return_conditional_losses, lstm_cell_2_layer_call_fn while saving (showing 5 of 15). These functions will not be directly callable after loading.\n"
     ]
    },
    {
     "name": "stdout",
     "output_type": "stream",
     "text": [
      "INFO:tensorflow:Assets written to: SleppyModels-465\\assets\n"
     ]
    },
    {
     "name": "stderr",
     "output_type": "stream",
     "text": [
      "INFO:tensorflow:Assets written to: SleppyModels-465\\assets\n"
     ]
    },
    {
     "name": "stdout",
     "output_type": "stream",
     "text": [
      "Epoch 466/1000\n",
      "379/379 [==============================] - 14s 36ms/step - loss: 0.2312 - accuracy: 0.8964 - val_loss: 0.1960 - val_accuracy: 0.9109\n",
      "Epoch 467/1000\n",
      "379/379 [==============================] - 18s 47ms/step - loss: 0.2357 - accuracy: 0.8847 - val_loss: 0.2015 - val_accuracy: 0.9125\n",
      "Epoch 468/1000\n",
      "379/379 [==============================] - 18s 49ms/step - loss: 0.2400 - accuracy: 0.8954 - val_loss: 0.1931 - val_accuracy: 0.9092\n",
      "Epoch 469/1000\n",
      "379/379 [==============================] - 17s 45ms/step - loss: 0.2362 - accuracy: 0.8864 - val_loss: 0.2090 - val_accuracy: 0.9125\n",
      "Epoch 470/1000\n",
      "379/379 [==============================] - 18s 47ms/step - loss: 0.2475 - accuracy: 0.8902 - val_loss: 0.1947 - val_accuracy: 0.9125\n",
      "Epoch 471/1000\n",
      "379/379 [==============================] - 17s 45ms/step - loss: 0.2774 - accuracy: 0.8826 - val_loss: 0.2087 - val_accuracy: 0.9010\n",
      "Epoch 472/1000\n",
      "379/379 [==============================] - 16s 43ms/step - loss: 0.2572 - accuracy: 0.8785 - val_loss: 0.2443 - val_accuracy: 0.9010\n",
      "Epoch 473/1000\n",
      "379/379 [==============================] - 22s 59ms/step - loss: 0.2471 - accuracy: 0.8885 - val_loss: 0.1934 - val_accuracy: 0.9158\n"
     ]
    },
    {
     "name": "stderr",
     "output_type": "stream",
     "text": [
      "WARNING:absl:Found untraced functions such as lstm_cell_layer_call_fn, lstm_cell_layer_call_and_return_conditional_losses, lstm_cell_1_layer_call_fn, lstm_cell_1_layer_call_and_return_conditional_losses, lstm_cell_2_layer_call_fn while saving (showing 5 of 15). These functions will not be directly callable after loading.\n"
     ]
    },
    {
     "name": "stdout",
     "output_type": "stream",
     "text": [
      "INFO:tensorflow:Assets written to: SleppyModels-473\\assets\n"
     ]
    },
    {
     "name": "stderr",
     "output_type": "stream",
     "text": [
      "INFO:tensorflow:Assets written to: SleppyModels-473\\assets\n"
     ]
    },
    {
     "name": "stdout",
     "output_type": "stream",
     "text": [
      "Epoch 474/1000\n",
      "379/379 [==============================] - 17s 45ms/step - loss: 0.2469 - accuracy: 0.8872 - val_loss: 0.1985 - val_accuracy: 0.9125\n",
      "Epoch 475/1000\n",
      "379/379 [==============================] - 16s 42ms/step - loss: 0.2577 - accuracy: 0.8914 - val_loss: 0.2054 - val_accuracy: 0.9059\n",
      "Epoch 476/1000\n",
      "379/379 [==============================] - 11s 29ms/step - loss: 0.2482 - accuracy: 0.8786 - val_loss: 0.1949 - val_accuracy: 0.9125\n",
      "Epoch 477/1000\n",
      "379/379 [==============================] - 17s 44ms/step - loss: 0.2333 - accuracy: 0.8868 - val_loss: 0.2093 - val_accuracy: 0.8993\n",
      "Epoch 478/1000\n",
      "379/379 [==============================] - 20s 54ms/step - loss: 0.2444 - accuracy: 0.8915 - val_loss: 0.1968 - val_accuracy: 0.9125\n",
      "Epoch 479/1000\n",
      "379/379 [==============================] - 30s 78ms/step - loss: 0.2330 - accuracy: 0.8905 - val_loss: 0.2040 - val_accuracy: 0.9092\n",
      "Epoch 480/1000\n",
      "379/379 [==============================] - 29s 77ms/step - loss: 0.2510 - accuracy: 0.8881 - val_loss: 0.1912 - val_accuracy: 0.9175 - loss: 0.2510 - accu\n"
     ]
    },
    {
     "name": "stderr",
     "output_type": "stream",
     "text": [
      "WARNING:absl:Found untraced functions such as lstm_cell_layer_call_fn, lstm_cell_layer_call_and_return_conditional_losses, lstm_cell_1_layer_call_fn, lstm_cell_1_layer_call_and_return_conditional_losses, lstm_cell_2_layer_call_fn while saving (showing 5 of 15). These functions will not be directly callable after loading.\n"
     ]
    },
    {
     "name": "stdout",
     "output_type": "stream",
     "text": [
      "INFO:tensorflow:Assets written to: SleppyModels-480\\assets\n"
     ]
    },
    {
     "name": "stderr",
     "output_type": "stream",
     "text": [
      "INFO:tensorflow:Assets written to: SleppyModels-480\\assets\n"
     ]
    },
    {
     "name": "stdout",
     "output_type": "stream",
     "text": [
      "Epoch 481/1000\n",
      "379/379 [==============================] - 19s 50ms/step - loss: 0.2412 - accuracy: 0.8867 - val_loss: 0.1917 - val_accuracy: 0.9142\n",
      "Epoch 482/1000\n",
      "379/379 [==============================] - 19s 50ms/step - loss: 0.2484 - accuracy: 0.8869 - val_loss: 0.1907 - val_accuracy: 0.9208\n"
     ]
    },
    {
     "name": "stderr",
     "output_type": "stream",
     "text": [
      "WARNING:absl:Found untraced functions such as lstm_cell_layer_call_fn, lstm_cell_layer_call_and_return_conditional_losses, lstm_cell_1_layer_call_fn, lstm_cell_1_layer_call_and_return_conditional_losses, lstm_cell_2_layer_call_fn while saving (showing 5 of 15). These functions will not be directly callable after loading.\n"
     ]
    },
    {
     "name": "stdout",
     "output_type": "stream",
     "text": [
      "INFO:tensorflow:Assets written to: SleppyModels-482\\assets\n"
     ]
    },
    {
     "name": "stderr",
     "output_type": "stream",
     "text": [
      "INFO:tensorflow:Assets written to: SleppyModels-482\\assets\n"
     ]
    },
    {
     "name": "stdout",
     "output_type": "stream",
     "text": [
      "Epoch 483/1000\n",
      "379/379 [==============================] - 16s 43ms/step - loss: 0.2306 - accuracy: 0.8895 - val_loss: 0.1948 - val_accuracy: 0.9125\n",
      "Epoch 484/1000\n",
      "379/379 [==============================] - 15s 38ms/step - loss: 0.2381 - accuracy: 0.8867 - val_loss: 0.1977 - val_accuracy: 0.9059\n",
      "Epoch 485/1000\n",
      "379/379 [==============================] - 13s 34ms/step - loss: 0.2397 - accuracy: 0.8917 - val_loss: 0.1993 - val_accuracy: 0.9092\n",
      "Epoch 486/1000\n",
      "379/379 [==============================] - 15s 39ms/step - loss: 0.2317 - accuracy: 0.8872 - val_loss: 0.1898 - val_accuracy: 0.9142\n",
      "Epoch 487/1000\n",
      "379/379 [==============================] - 17s 46ms/step - loss: 0.2420 - accuracy: 0.8903 - val_loss: 0.1966 - val_accuracy: 0.9125\n",
      "Epoch 488/1000\n",
      "379/379 [==============================] - 19s 51ms/step - loss: 0.2400 - accuracy: 0.8853 - val_loss: 0.1918 - val_accuracy: 0.9076\n",
      "Epoch 489/1000\n",
      "379/379 [==============================] - 17s 45ms/step - loss: 0.2240 - accuracy: 0.8989 - val_loss: 0.1972 - val_accuracy: 0.9092\n",
      "Epoch 490/1000\n",
      "379/379 [==============================] - 22s 59ms/step - loss: 0.2529 - accuracy: 0.8888 - val_loss: 0.1988 - val_accuracy: 0.9142\n",
      "Epoch 491/1000\n",
      "379/379 [==============================] - 29s 76ms/step - loss: 0.2610 - accuracy: 0.8863 - val_loss: 0.1930 - val_accuracy: 0.9109\n",
      "Epoch 492/1000\n",
      "379/379 [==============================] - 20s 54ms/step - loss: 0.2602 - accuracy: 0.8872 - val_loss: 0.1857 - val_accuracy: 0.9142\n",
      "Epoch 493/1000\n",
      "379/379 [==============================] - 21s 56ms/step - loss: 0.2417 - accuracy: 0.8815 - val_loss: 0.1923 - val_accuracy: 0.9109\n",
      "Epoch 494/1000\n",
      "379/379 [==============================] - 20s 52ms/step - loss: 0.2450 - accuracy: 0.8935 - val_loss: 0.1951 - val_accuracy: 0.9158\n",
      "Epoch 495/1000\n",
      "379/379 [==============================] - 20s 52ms/step - loss: 0.2382 - accuracy: 0.8856 - val_loss: 0.1919 - val_accuracy: 0.9092\n",
      "Epoch 496/1000\n",
      "379/379 [==============================] - 20s 52ms/step - loss: 0.2329 - accuracy: 0.8956 - val_loss: 0.1863 - val_accuracy: 0.9092\n",
      "Epoch 497/1000\n",
      "379/379 [==============================] - 24s 62ms/step - loss: 0.2553 - accuracy: 0.8849 - val_loss: 0.1870 - val_accuracy: 0.9092\n",
      "Epoch 498/1000\n",
      "379/379 [==============================] - 19s 50ms/step - loss: 0.2360 - accuracy: 0.8934 - val_loss: 0.1842 - val_accuracy: 0.9158\n",
      "Epoch 499/1000\n",
      "379/379 [==============================] - 19s 49ms/step - loss: 0.2462 - accuracy: 0.8902 - val_loss: 0.1899 - val_accuracy: 0.9092\n",
      "Epoch 500/1000\n",
      "379/379 [==============================] - 19s 50ms/step - loss: 0.2354 - accuracy: 0.8943 - val_loss: 0.1996 - val_accuracy: 0.9092\n",
      "Epoch 501/1000\n",
      "379/379 [==============================] - 15s 39ms/step - loss: 0.2407 - accuracy: 0.8971 - val_loss: 0.1968 - val_accuracy: 0.9092\n",
      "Epoch 502/1000\n",
      "379/379 [==============================] - 14s 38ms/step - loss: 0.2293 - accuracy: 0.8945 - val_loss: 0.1902 - val_accuracy: 0.9092\n",
      "Epoch 503/1000\n",
      "379/379 [==============================] - 13s 35ms/step - loss: 0.2453 - accuracy: 0.8905 - val_loss: 0.1903 - val_accuracy: 0.9092\n",
      "Epoch 504/1000\n",
      "379/379 [==============================] - 14s 36ms/step - loss: 0.2226 - accuracy: 0.9030 - val_loss: 0.1961 - val_accuracy: 0.9175\n",
      "Epoch 505/1000\n",
      "379/379 [==============================] - 15s 40ms/step - loss: 0.2491 - accuracy: 0.8799 - val_loss: 0.1891 - val_accuracy: 0.9076\n",
      "Epoch 506/1000\n",
      "379/379 [==============================] - 13s 34ms/step - loss: 0.2333 - accuracy: 0.9005 - val_loss: 0.1932 - val_accuracy: 0.9109\n",
      "Epoch 507/1000\n",
      "379/379 [==============================] - 13s 35ms/step - loss: 0.2347 - accuracy: 0.8888 - val_loss: 0.1869 - val_accuracy: 0.9109\n",
      "Epoch 508/1000\n",
      "379/379 [==============================] - 18s 48ms/step - loss: 0.2445 - accuracy: 0.8954 - val_loss: 0.1949 - val_accuracy: 0.9059\n",
      "Epoch 509/1000\n",
      "379/379 [==============================] - 16s 42ms/step - loss: 0.2317 - accuracy: 0.8924 - val_loss: 0.1964 - val_accuracy: 0.9109\n",
      "Epoch 510/1000\n",
      "379/379 [==============================] - 14s 37ms/step - loss: 0.2465 - accuracy: 0.8909 - val_loss: 0.2043 - val_accuracy: 0.8993\n",
      "Epoch 511/1000\n",
      "379/379 [==============================] - 14s 36ms/step - loss: 0.2333 - accuracy: 0.8946 - val_loss: 0.1838 - val_accuracy: 0.9191\n",
      "Epoch 512/1000\n",
      "379/379 [==============================] - 14s 36ms/step - loss: 0.2391 - accuracy: 0.8883 - val_loss: 0.1820 - val_accuracy: 0.9208\n",
      "Epoch 513/1000\n",
      "379/379 [==============================] - 13s 35ms/step - loss: 0.2439 - accuracy: 0.8923 - val_loss: 0.1832 - val_accuracy: 0.9175\n",
      "Epoch 514/1000\n",
      "379/379 [==============================] - 13s 35ms/step - loss: 0.2344 - accuracy: 0.8981 - val_loss: 0.2038 - val_accuracy: 0.9026\n",
      "Epoch 515/1000\n",
      "379/379 [==============================] - 14s 36ms/step - loss: 0.2302 - accuracy: 0.8958 - val_loss: 0.3847 - val_accuracy: 0.8564\n",
      "Epoch 516/1000\n",
      "379/379 [==============================] - 12s 32ms/step - loss: 0.3046 - accuracy: 0.8782 - val_loss: 0.1869 - val_accuracy: 0.9158\n",
      "Epoch 517/1000\n",
      "379/379 [==============================] - 11s 30ms/step - loss: 0.2320 - accuracy: 0.8939 - val_loss: 0.1807 - val_accuracy: 0.9241\n"
     ]
    },
    {
     "name": "stderr",
     "output_type": "stream",
     "text": [
      "WARNING:absl:Found untraced functions such as lstm_cell_layer_call_fn, lstm_cell_layer_call_and_return_conditional_losses, lstm_cell_1_layer_call_fn, lstm_cell_1_layer_call_and_return_conditional_losses, lstm_cell_2_layer_call_fn while saving (showing 5 of 15). These functions will not be directly callable after loading.\n"
     ]
    },
    {
     "name": "stdout",
     "output_type": "stream",
     "text": [
      "INFO:tensorflow:Assets written to: SleppyModels-517\\assets\n"
     ]
    },
    {
     "name": "stderr",
     "output_type": "stream",
     "text": [
      "INFO:tensorflow:Assets written to: SleppyModels-517\\assets\n"
     ]
    },
    {
     "name": "stdout",
     "output_type": "stream",
     "text": [
      "Epoch 518/1000\n",
      "379/379 [==============================] - 13s 34ms/step - loss: 0.2285 - accuracy: 0.8914 - val_loss: 0.1841 - val_accuracy: 0.9208\n",
      "Epoch 519/1000\n",
      "379/379 [==============================] - 11s 29ms/step - loss: 0.2347 - accuracy: 0.8854 - val_loss: 0.1884 - val_accuracy: 0.9142\n",
      "Epoch 520/1000\n",
      "379/379 [==============================] - 12s 32ms/step - loss: 0.2175 - accuracy: 0.9005 - val_loss: 0.1806 - val_accuracy: 0.9208\n",
      "Epoch 521/1000\n",
      "379/379 [==============================] - 17s 45ms/step - loss: 0.2153 - accuracy: 0.8980 - val_loss: 0.1779 - val_accuracy: 0.9142\n",
      "Epoch 522/1000\n",
      "379/379 [==============================] - 13s 33ms/step - loss: 0.2256 - accuracy: 0.9011 - val_loss: 0.2353 - val_accuracy: 0.8894\n",
      "Epoch 523/1000\n",
      "379/379 [==============================] - 13s 33ms/step - loss: 0.2398 - accuracy: 0.8818 - val_loss: 0.1781 - val_accuracy: 0.9191\n",
      "Epoch 524/1000\n",
      "379/379 [==============================] - 13s 34ms/step - loss: 0.2569 - accuracy: 0.8890 - val_loss: 0.2122 - val_accuracy: 0.9026\n",
      "Epoch 525/1000\n",
      "379/379 [==============================] - 13s 34ms/step - loss: 0.2319 - accuracy: 0.8904 - val_loss: 0.1742 - val_accuracy: 0.9158\n",
      "Epoch 526/1000\n",
      "379/379 [==============================] - 14s 38ms/step - loss: 0.2298 - accuracy: 0.8992 - val_loss: 0.1942 - val_accuracy: 0.9125\n",
      "Epoch 527/1000\n",
      "379/379 [==============================] - 12s 32ms/step - loss: 0.2535 - accuracy: 0.8808 - val_loss: 0.1888 - val_accuracy: 0.9224 - loss: 0.2546 - accu - ETA: 1s - los - ETA: 0s - loss: 0.2539 \n",
      "Epoch 528/1000\n",
      "379/379 [==============================] - 12s 33ms/step - loss: 0.2335 - accuracy: 0.8912 - val_loss: 0.1805 - val_accuracy: 0.9109\n",
      "Epoch 529/1000\n",
      "379/379 [==============================] - 13s 34ms/step - loss: 0.2339 - accuracy: 0.8858 - val_loss: 0.1778 - val_accuracy: 0.9175\n",
      "Epoch 530/1000\n",
      "379/379 [==============================] - 14s 36ms/step - loss: 0.2256 - accuracy: 0.8954 - val_loss: 0.1970 - val_accuracy: 0.9059\n",
      "Epoch 531/1000\n",
      "379/379 [==============================] - 14s 36ms/step - loss: 0.2393 - accuracy: 0.8906 - val_loss: 0.1831 - val_accuracy: 0.9125\n",
      "Epoch 532/1000\n",
      "379/379 [==============================] - 12s 32ms/step - loss: 0.2324 - accuracy: 0.8949 - val_loss: 0.1902 - val_accuracy: 0.9109\n",
      "Epoch 533/1000\n",
      "379/379 [==============================] - 13s 34ms/step - loss: 0.2048 - accuracy: 0.9046 - val_loss: 0.1822 - val_accuracy: 0.9158\n",
      "Epoch 534/1000\n",
      "379/379 [==============================] - 11s 30ms/step - loss: 0.2240 - accuracy: 0.8910 - val_loss: 0.1830 - val_accuracy: 0.9109\n",
      "Epoch 535/1000\n",
      "379/379 [==============================] - 14s 38ms/step - loss: 0.2222 - accuracy: 0.8968 - val_loss: 0.1789 - val_accuracy: 0.9224\n",
      "Epoch 536/1000\n",
      "379/379 [==============================] - 21s 55ms/step - loss: 0.2389 - accuracy: 0.8920 - val_loss: 0.1895 - val_accuracy: 0.9076\n",
      "Epoch 537/1000\n",
      "379/379 [==============================] - 12s 33ms/step - loss: 0.2515 - accuracy: 0.8794 - val_loss: 0.1773 - val_accuracy: 0.9158\n",
      "Epoch 538/1000\n",
      "379/379 [==============================] - 12s 30ms/step - loss: 0.2119 - accuracy: 0.9047 - val_loss: 0.1755 - val_accuracy: 0.9158\n",
      "Epoch 539/1000\n",
      "379/379 [==============================] - 12s 31ms/step - loss: 0.2320 - accuracy: 0.8950 - val_loss: 0.1813 - val_accuracy: 0.9125\n",
      "Epoch 540/1000\n",
      "379/379 [==============================] - 11s 30ms/step - loss: 0.2283 - accuracy: 0.8961 - val_loss: 0.1970 - val_accuracy: 0.9076\n",
      "Epoch 541/1000\n",
      "379/379 [==============================] - 11s 29ms/step - loss: 0.2134 - accuracy: 0.9045 - val_loss: 0.2014 - val_accuracy: 0.9175\n",
      "Epoch 542/1000\n",
      "379/379 [==============================] - 11s 30ms/step - loss: 0.3114 - accuracy: 0.8715 - val_loss: 0.1804 - val_accuracy: 0.9158\n",
      "Epoch 543/1000\n",
      "379/379 [==============================] - 11s 29ms/step - loss: 0.2299 - accuracy: 0.8921 - val_loss: 0.1775 - val_accuracy: 0.9142\n",
      "Epoch 544/1000\n",
      "379/379 [==============================] - 12s 30ms/step - loss: 0.2086 - accuracy: 0.9031 - val_loss: 0.1800 - val_accuracy: 0.9142\n",
      "Epoch 545/1000\n",
      "379/379 [==============================] - 12s 31ms/step - loss: 0.2041 - accuracy: 0.9073 - val_loss: 0.1749 - val_accuracy: 0.9175\n",
      "Epoch 546/1000\n",
      "379/379 [==============================] - 11s 30ms/step - loss: 0.2086 - accuracy: 0.9019 - val_loss: 0.2011 - val_accuracy: 0.9142\n",
      "Epoch 547/1000\n",
      "379/379 [==============================] - 11s 30ms/step - loss: 0.2382 - accuracy: 0.8959 - val_loss: 0.1907 - val_accuracy: 0.9175\n",
      "Epoch 548/1000\n",
      "379/379 [==============================] - 11s 30ms/step - loss: 0.2306 - accuracy: 0.8920 - val_loss: 0.1868 - val_accuracy: 0.9208\n",
      "Epoch 549/1000\n",
      "379/379 [==============================] - 11s 29ms/step - loss: 0.2268 - accuracy: 0.8985 - val_loss: 0.1769 - val_accuracy: 0.9175\n",
      "Epoch 550/1000\n",
      "379/379 [==============================] - 11s 30ms/step - loss: 0.2010 - accuracy: 0.9067 - val_loss: 0.1719 - val_accuracy: 0.9241\n",
      "Epoch 551/1000\n",
      "379/379 [==============================] - 11s 29ms/step - loss: 0.2149 - accuracy: 0.8980 - val_loss: 0.1971 - val_accuracy: 0.9010\n",
      "Epoch 552/1000\n",
      "379/379 [==============================] - 11s 29ms/step - loss: 0.2351 - accuracy: 0.8951 - val_loss: 0.1722 - val_accuracy: 0.9208\n",
      "Epoch 553/1000\n",
      "379/379 [==============================] - 11s 30ms/step - loss: 0.2277 - accuracy: 0.8971 - val_loss: 0.1868 - val_accuracy: 0.9092\n",
      "Epoch 554/1000\n",
      "379/379 [==============================] - 11s 30ms/step - loss: 0.2143 - accuracy: 0.9057 - val_loss: 0.1872 - val_accuracy: 0.9043\n",
      "Epoch 555/1000\n",
      "379/379 [==============================] - 12s 31ms/step - loss: 0.2295 - accuracy: 0.8922 - val_loss: 0.1995 - val_accuracy: 0.9076\n",
      "Epoch 556/1000\n",
      "379/379 [==============================] - 11s 29ms/step - loss: 0.2196 - accuracy: 0.8976 - val_loss: 0.1728 - val_accuracy: 0.9224\n",
      "Epoch 557/1000\n",
      "379/379 [==============================] - 12s 31ms/step - loss: 0.1856 - accuracy: 0.9139 - val_loss: 0.1733 - val_accuracy: 0.9158\n",
      "Epoch 558/1000\n",
      "379/379 [==============================] - 11s 30ms/step - loss: 0.2163 - accuracy: 0.8950 - val_loss: 0.1802 - val_accuracy: 0.9109\n",
      "Epoch 559/1000\n",
      "379/379 [==============================] - 11s 30ms/step - loss: 0.2196 - accuracy: 0.8996 - val_loss: 0.1726 - val_accuracy: 0.9208\n",
      "Epoch 560/1000\n",
      "379/379 [==============================] - 11s 30ms/step - loss: 0.2125 - accuracy: 0.9024 - val_loss: 0.2298 - val_accuracy: 0.8977\n",
      "Epoch 561/1000\n",
      "379/379 [==============================] - 11s 30ms/step - loss: 0.2246 - accuracy: 0.9039 - val_loss: 0.1865 - val_accuracy: 0.9125\n",
      "Epoch 562/1000\n",
      "379/379 [==============================] - 12s 31ms/step - loss: 0.2351 - accuracy: 0.8939 - val_loss: 0.1735 - val_accuracy: 0.9191\n",
      "Epoch 563/1000\n",
      "379/379 [==============================] - 12s 32ms/step - loss: 0.2159 - accuracy: 0.8911 - val_loss: 0.1798 - val_accuracy: 0.9142\n",
      "Epoch 564/1000\n",
      "379/379 [==============================] - 12s 30ms/step - loss: 0.2487 - accuracy: 0.8850 - val_loss: 0.1959 - val_accuracy: 0.9059\n",
      "Epoch 565/1000\n",
      "379/379 [==============================] - 11s 30ms/step - loss: 0.2154 - accuracy: 0.8908 - val_loss: 0.1697 - val_accuracy: 0.9191\n",
      "Epoch 566/1000\n",
      "379/379 [==============================] - 11s 30ms/step - loss: 0.2273 - accuracy: 0.8923 - val_loss: 0.1753 - val_accuracy: 0.9175\n",
      "Epoch 567/1000\n",
      "379/379 [==============================] - 11s 29ms/step - loss: 0.2190 - accuracy: 0.8938 - val_loss: 0.1707 - val_accuracy: 0.9175\n",
      "Epoch 568/1000\n",
      "379/379 [==============================] - 11s 29ms/step - loss: 0.2146 - accuracy: 0.9048 - val_loss: 0.1739 - val_accuracy: 0.9142\n",
      "Epoch 569/1000\n",
      "379/379 [==============================] - 11s 28ms/step - loss: 0.2289 - accuracy: 0.8941 - val_loss: 0.1701 - val_accuracy: 0.9191\n",
      "Epoch 570/1000\n",
      "379/379 [==============================] - 11s 29ms/step - loss: 0.2069 - accuracy: 0.9010 - val_loss: 0.1844 - val_accuracy: 0.9175\n",
      "Epoch 571/1000\n",
      "379/379 [==============================] - 12s 30ms/step - loss: 0.2154 - accuracy: 0.8956 - val_loss: 0.1709 - val_accuracy: 0.9208\n",
      "Epoch 572/1000\n"
     ]
    },
    {
     "name": "stdout",
     "output_type": "stream",
     "text": [
      "379/379 [==============================] - 11s 30ms/step - loss: 0.2124 - accuracy: 0.9027 - val_loss: 0.1883 - val_accuracy: 0.9010\n",
      "Epoch 573/1000\n",
      "379/379 [==============================] - 12s 31ms/step - loss: 0.2110 - accuracy: 0.9052 - val_loss: 0.1729 - val_accuracy: 0.9175\n",
      "Epoch 574/1000\n",
      "379/379 [==============================] - 12s 32ms/step - loss: 0.2414 - accuracy: 0.8831 - val_loss: 0.1693 - val_accuracy: 0.9208\n",
      "Epoch 575/1000\n",
      "379/379 [==============================] - 13s 34ms/step - loss: 0.1906 - accuracy: 0.9135 - val_loss: 0.1726 - val_accuracy: 0.9208\n",
      "Epoch 576/1000\n",
      "379/379 [==============================] - 12s 30ms/step - loss: 0.2267 - accuracy: 0.8973 - val_loss: 0.1698 - val_accuracy: 0.9191\n",
      "Epoch 577/1000\n",
      "379/379 [==============================] - 11s 29ms/step - loss: 0.2160 - accuracy: 0.8992 - val_loss: 0.1701 - val_accuracy: 0.9208\n",
      "Epoch 578/1000\n",
      "379/379 [==============================] - 11s 30ms/step - loss: 0.1932 - accuracy: 0.9074 - val_loss: 0.1640 - val_accuracy: 0.9191\n",
      "Epoch 579/1000\n",
      "379/379 [==============================] - 11s 28ms/step - loss: 0.2206 - accuracy: 0.8897 - val_loss: 0.1703 - val_accuracy: 0.9158\n",
      "Epoch 580/1000\n",
      "379/379 [==============================] - 11s 29ms/step - loss: 0.2295 - accuracy: 0.8979 - val_loss: 0.1717 - val_accuracy: 0.9191\n",
      "Epoch 581/1000\n",
      "379/379 [==============================] - 11s 29ms/step - loss: 0.2005 - accuracy: 0.9059 - val_loss: 0.1598 - val_accuracy: 0.9191\n",
      "Epoch 582/1000\n",
      "379/379 [==============================] - 11s 29ms/step - loss: 0.2297 - accuracy: 0.9012 - val_loss: 0.1664 - val_accuracy: 0.9175\n",
      "Epoch 583/1000\n",
      "379/379 [==============================] - 11s 30ms/step - loss: 0.2213 - accuracy: 0.8935 - val_loss: 0.1645 - val_accuracy: 0.9175\n",
      "Epoch 584/1000\n",
      "379/379 [==============================] - 11s 29ms/step - loss: 0.2004 - accuracy: 0.9049 - val_loss: 0.1607 - val_accuracy: 0.9191\n",
      "Epoch 585/1000\n",
      "379/379 [==============================] - 11s 29ms/step - loss: 0.2113 - accuracy: 0.9032 - val_loss: 0.1626 - val_accuracy: 0.9158\n",
      "Epoch 586/1000\n",
      "379/379 [==============================] - 11s 29ms/step - loss: 0.2142 - accuracy: 0.8965 - val_loss: 0.1679 - val_accuracy: 0.9191\n",
      "Epoch 587/1000\n",
      "379/379 [==============================] - 11s 30ms/step - loss: 0.2078 - accuracy: 0.8973 - val_loss: 0.1679 - val_accuracy: 0.9125\n",
      "Epoch 588/1000\n",
      "379/379 [==============================] - 11s 30ms/step - loss: 0.2126 - accuracy: 0.9031 - val_loss: 0.1695 - val_accuracy: 0.9175\n",
      "Epoch 589/1000\n",
      "379/379 [==============================] - 11s 29ms/step - loss: 0.2098 - accuracy: 0.9134 - val_loss: 0.1583 - val_accuracy: 0.9158\n",
      "Epoch 590/1000\n",
      "379/379 [==============================] - 12s 31ms/step - loss: 0.2218 - accuracy: 0.8956 - val_loss: 0.1752 - val_accuracy: 0.9158\n",
      "Epoch 591/1000\n",
      "379/379 [==============================] - 11s 29ms/step - loss: 0.2092 - accuracy: 0.9070 - val_loss: 0.1636 - val_accuracy: 0.9208\n",
      "Epoch 592/1000\n",
      "379/379 [==============================] - 11s 30ms/step - loss: 0.2106 - accuracy: 0.8942 - val_loss: 0.1621 - val_accuracy: 0.9257\n"
     ]
    },
    {
     "name": "stderr",
     "output_type": "stream",
     "text": [
      "WARNING:absl:Found untraced functions such as lstm_cell_layer_call_fn, lstm_cell_layer_call_and_return_conditional_losses, lstm_cell_1_layer_call_fn, lstm_cell_1_layer_call_and_return_conditional_losses, lstm_cell_2_layer_call_fn while saving (showing 5 of 15). These functions will not be directly callable after loading.\n"
     ]
    },
    {
     "name": "stdout",
     "output_type": "stream",
     "text": [
      "INFO:tensorflow:Assets written to: SleppyModels-592\\assets\n"
     ]
    },
    {
     "name": "stderr",
     "output_type": "stream",
     "text": [
      "INFO:tensorflow:Assets written to: SleppyModels-592\\assets\n"
     ]
    },
    {
     "name": "stdout",
     "output_type": "stream",
     "text": [
      "Epoch 593/1000\n",
      "379/379 [==============================] - 11s 29ms/step - loss: 0.2148 - accuracy: 0.8913 - val_loss: 0.1580 - val_accuracy: 0.9208\n",
      "Epoch 594/1000\n",
      "379/379 [==============================] - 11s 30ms/step - loss: 0.1953 - accuracy: 0.9040 - val_loss: 0.1925 - val_accuracy: 0.9092\n",
      "Epoch 595/1000\n",
      "379/379 [==============================] - 11s 29ms/step - loss: 0.2320 - accuracy: 0.8930 - val_loss: 0.1696 - val_accuracy: 0.9208\n",
      "Epoch 596/1000\n",
      "379/379 [==============================] - 12s 31ms/step - loss: 0.2114 - accuracy: 0.8982 - val_loss: 0.1641 - val_accuracy: 0.9224\n",
      "Epoch 597/1000\n",
      "379/379 [==============================] - 12s 33ms/step - loss: 0.2167 - accuracy: 0.8986 - val_loss: 0.1592 - val_accuracy: 0.9175\n",
      "Epoch 598/1000\n",
      "379/379 [==============================] - 12s 31ms/step - loss: 0.2103 - accuracy: 0.9016 - val_loss: 0.1654 - val_accuracy: 0.9158\n",
      "Epoch 599/1000\n",
      "379/379 [==============================] - 11s 29ms/step - loss: 0.2111 - accuracy: 0.9064 - val_loss: 0.1593 - val_accuracy: 0.9191\n",
      "Epoch 600/1000\n",
      "379/379 [==============================] - 11s 28ms/step - loss: 0.2066 - accuracy: 0.9053 - val_loss: 0.1558 - val_accuracy: 0.9241\n",
      "Epoch 601/1000\n",
      "379/379 [==============================] - 12s 31ms/step - loss: 0.2068 - accuracy: 0.9066 - val_loss: 0.1720 - val_accuracy: 0.9191\n",
      "Epoch 602/1000\n",
      "379/379 [==============================] - 11s 29ms/step - loss: 0.2236 - accuracy: 0.9059 - val_loss: 0.1554 - val_accuracy: 0.9274\n"
     ]
    },
    {
     "name": "stderr",
     "output_type": "stream",
     "text": [
      "WARNING:absl:Found untraced functions such as lstm_cell_layer_call_fn, lstm_cell_layer_call_and_return_conditional_losses, lstm_cell_1_layer_call_fn, lstm_cell_1_layer_call_and_return_conditional_losses, lstm_cell_2_layer_call_fn while saving (showing 5 of 15). These functions will not be directly callable after loading.\n"
     ]
    },
    {
     "name": "stdout",
     "output_type": "stream",
     "text": [
      "INFO:tensorflow:Assets written to: SleppyModels-602\\assets\n"
     ]
    },
    {
     "name": "stderr",
     "output_type": "stream",
     "text": [
      "INFO:tensorflow:Assets written to: SleppyModels-602\\assets\n"
     ]
    },
    {
     "name": "stdout",
     "output_type": "stream",
     "text": [
      "Epoch 603/1000\n",
      "379/379 [==============================] - 11s 29ms/step - loss: 0.1937 - accuracy: 0.9123 - val_loss: 0.1751 - val_accuracy: 0.9175\n",
      "Epoch 604/1000\n",
      "379/379 [==============================] - 11s 29ms/step - loss: 0.2075 - accuracy: 0.9007 - val_loss: 0.1636 - val_accuracy: 0.9175\n",
      "Epoch 605/1000\n",
      "379/379 [==============================] - 11s 30ms/step - loss: 0.1914 - accuracy: 0.9045 - val_loss: 0.1654 - val_accuracy: 0.9208\n",
      "Epoch 606/1000\n",
      "379/379 [==============================] - 11s 30ms/step - loss: 0.2160 - accuracy: 0.8956 - val_loss: 0.1686 - val_accuracy: 0.9109\n",
      "Epoch 607/1000\n",
      "379/379 [==============================] - 11s 29ms/step - loss: 0.2246 - accuracy: 0.8852 - val_loss: 0.1830 - val_accuracy: 0.9191\n",
      "Epoch 608/1000\n",
      "379/379 [==============================] - 11s 28ms/step - loss: 0.2116 - accuracy: 0.8989 - val_loss: 0.1557 - val_accuracy: 0.9257\n",
      "Epoch 609/1000\n",
      "379/379 [==============================] - 11s 30ms/step - loss: 0.1997 - accuracy: 0.9078 - val_loss: 0.2531 - val_accuracy: 0.8977\n",
      "Epoch 610/1000\n",
      "379/379 [==============================] - 11s 30ms/step - loss: 0.2495 - accuracy: 0.9033 - val_loss: 0.1579 - val_accuracy: 0.9208\n",
      "Epoch 611/1000\n",
      "379/379 [==============================] - 12s 31ms/step - loss: 0.2201 - accuracy: 0.9001 - val_loss: 0.1602 - val_accuracy: 0.9175\n",
      "Epoch 612/1000\n",
      "379/379 [==============================] - 13s 35ms/step - loss: 0.2170 - accuracy: 0.8970 - val_loss: 0.1744 - val_accuracy: 0.9175\n",
      "Epoch 613/1000\n",
      "379/379 [==============================] - 12s 33ms/step - loss: 0.2148 - accuracy: 0.8944 - val_loss: 0.1682 - val_accuracy: 0.9158\n",
      "Epoch 614/1000\n",
      "379/379 [==============================] - 11s 29ms/step - loss: 0.1908 - accuracy: 0.9075 - val_loss: 0.1847 - val_accuracy: 0.9125\n",
      "Epoch 615/1000\n",
      "379/379 [==============================] - 11s 29ms/step - loss: 0.2136 - accuracy: 0.8935 - val_loss: 0.1549 - val_accuracy: 0.9208\n",
      "Epoch 616/1000\n",
      "379/379 [==============================] - 11s 29ms/step - loss: 0.2052 - accuracy: 0.9060 - val_loss: 0.1539 - val_accuracy: 0.9241\n",
      "Epoch 617/1000\n",
      "379/379 [==============================] - 11s 28ms/step - loss: 0.1895 - accuracy: 0.9137 - val_loss: 0.1563 - val_accuracy: 0.9257\n",
      "Epoch 618/1000\n",
      "379/379 [==============================] - 11s 29ms/step - loss: 0.2263 - accuracy: 0.9030 - val_loss: 0.1565 - val_accuracy: 0.9274\n",
      "Epoch 619/1000\n",
      "379/379 [==============================] - 11s 28ms/step - loss: 0.2165 - accuracy: 0.8977 - val_loss: 0.1539 - val_accuracy: 0.9191\n",
      "Epoch 620/1000\n",
      "379/379 [==============================] - 11s 29ms/step - loss: 0.1906 - accuracy: 0.9187 - val_loss: 0.1491 - val_accuracy: 0.9241\n",
      "Epoch 621/1000\n",
      "379/379 [==============================] - 11s 29ms/step - loss: 0.1915 - accuracy: 0.9146 - val_loss: 0.1532 - val_accuracy: 0.9241\n",
      "Epoch 622/1000\n",
      "379/379 [==============================] - 13s 34ms/step - loss: 0.1899 - accuracy: 0.9068 - val_loss: 0.1546 - val_accuracy: 0.9191\n",
      "Epoch 623/1000\n",
      "379/379 [==============================] - 11s 29ms/step - loss: 0.2074 - accuracy: 0.9028 - val_loss: 0.1534 - val_accuracy: 0.9175\n",
      "Epoch 624/1000\n",
      "379/379 [==============================] - 11s 29ms/step - loss: 0.2239 - accuracy: 0.8928 - val_loss: 0.1557 - val_accuracy: 0.9224\n",
      "Epoch 625/1000\n",
      "379/379 [==============================] - 11s 28ms/step - loss: 0.2047 - accuracy: 0.9060 - val_loss: 0.1604 - val_accuracy: 0.9208\n",
      "Epoch 626/1000\n",
      "379/379 [==============================] - 11s 29ms/step - loss: 0.2065 - accuracy: 0.8976 - val_loss: 0.1572 - val_accuracy: 0.9241\n",
      "Epoch 627/1000\n",
      "379/379 [==============================] - 11s 28ms/step - loss: 0.1974 - accuracy: 0.9033 - val_loss: 0.1563 - val_accuracy: 0.9208\n",
      "Epoch 628/1000\n",
      "379/379 [==============================] - 11s 29ms/step - loss: 0.2031 - accuracy: 0.8966 - val_loss: 0.1475 - val_accuracy: 0.9224\n",
      "Epoch 629/1000\n",
      "379/379 [==============================] - 11s 29ms/step - loss: 0.2131 - accuracy: 0.8936 - val_loss: 0.1593 - val_accuracy: 0.9257\n",
      "Epoch 630/1000\n",
      "379/379 [==============================] - 11s 28ms/step - loss: 0.2022 - accuracy: 0.8947 - val_loss: 0.1668 - val_accuracy: 0.9257\n",
      "Epoch 631/1000\n",
      "379/379 [==============================] - 11s 30ms/step - loss: 0.2140 - accuracy: 0.8958 - val_loss: 0.1658 - val_accuracy: 0.9175\n",
      "Epoch 632/1000\n",
      "379/379 [==============================] - 11s 29ms/step - loss: 0.1852 - accuracy: 0.9198 - val_loss: 0.1478 - val_accuracy: 0.9274\n",
      "Epoch 633/1000\n",
      "379/379 [==============================] - 11s 29ms/step - loss: 0.1890 - accuracy: 0.9166 - val_loss: 0.1551 - val_accuracy: 0.9208\n",
      "Epoch 634/1000\n",
      "379/379 [==============================] - 11s 28ms/step - loss: 0.2348 - accuracy: 0.8940 - val_loss: 0.1530 - val_accuracy: 0.9208\n",
      "Epoch 635/1000\n",
      "379/379 [==============================] - 11s 30ms/step - loss: 0.1897 - accuracy: 0.9142 - val_loss: 0.1520 - val_accuracy: 0.9224\n",
      "Epoch 636/1000\n",
      "379/379 [==============================] - 11s 29ms/step - loss: 0.2061 - accuracy: 0.8991 - val_loss: 0.1530 - val_accuracy: 0.9257\n",
      "Epoch 637/1000\n",
      "379/379 [==============================] - 14s 36ms/step - loss: 0.2044 - accuracy: 0.9028 - val_loss: 0.1479 - val_accuracy: 0.9208\n",
      "Epoch 638/1000\n",
      "379/379 [==============================] - 11s 30ms/step - loss: 0.1999 - accuracy: 0.9051 - val_loss: 0.1505 - val_accuracy: 0.9241\n",
      "Epoch 639/1000\n",
      "379/379 [==============================] - 11s 28ms/step - loss: 0.1988 - accuracy: 0.9072 - val_loss: 0.1741 - val_accuracy: 0.9191\n",
      "Epoch 640/1000\n",
      "379/379 [==============================] - 11s 30ms/step - loss: 0.2085 - accuracy: 0.9001 - val_loss: 0.1497 - val_accuracy: 0.9241\n",
      "Epoch 641/1000\n",
      "379/379 [==============================] - 11s 30ms/step - loss: 0.2033 - accuracy: 0.9054 - val_loss: 0.1551 - val_accuracy: 0.9257\n",
      "Epoch 642/1000\n",
      "379/379 [==============================] - 12s 32ms/step - loss: 0.2076 - accuracy: 0.9026 - val_loss: 0.1499 - val_accuracy: 0.9307\n"
     ]
    },
    {
     "name": "stderr",
     "output_type": "stream",
     "text": [
      "WARNING:absl:Found untraced functions such as lstm_cell_layer_call_fn, lstm_cell_layer_call_and_return_conditional_losses, lstm_cell_1_layer_call_fn, lstm_cell_1_layer_call_and_return_conditional_losses, lstm_cell_2_layer_call_fn while saving (showing 5 of 15). These functions will not be directly callable after loading.\n"
     ]
    },
    {
     "name": "stdout",
     "output_type": "stream",
     "text": [
      "INFO:tensorflow:Assets written to: SleppyModels-642\\assets\n"
     ]
    },
    {
     "name": "stderr",
     "output_type": "stream",
     "text": [
      "INFO:tensorflow:Assets written to: SleppyModels-642\\assets\n"
     ]
    },
    {
     "name": "stdout",
     "output_type": "stream",
     "text": [
      "Epoch 643/1000\n",
      "379/379 [==============================] - 11s 30ms/step - loss: 0.1925 - accuracy: 0.9083 - val_loss: 0.1488 - val_accuracy: 0.9290\n",
      "Epoch 644/1000\n",
      "379/379 [==============================] - 12s 31ms/step - loss: 0.1974 - accuracy: 0.9073 - val_loss: 0.1522 - val_accuracy: 0.9208\n",
      "Epoch 645/1000\n",
      "379/379 [==============================] - 12s 31ms/step - loss: 0.1904 - accuracy: 0.9062 - val_loss: 0.1510 - val_accuracy: 0.9290\n",
      "Epoch 646/1000\n",
      "379/379 [==============================] - 12s 31ms/step - loss: 0.2183 - accuracy: 0.8977 - val_loss: 0.1561 - val_accuracy: 0.9257\n",
      "Epoch 647/1000\n",
      "379/379 [==============================] - 11s 29ms/step - loss: 0.2056 - accuracy: 0.9062 - val_loss: 0.1543 - val_accuracy: 0.9191\n",
      "Epoch 648/1000\n",
      "379/379 [==============================] - 12s 31ms/step - loss: 0.2043 - accuracy: 0.9066 - val_loss: 0.1553 - val_accuracy: 0.9274\n",
      "Epoch 649/1000\n",
      "379/379 [==============================] - 12s 31ms/step - loss: 0.2178 - accuracy: 0.8895 - val_loss: 0.1438 - val_accuracy: 0.9274\n",
      "Epoch 650/1000\n",
      "379/379 [==============================] - 11s 30ms/step - loss: 0.1968 - accuracy: 0.9126 - val_loss: 0.1574 - val_accuracy: 0.9191\n",
      "Epoch 651/1000\n",
      "379/379 [==============================] - 12s 31ms/step - loss: 0.2014 - accuracy: 0.9102 - val_loss: 0.1476 - val_accuracy: 0.9257\n",
      "Epoch 652/1000\n",
      "379/379 [==============================] - 11s 30ms/step - loss: 0.1934 - accuracy: 0.9060 - val_loss: 0.1446 - val_accuracy: 0.9290\n",
      "Epoch 653/1000\n",
      "379/379 [==============================] - 12s 31ms/step - loss: 0.2266 - accuracy: 0.8983 - val_loss: 0.1630 - val_accuracy: 0.9158\n",
      "Epoch 654/1000\n",
      "379/379 [==============================] - 12s 30ms/step - loss: 0.1961 - accuracy: 0.9124 - val_loss: 0.1463 - val_accuracy: 0.9191\n",
      "Epoch 655/1000\n",
      "379/379 [==============================] - 11s 30ms/step - loss: 0.1901 - accuracy: 0.9090 - val_loss: 0.1478 - val_accuracy: 0.9191\n",
      "Epoch 656/1000\n",
      "379/379 [==============================] - 12s 31ms/step - loss: 0.1855 - accuracy: 0.9097 - val_loss: 0.1453 - val_accuracy: 0.9274\n",
      "Epoch 657/1000\n",
      "379/379 [==============================] - 12s 31ms/step - loss: 0.2044 - accuracy: 0.8936 - val_loss: 0.1525 - val_accuracy: 0.9208\n",
      "Epoch 658/1000\n",
      "379/379 [==============================] - 12s 31ms/step - loss: 0.2037 - accuracy: 0.9054 - val_loss: 0.1423 - val_accuracy: 0.9290\n",
      "Epoch 659/1000\n",
      "379/379 [==============================] - 11s 30ms/step - loss: 0.2026 - accuracy: 0.9068 - val_loss: 0.1504 - val_accuracy: 0.9175\n",
      "Epoch 660/1000\n",
      "379/379 [==============================] - 12s 31ms/step - loss: 0.1988 - accuracy: 0.8991 - val_loss: 0.1461 - val_accuracy: 0.9274\n",
      "Epoch 661/1000\n",
      "379/379 [==============================] - 11s 30ms/step - loss: 0.1846 - accuracy: 0.9102 - val_loss: 0.1815 - val_accuracy: 0.9043\n",
      "Epoch 662/1000\n",
      "379/379 [==============================] - 12s 32ms/step - loss: 0.2035 - accuracy: 0.9021 - val_loss: 0.1484 - val_accuracy: 0.9224\n",
      "Epoch 663/1000\n",
      "379/379 [==============================] - 12s 31ms/step - loss: 0.1853 - accuracy: 0.9079 - val_loss: 0.1547 - val_accuracy: 0.9241\n",
      "Epoch 664/1000\n",
      "379/379 [==============================] - 13s 34ms/step - loss: 0.1985 - accuracy: 0.9069 - val_loss: 0.1573 - val_accuracy: 0.9241\n",
      "Epoch 665/1000\n",
      "379/379 [==============================] - 12s 31ms/step - loss: 0.1766 - accuracy: 0.9262 - val_loss: 0.1578 - val_accuracy: 0.9241\n",
      "Epoch 666/1000\n",
      "379/379 [==============================] - 12s 31ms/step - loss: 0.2153 - accuracy: 0.8984 - val_loss: 0.1452 - val_accuracy: 0.9241\n",
      "Epoch 667/1000\n",
      "379/379 [==============================] - 12s 31ms/step - loss: 0.1880 - accuracy: 0.9145 - val_loss: 0.1445 - val_accuracy: 0.9274\n",
      "Epoch 668/1000\n",
      "379/379 [==============================] - 12s 31ms/step - loss: 0.1983 - accuracy: 0.9057 - val_loss: 0.1415 - val_accuracy: 0.92570.90\n",
      "Epoch 669/1000\n",
      "379/379 [==============================] - 12s 31ms/step - loss: 0.1906 - accuracy: 0.9144 - val_loss: 0.1474 - val_accuracy: 0.9241\n",
      "Epoch 670/1000\n",
      "379/379 [==============================] - 12s 32ms/step - loss: 0.2001 - accuracy: 0.9006 - val_loss: 0.1406 - val_accuracy: 0.9257\n",
      "Epoch 671/1000\n",
      "379/379 [==============================] - 12s 30ms/step - loss: 0.1740 - accuracy: 0.9174 - val_loss: 0.1379 - val_accuracy: 0.927472 - ETA: 0s - loss: 0.1738 - accuracy: 0. - ETA: 0s - loss: 0.1739 - accuracy: \n",
      "Epoch 672/1000\n",
      "379/379 [==============================] - 12s 31ms/step - loss: 0.2138 - accuracy: 0.9016 - val_loss: 0.1378 - val_accuracy: 0.9274\n",
      "Epoch 673/1000\n",
      "379/379 [==============================] - 11s 30ms/step - loss: 0.1929 - accuracy: 0.9080 - val_loss: 0.1361 - val_accuracy: 0.9257\n",
      "Epoch 674/1000\n",
      "379/379 [==============================] - 13s 34ms/step - loss: 0.1913 - accuracy: 0.9101 - val_loss: 0.1430 - val_accuracy: 0.9323\n"
     ]
    },
    {
     "name": "stderr",
     "output_type": "stream",
     "text": [
      "WARNING:absl:Found untraced functions such as lstm_cell_layer_call_fn, lstm_cell_layer_call_and_return_conditional_losses, lstm_cell_1_layer_call_fn, lstm_cell_1_layer_call_and_return_conditional_losses, lstm_cell_2_layer_call_fn while saving (showing 5 of 15). These functions will not be directly callable after loading.\n"
     ]
    },
    {
     "name": "stdout",
     "output_type": "stream",
     "text": [
      "INFO:tensorflow:Assets written to: SleppyModels-674\\assets\n"
     ]
    },
    {
     "name": "stderr",
     "output_type": "stream",
     "text": [
      "INFO:tensorflow:Assets written to: SleppyModels-674\\assets\n"
     ]
    },
    {
     "name": "stdout",
     "output_type": "stream",
     "text": [
      "Epoch 675/1000\n",
      "379/379 [==============================] - 11s 29ms/step - loss: 0.2016 - accuracy: 0.9097 - val_loss: 0.1501 - val_accuracy: 0.9257\n",
      "Epoch 676/1000\n",
      "379/379 [==============================] - 11s 29ms/step - loss: 0.1793 - accuracy: 0.9209 - val_loss: 0.1445 - val_accuracy: 0.9224\n",
      "Epoch 677/1000\n",
      "379/379 [==============================] - 11s 30ms/step - loss: 0.1871 - accuracy: 0.9060 - val_loss: 0.1447 - val_accuracy: 0.9241\n",
      "Epoch 678/1000\n",
      "379/379 [==============================] - 12s 32ms/step - loss: 0.1894 - accuracy: 0.9145 - val_loss: 0.1386 - val_accuracy: 0.9274\n",
      "Epoch 679/1000\n",
      "379/379 [==============================] - 11s 29ms/step - loss: 0.1937 - accuracy: 0.9062 - val_loss: 0.1585 - val_accuracy: 0.9224\n",
      "Epoch 680/1000\n",
      "379/379 [==============================] - 11s 28ms/step - loss: 0.1927 - accuracy: 0.9111 - val_loss: 0.1488 - val_accuracy: 0.9241\n",
      "Epoch 681/1000\n",
      "379/379 [==============================] - 11s 29ms/step - loss: 0.2046 - accuracy: 0.8958 - val_loss: 0.1457 - val_accuracy: 0.9290\n",
      "Epoch 682/1000\n",
      "379/379 [==============================] - 11s 28ms/step - loss: 0.1964 - accuracy: 0.9026 - val_loss: 0.1639 - val_accuracy: 0.9290\n",
      "Epoch 683/1000\n",
      "379/379 [==============================] - 11s 30ms/step - loss: 0.2187 - accuracy: 0.9033 - val_loss: 0.1438 - val_accuracy: 0.9290\n",
      "Epoch 684/1000\n",
      "379/379 [==============================] - 11s 29ms/step - loss: 0.1832 - accuracy: 0.9164 - val_loss: 0.1397 - val_accuracy: 0.9241\n",
      "Epoch 685/1000\n",
      "379/379 [==============================] - 11s 29ms/step - loss: 0.1823 - accuracy: 0.9111 - val_loss: 0.1375 - val_accuracy: 0.9241\n",
      "Epoch 686/1000\n",
      "379/379 [==============================] - 11s 28ms/step - loss: 0.1889 - accuracy: 0.9191 - val_loss: 0.1497 - val_accuracy: 0.9257\n",
      "Epoch 687/1000\n",
      "379/379 [==============================] - 11s 28ms/step - loss: 0.1943 - accuracy: 0.9094 - val_loss: 0.1374 - val_accuracy: 0.9274\n",
      "Epoch 688/1000\n",
      "379/379 [==============================] - 11s 29ms/step - loss: 0.1851 - accuracy: 0.9043 - val_loss: 0.1364 - val_accuracy: 0.9290\n",
      "Epoch 689/1000\n",
      "379/379 [==============================] - 11s 28ms/step - loss: 0.1915 - accuracy: 0.9039 - val_loss: 0.1406 - val_accuracy: 0.9274\n",
      "Epoch 690/1000\n",
      "379/379 [==============================] - 11s 29ms/step - loss: 0.2107 - accuracy: 0.8986 - val_loss: 0.1344 - val_accuracy: 0.9307\n",
      "Epoch 691/1000\n",
      "379/379 [==============================] - 11s 28ms/step - loss: 0.1871 - accuracy: 0.9104 - val_loss: 0.1362 - val_accuracy: 0.9274\n",
      "Epoch 692/1000\n",
      "379/379 [==============================] - 11s 29ms/step - loss: 0.1889 - accuracy: 0.9186 - val_loss: 0.1451 - val_accuracy: 0.9340\n"
     ]
    },
    {
     "name": "stderr",
     "output_type": "stream",
     "text": [
      "WARNING:absl:Found untraced functions such as lstm_cell_layer_call_fn, lstm_cell_layer_call_and_return_conditional_losses, lstm_cell_1_layer_call_fn, lstm_cell_1_layer_call_and_return_conditional_losses, lstm_cell_2_layer_call_fn while saving (showing 5 of 15). These functions will not be directly callable after loading.\n"
     ]
    },
    {
     "name": "stdout",
     "output_type": "stream",
     "text": [
      "INFO:tensorflow:Assets written to: SleppyModels-692\\assets\n"
     ]
    },
    {
     "name": "stderr",
     "output_type": "stream",
     "text": [
      "INFO:tensorflow:Assets written to: SleppyModels-692\\assets\n"
     ]
    },
    {
     "name": "stdout",
     "output_type": "stream",
     "text": [
      "Epoch 693/1000\n",
      "379/379 [==============================] - 10s 28ms/step - loss: 0.1818 - accuracy: 0.9178 - val_loss: 0.1378 - val_accuracy: 0.9323\n",
      "Epoch 694/1000\n",
      "379/379 [==============================] - 11s 28ms/step - loss: 0.1842 - accuracy: 0.9142 - val_loss: 0.1361 - val_accuracy: 0.9274\n",
      "Epoch 695/1000\n",
      "379/379 [==============================] - 11s 28ms/step - loss: 0.1733 - accuracy: 0.9179 - val_loss: 0.1283 - val_accuracy: 0.9340\n",
      "Epoch 696/1000\n",
      "379/379 [==============================] - 11s 28ms/step - loss: 0.2021 - accuracy: 0.9045 - val_loss: 0.1657 - val_accuracy: 0.9142\n",
      "Epoch 697/1000\n",
      "379/379 [==============================] - 11s 28ms/step - loss: 0.2090 - accuracy: 0.9072 - val_loss: 0.1447 - val_accuracy: 0.9241\n",
      "Epoch 698/1000\n",
      "379/379 [==============================] - 11s 29ms/step - loss: 0.1803 - accuracy: 0.9105 - val_loss: 0.1298 - val_accuracy: 0.9307\n",
      "Epoch 699/1000\n",
      "379/379 [==============================] - 10s 27ms/step - loss: 0.1899 - accuracy: 0.8958 - val_loss: 0.1279 - val_accuracy: 0.9356\n"
     ]
    },
    {
     "name": "stderr",
     "output_type": "stream",
     "text": [
      "WARNING:absl:Found untraced functions such as lstm_cell_layer_call_fn, lstm_cell_layer_call_and_return_conditional_losses, lstm_cell_1_layer_call_fn, lstm_cell_1_layer_call_and_return_conditional_losses, lstm_cell_2_layer_call_fn while saving (showing 5 of 15). These functions will not be directly callable after loading.\n"
     ]
    },
    {
     "name": "stdout",
     "output_type": "stream",
     "text": [
      "INFO:tensorflow:Assets written to: SleppyModels-699\\assets\n"
     ]
    },
    {
     "name": "stderr",
     "output_type": "stream",
     "text": [
      "INFO:tensorflow:Assets written to: SleppyModels-699\\assets\n"
     ]
    },
    {
     "name": "stdout",
     "output_type": "stream",
     "text": [
      "Epoch 700/1000\n",
      "379/379 [==============================] - 11s 28ms/step - loss: 0.1862 - accuracy: 0.9059 - val_loss: 0.1327 - val_accuracy: 0.9307\n",
      "Epoch 701/1000\n",
      "379/379 [==============================] - 11s 29ms/step - loss: 0.1805 - accuracy: 0.9138 - val_loss: 0.1425 - val_accuracy: 0.9208\n",
      "Epoch 702/1000\n",
      "379/379 [==============================] - 11s 28ms/step - loss: 0.1822 - accuracy: 0.9183 - val_loss: 0.1356 - val_accuracy: 0.9307\n",
      "Epoch 703/1000\n",
      "379/379 [==============================] - 11s 28ms/step - loss: 0.1764 - accuracy: 0.9128 - val_loss: 0.1381 - val_accuracy: 0.9274\n",
      "Epoch 704/1000\n",
      "379/379 [==============================] - 11s 28ms/step - loss: 0.1810 - accuracy: 0.9128 - val_loss: 0.1480 - val_accuracy: 0.9241\n",
      "Epoch 705/1000\n",
      "379/379 [==============================] - 12s 31ms/step - loss: 0.1673 - accuracy: 0.9192 - val_loss: 0.1319 - val_accuracy: 0.9340\n",
      "Epoch 706/1000\n",
      "379/379 [==============================] - 11s 28ms/step - loss: 0.2083 - accuracy: 0.9023 - val_loss: 0.1289 - val_accuracy: 0.9307\n",
      "Epoch 707/1000\n",
      "379/379 [==============================] - 12s 31ms/step - loss: 0.1855 - accuracy: 0.9100 - val_loss: 0.1423 - val_accuracy: 0.9208\n",
      "Epoch 708/1000\n",
      "379/379 [==============================] - 11s 28ms/step - loss: 0.1772 - accuracy: 0.9144 - val_loss: 0.1304 - val_accuracy: 0.9389\n"
     ]
    },
    {
     "name": "stderr",
     "output_type": "stream",
     "text": [
      "WARNING:absl:Found untraced functions such as lstm_cell_layer_call_fn, lstm_cell_layer_call_and_return_conditional_losses, lstm_cell_1_layer_call_fn, lstm_cell_1_layer_call_and_return_conditional_losses, lstm_cell_2_layer_call_fn while saving (showing 5 of 15). These functions will not be directly callable after loading.\n"
     ]
    },
    {
     "name": "stdout",
     "output_type": "stream",
     "text": [
      "INFO:tensorflow:Assets written to: SleppyModels-708\\assets\n"
     ]
    },
    {
     "name": "stderr",
     "output_type": "stream",
     "text": [
      "INFO:tensorflow:Assets written to: SleppyModels-708\\assets\n"
     ]
    },
    {
     "name": "stdout",
     "output_type": "stream",
     "text": [
      "Epoch 709/1000\n",
      "379/379 [==============================] - 11s 29ms/step - loss: 0.1766 - accuracy: 0.9141 - val_loss: 0.1328 - val_accuracy: 0.9257\n",
      "Epoch 710/1000\n",
      "379/379 [==============================] - 10s 28ms/step - loss: 0.2053 - accuracy: 0.9055 - val_loss: 0.1558 - val_accuracy: 0.9340\n",
      "Epoch 711/1000\n",
      "379/379 [==============================] - 11s 30ms/step - loss: 0.1886 - accuracy: 0.9186 - val_loss: 0.1416 - val_accuracy: 0.9274\n",
      "Epoch 712/1000\n",
      "379/379 [==============================] - 11s 28ms/step - loss: 0.1954 - accuracy: 0.9130 - val_loss: 0.1521 - val_accuracy: 0.9158\n",
      "Epoch 713/1000\n",
      "379/379 [==============================] - 11s 28ms/step - loss: 0.1793 - accuracy: 0.9060 - val_loss: 0.1302 - val_accuracy: 0.9290\n",
      "Epoch 714/1000\n",
      "379/379 [==============================] - 10s 28ms/step - loss: 0.1761 - accuracy: 0.9156 - val_loss: 0.1278 - val_accuracy: 0.9290\n",
      "Epoch 715/1000\n",
      "379/379 [==============================] - 11s 29ms/step - loss: 0.1641 - accuracy: 0.9255 - val_loss: 0.1323 - val_accuracy: 0.9307\n",
      "Epoch 716/1000\n",
      "379/379 [==============================] - 11s 28ms/step - loss: 0.1716 - accuracy: 0.9253 - val_loss: 0.1331 - val_accuracy: 0.9257\n",
      "Epoch 717/1000\n",
      "379/379 [==============================] - 11s 28ms/step - loss: 0.1799 - accuracy: 0.9167 - val_loss: 0.1512 - val_accuracy: 0.9208\n",
      "Epoch 718/1000\n",
      "379/379 [==============================] - 11s 28ms/step - loss: 0.1774 - accuracy: 0.9186 - val_loss: 0.1279 - val_accuracy: 0.9373\n",
      "Epoch 719/1000\n",
      "379/379 [==============================] - 11s 28ms/step - loss: 0.1751 - accuracy: 0.9093 - val_loss: 0.1319 - val_accuracy: 0.9323\n",
      "Epoch 720/1000\n",
      "379/379 [==============================] - 11s 28ms/step - loss: 0.1929 - accuracy: 0.9066 - val_loss: 0.1896 - val_accuracy: 0.9059\n",
      "Epoch 721/1000\n",
      "379/379 [==============================] - 12s 30ms/step - loss: 0.2100 - accuracy: 0.8968 - val_loss: 0.1301 - val_accuracy: 0.9323\n",
      "Epoch 722/1000\n",
      "379/379 [==============================] - 10s 27ms/step - loss: 0.1774 - accuracy: 0.9161 - val_loss: 0.1345 - val_accuracy: 0.9323\n",
      "Epoch 723/1000\n",
      "379/379 [==============================] - 11s 28ms/step - loss: 0.1773 - accuracy: 0.9149 - val_loss: 0.1299 - val_accuracy: 0.9307\n",
      "Epoch 724/1000\n",
      "379/379 [==============================] - 10s 27ms/step - loss: 0.1928 - accuracy: 0.9057 - val_loss: 0.1415 - val_accuracy: 0.9274\n",
      "Epoch 725/1000\n",
      "379/379 [==============================] - 11s 28ms/step - loss: 0.1995 - accuracy: 0.9100 - val_loss: 0.1316 - val_accuracy: 0.9274\n",
      "Epoch 726/1000\n",
      "379/379 [==============================] - 11s 29ms/step - loss: 0.1755 - accuracy: 0.9197 - val_loss: 0.1400 - val_accuracy: 0.9224\n",
      "Epoch 727/1000\n",
      "379/379 [==============================] - 11s 28ms/step - loss: 0.1892 - accuracy: 0.9211 - val_loss: 0.1318 - val_accuracy: 0.9323\n",
      "Epoch 728/1000\n",
      "379/379 [==============================] - 11s 28ms/step - loss: 0.1735 - accuracy: 0.9198 - val_loss: 0.1343 - val_accuracy: 0.9323\n",
      "Epoch 729/1000\n",
      "379/379 [==============================] - 11s 28ms/step - loss: 0.1882 - accuracy: 0.9073 - val_loss: 0.1239 - val_accuracy: 0.9340\n",
      "Epoch 730/1000\n",
      "379/379 [==============================] - 11s 28ms/step - loss: 0.1663 - accuracy: 0.9278 - val_loss: 0.1254 - val_accuracy: 0.9356\n",
      "Epoch 731/1000\n",
      "379/379 [==============================] - 12s 30ms/step - loss: 0.1742 - accuracy: 0.9184 - val_loss: 0.1339 - val_accuracy: 0.9290\n",
      "Epoch 732/1000\n",
      "379/379 [==============================] - 10s 28ms/step - loss: 0.1670 - accuracy: 0.9205 - val_loss: 0.1486 - val_accuracy: 0.9208\n",
      "Epoch 733/1000\n",
      "379/379 [==============================] - 11s 28ms/step - loss: 0.1885 - accuracy: 0.9062 - val_loss: 0.1245 - val_accuracy: 0.9307\n",
      "Epoch 734/1000\n",
      "379/379 [==============================] - 10s 27ms/step - loss: 0.1869 - accuracy: 0.9154 - val_loss: 0.1401 - val_accuracy: 0.9356\n",
      "Epoch 735/1000\n",
      "379/379 [==============================] - 11s 28ms/step - loss: 0.1829 - accuracy: 0.9145 - val_loss: 0.1310 - val_accuracy: 0.9307\n",
      "Epoch 736/1000\n",
      "379/379 [==============================] - 11s 28ms/step - loss: 0.2077 - accuracy: 0.9082 - val_loss: 0.1467 - val_accuracy: 0.9191\n",
      "Epoch 737/1000\n",
      "379/379 [==============================] - 11s 28ms/step - loss: 0.1879 - accuracy: 0.9184 - val_loss: 0.1239 - val_accuracy: 0.9323\n",
      "Epoch 738/1000\n",
      "379/379 [==============================] - 10s 28ms/step - loss: 0.1838 - accuracy: 0.9166 - val_loss: 0.1303 - val_accuracy: 0.9389\n",
      "Epoch 739/1000\n",
      "379/379 [==============================] - 11s 28ms/step - loss: 0.1784 - accuracy: 0.9245 - val_loss: 0.2085 - val_accuracy: 0.9125\n",
      "Epoch 740/1000\n",
      "379/379 [==============================] - 11s 28ms/step - loss: 0.2461 - accuracy: 0.8922 - val_loss: 0.1246 - val_accuracy: 0.9373\n",
      "Epoch 741/1000\n",
      "379/379 [==============================] - 11s 28ms/step - loss: 0.1656 - accuracy: 0.9215 - val_loss: 0.1242 - val_accuracy: 0.9373\n",
      "Epoch 742/1000\n",
      "379/379 [==============================] - 11s 28ms/step - loss: 0.1752 - accuracy: 0.9197 - val_loss: 0.1252 - val_accuracy: 0.9356\n",
      "Epoch 743/1000\n",
      "379/379 [==============================] - 17s 45ms/step - loss: 0.1836 - accuracy: 0.9127 - val_loss: 0.1239 - val_accuracy: 0.9373\n",
      "Epoch 744/1000\n",
      "379/379 [==============================] - 17s 46ms/step - loss: 0.1744 - accuracy: 0.9179 - val_loss: 0.1219 - val_accuracy: 0.9340\n",
      "Epoch 745/1000\n",
      "379/379 [==============================] - 19s 49ms/step - loss: 0.1679 - accuracy: 0.9124 - val_loss: 0.1463 - val_accuracy: 0.9241\n",
      "Epoch 746/1000\n",
      "379/379 [==============================] - 16s 41ms/step - loss: 0.2921 - accuracy: 0.8828 - val_loss: 0.1278 - val_accuracy: 0.9257\n",
      "Epoch 747/1000\n",
      "379/379 [==============================] - 19s 50ms/step - loss: 0.1606 - accuracy: 0.9179 - val_loss: 0.1196 - val_accuracy: 0.9389\n",
      "Epoch 748/1000\n",
      "379/379 [==============================] - 24s 63ms/step - loss: 0.1582 - accuracy: 0.9266 - val_loss: 0.1257 - val_accuracy: 0.9323\n",
      "Epoch 749/1000\n",
      "379/379 [==============================] - 20s 52ms/step - loss: 0.1985 - accuracy: 0.9062 - val_loss: 0.1267 - val_accuracy: 0.9422\n"
     ]
    },
    {
     "name": "stderr",
     "output_type": "stream",
     "text": [
      "WARNING:absl:Found untraced functions such as lstm_cell_layer_call_fn, lstm_cell_layer_call_and_return_conditional_losses, lstm_cell_1_layer_call_fn, lstm_cell_1_layer_call_and_return_conditional_losses, lstm_cell_2_layer_call_fn while saving (showing 5 of 15). These functions will not be directly callable after loading.\n"
     ]
    },
    {
     "name": "stdout",
     "output_type": "stream",
     "text": [
      "INFO:tensorflow:Assets written to: SleppyModels-749\\assets\n"
     ]
    },
    {
     "name": "stderr",
     "output_type": "stream",
     "text": [
      "INFO:tensorflow:Assets written to: SleppyModels-749\\assets\n"
     ]
    },
    {
     "name": "stdout",
     "output_type": "stream",
     "text": [
      "Epoch 750/1000\n",
      "379/379 [==============================] - 19s 49ms/step - loss: 0.2274 - accuracy: 0.8965 - val_loss: 0.1220 - val_accuracy: 0.9389\n",
      "Epoch 751/1000\n",
      "379/379 [==============================] - 17s 44ms/step - loss: 0.1920 - accuracy: 0.9123 - val_loss: 0.1351 - val_accuracy: 0.9290\n",
      "Epoch 752/1000\n",
      "379/379 [==============================] - 12s 33ms/step - loss: 0.1673 - accuracy: 0.9189 - val_loss: 0.1276 - val_accuracy: 0.9323\n",
      "Epoch 753/1000\n",
      "379/379 [==============================] - 11s 30ms/step - loss: 0.1838 - accuracy: 0.9188 - val_loss: 0.1258 - val_accuracy: 0.9373\n",
      "Epoch 754/1000\n",
      "379/379 [==============================] - 11s 29ms/step - loss: 0.1732 - accuracy: 0.9199 - val_loss: 0.1317 - val_accuracy: 0.9356\n",
      "Epoch 755/1000\n",
      "379/379 [==============================] - 13s 35ms/step - loss: 0.1957 - accuracy: 0.9137 - val_loss: 0.1261 - val_accuracy: 0.9290\n",
      "Epoch 756/1000\n",
      "379/379 [==============================] - 11s 29ms/step - loss: 0.2053 - accuracy: 0.9032 - val_loss: 0.1273 - val_accuracy: 0.9323\n",
      "Epoch 757/1000\n",
      "379/379 [==============================] - 11s 28ms/step - loss: 0.1749 - accuracy: 0.9144 - val_loss: 0.1446 - val_accuracy: 0.9191\n",
      "Epoch 758/1000\n",
      "379/379 [==============================] - 11s 30ms/step - loss: 0.1697 - accuracy: 0.9153 - val_loss: 0.1344 - val_accuracy: 0.9290\n",
      "Epoch 759/1000\n",
      "379/379 [==============================] - 12s 31ms/step - loss: 0.1856 - accuracy: 0.9067 - val_loss: 0.1188 - val_accuracy: 0.9356\n",
      "Epoch 760/1000\n",
      "379/379 [==============================] - 11s 30ms/step - loss: 0.1722 - accuracy: 0.9174 - val_loss: 0.1377 - val_accuracy: 0.9241\n",
      "Epoch 761/1000\n",
      "379/379 [==============================] - 11s 29ms/step - loss: 0.1737 - accuracy: 0.9117 - val_loss: 0.1225 - val_accuracy: 0.9373\n",
      "Epoch 762/1000\n",
      "379/379 [==============================] - 11s 29ms/step - loss: 0.1767 - accuracy: 0.9156 - val_loss: 0.1370 - val_accuracy: 0.9307\n",
      "Epoch 763/1000\n",
      "379/379 [==============================] - 11s 30ms/step - loss: 0.1963 - accuracy: 0.9025 - val_loss: 0.1236 - val_accuracy: 0.9307\n",
      "Epoch 764/1000\n",
      "379/379 [==============================] - 11s 30ms/step - loss: 0.1659 - accuracy: 0.9160 - val_loss: 0.1220 - val_accuracy: 0.9373\n",
      "Epoch 765/1000\n",
      "379/379 [==============================] - 11s 30ms/step - loss: 0.1733 - accuracy: 0.9176 - val_loss: 0.1546 - val_accuracy: 0.9208\n",
      "Epoch 766/1000\n",
      "379/379 [==============================] - 12s 31ms/step - loss: 0.1834 - accuracy: 0.9129 - val_loss: 0.1294 - val_accuracy: 0.9406\n",
      "Epoch 767/1000\n",
      "379/379 [==============================] - 11s 30ms/step - loss: 0.1606 - accuracy: 0.9224 - val_loss: 0.1277 - val_accuracy: 0.9422\n",
      "Epoch 768/1000\n",
      "379/379 [==============================] - 11s 29ms/step - loss: 0.1991 - accuracy: 0.9066 - val_loss: 0.1319 - val_accuracy: 0.9323\n",
      "Epoch 769/1000\n",
      "379/379 [==============================] - 11s 30ms/step - loss: 0.1621 - accuracy: 0.9309 - val_loss: 0.1157 - val_accuracy: 0.9389\n",
      "Epoch 770/1000\n",
      "379/379 [==============================] - 11s 29ms/step - loss: 0.1616 - accuracy: 0.9221 - val_loss: 0.1571 - val_accuracy: 0.9191\n",
      "Epoch 771/1000\n",
      "379/379 [==============================] - 11s 30ms/step - loss: 0.2064 - accuracy: 0.9059 - val_loss: 0.1186 - val_accuracy: 0.9356\n",
      "Epoch 772/1000\n",
      "379/379 [==============================] - 11s 29ms/step - loss: 0.1574 - accuracy: 0.9249 - val_loss: 0.1149 - val_accuracy: 0.9373\n",
      "Epoch 773/1000\n",
      "379/379 [==============================] - 11s 30ms/step - loss: 0.1667 - accuracy: 0.9198 - val_loss: 0.1181 - val_accuracy: 0.9340\n",
      "Epoch 774/1000\n",
      "379/379 [==============================] - 11s 29ms/step - loss: 0.1749 - accuracy: 0.9180 - val_loss: 0.1217 - val_accuracy: 0.9406\n",
      "Epoch 775/1000\n",
      "379/379 [==============================] - 12s 32ms/step - loss: 0.1864 - accuracy: 0.9141 - val_loss: 0.1193 - val_accuracy: 0.9389\n",
      "Epoch 776/1000\n",
      "379/379 [==============================] - 11s 30ms/step - loss: 0.1811 - accuracy: 0.9210 - val_loss: 0.1187 - val_accuracy: 0.9340\n",
      "Epoch 777/1000\n",
      "379/379 [==============================] - 11s 30ms/step - loss: 0.1735 - accuracy: 0.9245 - val_loss: 0.1172 - val_accuracy: 0.9373\n",
      "Epoch 778/1000\n",
      "379/379 [==============================] - 11s 30ms/step - loss: 0.1771 - accuracy: 0.9176 - val_loss: 0.1304 - val_accuracy: 0.9356\n",
      "Epoch 779/1000\n",
      "379/379 [==============================] - 11s 29ms/step - loss: 0.1883 - accuracy: 0.9034 - val_loss: 0.1301 - val_accuracy: 0.9241\n",
      "Epoch 780/1000\n",
      "379/379 [==============================] - 11s 30ms/step - loss: 0.1713 - accuracy: 0.9220 - val_loss: 0.1192 - val_accuracy: 0.9373\n",
      "Epoch 781/1000\n",
      "379/379 [==============================] - 11s 29ms/step - loss: 0.1616 - accuracy: 0.9152 - val_loss: 0.1246 - val_accuracy: 0.9274\n",
      "Epoch 782/1000\n",
      "379/379 [==============================] - 12s 32ms/step - loss: 0.1784 - accuracy: 0.9156 - val_loss: 0.1138 - val_accuracy: 0.9439\n"
     ]
    },
    {
     "name": "stderr",
     "output_type": "stream",
     "text": [
      "WARNING:absl:Found untraced functions such as lstm_cell_layer_call_fn, lstm_cell_layer_call_and_return_conditional_losses, lstm_cell_1_layer_call_fn, lstm_cell_1_layer_call_and_return_conditional_losses, lstm_cell_2_layer_call_fn while saving (showing 5 of 15). These functions will not be directly callable after loading.\n"
     ]
    },
    {
     "name": "stdout",
     "output_type": "stream",
     "text": [
      "INFO:tensorflow:Assets written to: SleppyModels-782\\assets\n"
     ]
    },
    {
     "name": "stderr",
     "output_type": "stream",
     "text": [
      "INFO:tensorflow:Assets written to: SleppyModels-782\\assets\n"
     ]
    },
    {
     "name": "stdout",
     "output_type": "stream",
     "text": [
      "Epoch 783/1000\n",
      "379/379 [==============================] - 11s 28ms/step - loss: 0.1633 - accuracy: 0.9246 - val_loss: 0.1209 - val_accuracy: 0.9439\n",
      "Epoch 784/1000\n",
      "379/379 [==============================] - 11s 28ms/step - loss: 0.2014 - accuracy: 0.9098 - val_loss: 0.1137 - val_accuracy: 0.9406\n",
      "Epoch 785/1000\n",
      "379/379 [==============================] - 11s 28ms/step - loss: 0.1596 - accuracy: 0.9209 - val_loss: 0.1113 - val_accuracy: 0.9422\n",
      "Epoch 786/1000\n",
      "379/379 [==============================] - 11s 29ms/step - loss: 0.1712 - accuracy: 0.9222 - val_loss: 0.1273 - val_accuracy: 0.9356\n",
      "Epoch 787/1000\n",
      "379/379 [==============================] - 11s 29ms/step - loss: 0.1858 - accuracy: 0.9195 - val_loss: 0.1351 - val_accuracy: 0.9257\n",
      "Epoch 788/1000\n",
      "379/379 [==============================] - 11s 29ms/step - loss: 0.1936 - accuracy: 0.9162 - val_loss: 0.1188 - val_accuracy: 0.9356\n",
      "Epoch 789/1000\n",
      "379/379 [==============================] - 11s 29ms/step - loss: 0.1786 - accuracy: 0.9194 - val_loss: 0.1144 - val_accuracy: 0.9422\n",
      "Epoch 790/1000\n",
      "379/379 [==============================] - 11s 28ms/step - loss: 0.1769 - accuracy: 0.9189 - val_loss: 0.1160 - val_accuracy: 0.9340\n",
      "Epoch 791/1000\n",
      "379/379 [==============================] - 11s 29ms/step - loss: 0.1812 - accuracy: 0.9142 - val_loss: 0.1144 - val_accuracy: 0.9389\n",
      "Epoch 792/1000\n",
      "379/379 [==============================] - 11s 29ms/step - loss: 0.1757 - accuracy: 0.9176 - val_loss: 0.1137 - val_accuracy: 0.9439\n",
      "Epoch 793/1000\n",
      "379/379 [==============================] - 11s 29ms/step - loss: 0.1628 - accuracy: 0.9163 - val_loss: 0.1232 - val_accuracy: 0.9389\n",
      "Epoch 794/1000\n",
      "379/379 [==============================] - 11s 28ms/step - loss: 0.1642 - accuracy: 0.9299 - val_loss: 0.1508 - val_accuracy: 0.9241\n",
      "Epoch 795/1000\n",
      "379/379 [==============================] - 11s 29ms/step - loss: 0.1766 - accuracy: 0.9220 - val_loss: 0.1145 - val_accuracy: 0.9455\n"
     ]
    },
    {
     "name": "stderr",
     "output_type": "stream",
     "text": [
      "WARNING:absl:Found untraced functions such as lstm_cell_layer_call_fn, lstm_cell_layer_call_and_return_conditional_losses, lstm_cell_1_layer_call_fn, lstm_cell_1_layer_call_and_return_conditional_losses, lstm_cell_2_layer_call_fn while saving (showing 5 of 15). These functions will not be directly callable after loading.\n"
     ]
    },
    {
     "name": "stdout",
     "output_type": "stream",
     "text": [
      "INFO:tensorflow:Assets written to: SleppyModels-795\\assets\n"
     ]
    },
    {
     "name": "stderr",
     "output_type": "stream",
     "text": [
      "INFO:tensorflow:Assets written to: SleppyModels-795\\assets\n"
     ]
    },
    {
     "name": "stdout",
     "output_type": "stream",
     "text": [
      "Epoch 796/1000\n",
      "379/379 [==============================] - 11s 30ms/step - loss: 0.1673 - accuracy: 0.9272 - val_loss: 0.1233 - val_accuracy: 0.9389\n",
      "Epoch 797/1000\n",
      "379/379 [==============================] - 11s 30ms/step - loss: 0.1518 - accuracy: 0.9284 - val_loss: 0.1207 - val_accuracy: 0.9373\n",
      "Epoch 798/1000\n",
      "379/379 [==============================] - 12s 31ms/step - loss: 0.2160 - accuracy: 0.8968 - val_loss: 0.1174 - val_accuracy: 0.9505\n"
     ]
    },
    {
     "name": "stderr",
     "output_type": "stream",
     "text": [
      "WARNING:absl:Found untraced functions such as lstm_cell_layer_call_fn, lstm_cell_layer_call_and_return_conditional_losses, lstm_cell_1_layer_call_fn, lstm_cell_1_layer_call_and_return_conditional_losses, lstm_cell_2_layer_call_fn while saving (showing 5 of 15). These functions will not be directly callable after loading.\n"
     ]
    },
    {
     "name": "stdout",
     "output_type": "stream",
     "text": [
      "INFO:tensorflow:Assets written to: SleppyModels-798\\assets\n"
     ]
    },
    {
     "name": "stderr",
     "output_type": "stream",
     "text": [
      "INFO:tensorflow:Assets written to: SleppyModels-798\\assets\n"
     ]
    },
    {
     "name": "stdout",
     "output_type": "stream",
     "text": [
      "Epoch 799/1000\n",
      "379/379 [==============================] - 11s 29ms/step - loss: 0.1569 - accuracy: 0.9326 - val_loss: 0.1191 - val_accuracy: 0.9439\n",
      "Epoch 800/1000\n",
      "379/379 [==============================] - 12s 30ms/step - loss: 0.1489 - accuracy: 0.9219 - val_loss: 0.1275 - val_accuracy: 0.9373\n",
      "Epoch 801/1000\n",
      "379/379 [==============================] - 12s 32ms/step - loss: 0.1914 - accuracy: 0.9098 - val_loss: 0.1267 - val_accuracy: 0.9389\n",
      "Epoch 802/1000\n",
      "379/379 [==============================] - 14s 36ms/step - loss: 0.1541 - accuracy: 0.9278 - val_loss: 0.1132 - val_accuracy: 0.9422\n",
      "Epoch 803/1000\n",
      "379/379 [==============================] - 14s 38ms/step - loss: 0.1532 - accuracy: 0.9270 - val_loss: 0.1190 - val_accuracy: 0.9340\n",
      "Epoch 804/1000\n",
      "379/379 [==============================] - 12s 33ms/step - loss: 0.1776 - accuracy: 0.9060 - val_loss: 0.1141 - val_accuracy: 0.9340\n",
      "Epoch 805/1000\n",
      "379/379 [==============================] - 12s 31ms/step - loss: 0.1645 - accuracy: 0.9151 - val_loss: 0.1381 - val_accuracy: 0.9274\n",
      "Epoch 806/1000\n",
      "379/379 [==============================] - 11s 29ms/step - loss: 0.1722 - accuracy: 0.9221 - val_loss: 0.1162 - val_accuracy: 0.9406\n",
      "Epoch 807/1000\n",
      "379/379 [==============================] - 11s 28ms/step - loss: 0.1570 - accuracy: 0.9230 - val_loss: 0.1203 - val_accuracy: 0.9472\n",
      "Epoch 808/1000\n",
      "379/379 [==============================] - 11s 29ms/step - loss: 0.1730 - accuracy: 0.9244 - val_loss: 0.1131 - val_accuracy: 0.9439\n",
      "Epoch 809/1000\n",
      "379/379 [==============================] - 12s 31ms/step - loss: 0.1439 - accuracy: 0.9299 - val_loss: 0.1421 - val_accuracy: 0.92743s - loss: 0.1387 -  - ETA: 2s - loss: 0.1398 - accuracy:  - ETA: 0s - loss: 0.1438 - accuracy: 0.92\n",
      "Epoch 810/1000\n",
      "379/379 [==============================] - 13s 35ms/step - loss: 0.1898 - accuracy: 0.9196 - val_loss: 0.1179 - val_accuracy: 0.9406\n",
      "Epoch 811/1000\n",
      "379/379 [==============================] - 13s 33ms/step - loss: 0.1614 - accuracy: 0.9230 - val_loss: 0.1083 - val_accuracy: 0.9455\n",
      "Epoch 812/1000\n",
      "379/379 [==============================] - 12s 32ms/step - loss: 0.1808 - accuracy: 0.9208 - val_loss: 0.1155 - val_accuracy: 0.9422\n",
      "Epoch 813/1000\n",
      "379/379 [==============================] - 12s 33ms/step - loss: 0.1718 - accuracy: 0.9223 - val_loss: 0.1107 - val_accuracy: 0.9455\n",
      "Epoch 814/1000\n",
      "379/379 [==============================] - 11s 29ms/step - loss: 0.1653 - accuracy: 0.9231 - val_loss: 0.1130 - val_accuracy: 0.9439\n",
      "Epoch 815/1000\n",
      "379/379 [==============================] - 11s 29ms/step - loss: 0.1722 - accuracy: 0.9185 - val_loss: 0.1268 - val_accuracy: 0.9323\n",
      "Epoch 816/1000\n",
      "379/379 [==============================] - 11s 29ms/step - loss: 0.1572 - accuracy: 0.9229 - val_loss: 0.1101 - val_accuracy: 0.9439\n",
      "Epoch 817/1000\n",
      "379/379 [==============================] - 11s 29ms/step - loss: 0.1557 - accuracy: 0.9233 - val_loss: 0.1142 - val_accuracy: 0.9422\n",
      "Epoch 818/1000\n",
      "379/379 [==============================] - 11s 28ms/step - loss: 0.1883 - accuracy: 0.9104 - val_loss: 0.1139 - val_accuracy: 0.9455\n",
      "Epoch 819/1000\n",
      "379/379 [==============================] - 11s 30ms/step - loss: 0.1987 - accuracy: 0.9085 - val_loss: 0.1370 - val_accuracy: 0.9323\n",
      "Epoch 820/1000\n",
      "379/379 [==============================] - 11s 29ms/step - loss: 0.1806 - accuracy: 0.9185 - val_loss: 0.1123 - val_accuracy: 0.9472\n",
      "Epoch 821/1000\n",
      "379/379 [==============================] - 11s 29ms/step - loss: 0.1517 - accuracy: 0.9322 - val_loss: 0.1184 - val_accuracy: 0.9373\n",
      "Epoch 822/1000\n",
      "379/379 [==============================] - 11s 28ms/step - loss: 0.1585 - accuracy: 0.9189 - val_loss: 0.1087 - val_accuracy: 0.9505\n",
      "Epoch 823/1000\n",
      "379/379 [==============================] - 11s 30ms/step - loss: 0.1488 - accuracy: 0.9341 - val_loss: 0.1034 - val_accuracy: 0.9538\n"
     ]
    },
    {
     "name": "stderr",
     "output_type": "stream",
     "text": [
      "WARNING:absl:Found untraced functions such as lstm_cell_layer_call_fn, lstm_cell_layer_call_and_return_conditional_losses, lstm_cell_1_layer_call_fn, lstm_cell_1_layer_call_and_return_conditional_losses, lstm_cell_2_layer_call_fn while saving (showing 5 of 15). These functions will not be directly callable after loading.\n"
     ]
    },
    {
     "name": "stdout",
     "output_type": "stream",
     "text": [
      "INFO:tensorflow:Assets written to: SleppyModels-823\\assets\n"
     ]
    },
    {
     "name": "stderr",
     "output_type": "stream",
     "text": [
      "INFO:tensorflow:Assets written to: SleppyModels-823\\assets\n"
     ]
    },
    {
     "name": "stdout",
     "output_type": "stream",
     "text": [
      "Epoch 824/1000\n",
      "379/379 [==============================] - 10s 27ms/step - loss: 0.1486 - accuracy: 0.9342 - val_loss: 0.1173 - val_accuracy: 0.9439s: 0\n",
      "Epoch 825/1000\n",
      "379/379 [==============================] - 11s 28ms/step - loss: 0.1749 - accuracy: 0.9215 - val_loss: 0.1137 - val_accuracy: 0.9439\n",
      "Epoch 826/1000\n",
      "379/379 [==============================] - 10s 26ms/step - loss: 0.1509 - accuracy: 0.9292 - val_loss: 0.1068 - val_accuracy: 0.9538\n",
      "Epoch 827/1000\n",
      "379/379 [==============================] - 10s 27ms/step - loss: 0.1638 - accuracy: 0.9223 - val_loss: 0.1093 - val_accuracy: 0.9455\n",
      "Epoch 828/1000\n",
      "379/379 [==============================] - 10s 27ms/step - loss: 0.1707 - accuracy: 0.9184 - val_loss: 0.1042 - val_accuracy: 0.9538\n",
      "Epoch 829/1000\n",
      "379/379 [==============================] - 11s 28ms/step - loss: 0.1697 - accuracy: 0.9202 - val_loss: 0.1006 - val_accuracy: 0.9488\n",
      "Epoch 830/1000\n",
      "379/379 [==============================] - 10s 27ms/step - loss: 0.1511 - accuracy: 0.9236 - val_loss: 0.1046 - val_accuracy: 0.9455\n",
      "Epoch 831/1000\n",
      "379/379 [==============================] - 10s 27ms/step - loss: 0.1793 - accuracy: 0.9226 - val_loss: 0.1146 - val_accuracy: 0.9373\n",
      "Epoch 832/1000\n",
      "379/379 [==============================] - 10s 27ms/step - loss: 0.1728 - accuracy: 0.9160 - val_loss: 0.1161 - val_accuracy: 0.9422\n",
      "Epoch 833/1000\n",
      "379/379 [==============================] - 11s 29ms/step - loss: 0.1895 - accuracy: 0.9172 - val_loss: 0.1140 - val_accuracy: 0.9505\n",
      "Epoch 834/1000\n",
      "379/379 [==============================] - 11s 28ms/step - loss: 0.1853 - accuracy: 0.9068 - val_loss: 0.1250 - val_accuracy: 0.9406s: 0.185\n",
      "Epoch 835/1000\n",
      "379/379 [==============================] - 13s 35ms/step - loss: 0.1747 - accuracy: 0.9258 - val_loss: 0.1119 - val_accuracy: 0.9439\n",
      "Epoch 836/1000\n",
      "379/379 [==============================] - 19s 49ms/step - loss: 0.1572 - accuracy: 0.9286 - val_loss: 0.1130 - val_accuracy: 0.9406\n",
      "Epoch 837/1000\n",
      "379/379 [==============================] - 20s 52ms/step - loss: 0.1661 - accuracy: 0.9266 - val_loss: 0.1028 - val_accuracy: 0.9505\n",
      "Epoch 838/1000\n",
      "379/379 [==============================] - 17s 45ms/step - loss: 0.1613 - accuracy: 0.9195 - val_loss: 0.1076 - val_accuracy: 0.9422\n",
      "Epoch 839/1000\n",
      "379/379 [==============================] - 16s 41ms/step - loss: 0.1703 - accuracy: 0.9123 - val_loss: 0.1176 - val_accuracy: 0.9356\n",
      "Epoch 840/1000\n",
      "379/379 [==============================] - 12s 33ms/step - loss: 0.1619 - accuracy: 0.9274 - val_loss: 0.1059 - val_accuracy: 0.9521\n",
      "Epoch 841/1000\n",
      "379/379 [==============================] - 15s 38ms/step - loss: 0.1493 - accuracy: 0.9272 - val_loss: 0.1020 - val_accuracy: 0.9472\n",
      "Epoch 842/1000\n",
      "379/379 [==============================] - 13s 34ms/step - loss: 0.1689 - accuracy: 0.9172 - val_loss: 0.1369 - val_accuracy: 0.9356\n",
      "Epoch 843/1000\n",
      "379/379 [==============================] - 11s 30ms/step - loss: 0.2104 - accuracy: 0.9153 - val_loss: 0.1109 - val_accuracy: 0.9472\n",
      "Epoch 844/1000\n",
      "379/379 [==============================] - 17s 45ms/step - loss: 0.1597 - accuracy: 0.9266 - val_loss: 0.1087 - val_accuracy: 0.9455\n",
      "Epoch 845/1000\n",
      "379/379 [==============================] - 15s 40ms/step - loss: 0.1717 - accuracy: 0.9238 - val_loss: 0.1096 - val_accuracy: 0.9505\n",
      "Epoch 846/1000\n",
      "379/379 [==============================] - 15s 39ms/step - loss: 0.1779 - accuracy: 0.9191 - val_loss: 0.1017 - val_accuracy: 0.9505\n",
      "Epoch 847/1000\n",
      "379/379 [==============================] - 15s 38ms/step - loss: 0.1631 - accuracy: 0.9205 - val_loss: 0.1032 - val_accuracy: 0.9472\n",
      "Epoch 848/1000\n",
      "379/379 [==============================] - 14s 38ms/step - loss: 0.1551 - accuracy: 0.9338 - val_loss: 0.1040 - val_accuracy: 0.9505\n",
      "Epoch 849/1000\n",
      "379/379 [==============================] - 15s 39ms/step - loss: 0.1529 - accuracy: 0.9276 - val_loss: 0.1067 - val_accuracy: 0.9422\n",
      "Epoch 850/1000\n",
      "379/379 [==============================] - 15s 39ms/step - loss: 0.1637 - accuracy: 0.9363 - val_loss: 0.1090 - val_accuracy: 0.9521\n",
      "Epoch 851/1000\n",
      "379/379 [==============================] - 15s 40ms/step - loss: 0.1661 - accuracy: 0.9239 - val_loss: 0.0998 - val_accuracy: 0.9521\n",
      "Epoch 852/1000\n",
      "379/379 [==============================] - 15s 39ms/step - loss: 0.1662 - accuracy: 0.9207 - val_loss: 0.1135 - val_accuracy: 0.9521\n",
      "Epoch 853/1000\n",
      "379/379 [==============================] - 15s 39ms/step - loss: 0.1495 - accuracy: 0.9276 - val_loss: 0.1019 - val_accuracy: 0.9455\n",
      "Epoch 854/1000\n",
      "379/379 [==============================] - 15s 39ms/step - loss: 0.1410 - accuracy: 0.9251 - val_loss: 0.0993 - val_accuracy: 0.9538\n",
      "Epoch 855/1000\n",
      "379/379 [==============================] - 15s 39ms/step - loss: 0.1700 - accuracy: 0.9284 - val_loss: 0.1053 - val_accuracy: 0.9505\n",
      "Epoch 856/1000\n",
      "379/379 [==============================] - 15s 39ms/step - loss: 0.1657 - accuracy: 0.9230 - val_loss: 0.1124 - val_accuracy: 0.9455\n",
      "Epoch 857/1000\n",
      "379/379 [==============================] - 14s 38ms/step - loss: 0.1550 - accuracy: 0.9157 - val_loss: 0.1013 - val_accuracy: 0.9472\n",
      "Epoch 858/1000\n",
      "379/379 [==============================] - 14s 38ms/step - loss: 0.1624 - accuracy: 0.9277 - val_loss: 0.1299 - val_accuracy: 0.9323\n",
      "Epoch 859/1000\n",
      "379/379 [==============================] - 14s 38ms/step - loss: 0.1728 - accuracy: 0.9246 - val_loss: 0.1030 - val_accuracy: 0.9488\n",
      "Epoch 860/1000\n",
      "379/379 [==============================] - 14s 37ms/step - loss: 0.1524 - accuracy: 0.9294 - val_loss: 0.1046 - val_accuracy: 0.9521\n",
      "Epoch 861/1000\n",
      "379/379 [==============================] - 15s 39ms/step - loss: 0.1439 - accuracy: 0.9322 - val_loss: 0.0943 - val_accuracy: 0.9587\n"
     ]
    },
    {
     "name": "stderr",
     "output_type": "stream",
     "text": [
      "WARNING:absl:Found untraced functions such as lstm_cell_layer_call_fn, lstm_cell_layer_call_and_return_conditional_losses, lstm_cell_1_layer_call_fn, lstm_cell_1_layer_call_and_return_conditional_losses, lstm_cell_2_layer_call_fn while saving (showing 5 of 15). These functions will not be directly callable after loading.\n"
     ]
    },
    {
     "name": "stdout",
     "output_type": "stream",
     "text": [
      "INFO:tensorflow:Assets written to: SleppyModels-861\\assets\n"
     ]
    },
    {
     "name": "stderr",
     "output_type": "stream",
     "text": [
      "INFO:tensorflow:Assets written to: SleppyModels-861\\assets\n"
     ]
    },
    {
     "name": "stdout",
     "output_type": "stream",
     "text": [
      "Epoch 862/1000\n",
      "379/379 [==============================] - 14s 38ms/step - loss: 0.1377 - accuracy: 0.9407 - val_loss: 0.0928 - val_accuracy: 0.9554\n",
      "Epoch 863/1000\n",
      "379/379 [==============================] - 13s 35ms/step - loss: 0.1622 - accuracy: 0.9282 - val_loss: 0.1244 - val_accuracy: 0.9406\n",
      "Epoch 864/1000\n",
      "379/379 [==============================] - 14s 36ms/step - loss: 0.1812 - accuracy: 0.9266 - val_loss: 0.0988 - val_accuracy: 0.9587\n",
      "Epoch 865/1000\n",
      "379/379 [==============================] - 14s 36ms/step - loss: 0.1653 - accuracy: 0.9222 - val_loss: 0.1069 - val_accuracy: 0.9422\n",
      "Epoch 866/1000\n",
      "379/379 [==============================] - 13s 35ms/step - loss: 0.1553 - accuracy: 0.9336 - val_loss: 0.0970 - val_accuracy: 0.9538\n",
      "Epoch 867/1000\n",
      "379/379 [==============================] - 13s 35ms/step - loss: 0.1372 - accuracy: 0.9400 - val_loss: 0.0960 - val_accuracy: 0.9554\n",
      "Epoch 868/1000\n",
      "379/379 [==============================] - 13s 36ms/step - loss: 0.1424 - accuracy: 0.9388 - val_loss: 0.1046 - val_accuracy: 0.9521\n",
      "Epoch 869/1000\n",
      "379/379 [==============================] - 13s 36ms/step - loss: 0.1729 - accuracy: 0.9242 - val_loss: 0.0964 - val_accuracy: 0.9604\n"
     ]
    },
    {
     "name": "stderr",
     "output_type": "stream",
     "text": [
      "WARNING:absl:Found untraced functions such as lstm_cell_layer_call_fn, lstm_cell_layer_call_and_return_conditional_losses, lstm_cell_1_layer_call_fn, lstm_cell_1_layer_call_and_return_conditional_losses, lstm_cell_2_layer_call_fn while saving (showing 5 of 15). These functions will not be directly callable after loading.\n"
     ]
    },
    {
     "name": "stdout",
     "output_type": "stream",
     "text": [
      "INFO:tensorflow:Assets written to: SleppyModels-869\\assets\n"
     ]
    },
    {
     "name": "stderr",
     "output_type": "stream",
     "text": [
      "INFO:tensorflow:Assets written to: SleppyModels-869\\assets\n"
     ]
    },
    {
     "name": "stdout",
     "output_type": "stream",
     "text": [
      "Epoch 870/1000\n",
      "379/379 [==============================] - 13s 36ms/step - loss: 0.1609 - accuracy: 0.9204 - val_loss: 0.0971 - val_accuracy: 0.9505\n",
      "Epoch 871/1000\n",
      "379/379 [==============================] - 13s 35ms/step - loss: 0.1579 - accuracy: 0.9319 - val_loss: 0.1093 - val_accuracy: 0.9373\n",
      "Epoch 872/1000\n",
      "379/379 [==============================] - 14s 36ms/step - loss: 0.1565 - accuracy: 0.9308 - val_loss: 0.0896 - val_accuracy: 0.9604\n",
      "Epoch 873/1000\n",
      "379/379 [==============================] - 13s 35ms/step - loss: 0.1640 - accuracy: 0.9167 - val_loss: 0.0950 - val_accuracy: 0.9505\n",
      "Epoch 874/1000\n",
      "379/379 [==============================] - 13s 35ms/step - loss: 0.1395 - accuracy: 0.9323 - val_loss: 0.1049 - val_accuracy: 0.9422\n",
      "Epoch 875/1000\n",
      "379/379 [==============================] - 13s 35ms/step - loss: 0.1584 - accuracy: 0.9330 - val_loss: 0.1117 - val_accuracy: 0.9455\n",
      "Epoch 876/1000\n",
      "379/379 [==============================] - 13s 35ms/step - loss: 0.1497 - accuracy: 0.9334 - val_loss: 0.1037 - val_accuracy: 0.9488\n",
      "Epoch 877/1000\n",
      "379/379 [==============================] - 13s 34ms/step - loss: 0.2040 - accuracy: 0.9167 - val_loss: 0.0986 - val_accuracy: 0.9538\n",
      "Epoch 878/1000\n",
      "379/379 [==============================] - 13s 34ms/step - loss: 0.1466 - accuracy: 0.9345 - val_loss: 0.0993 - val_accuracy: 0.9554\n",
      "Epoch 879/1000\n",
      "379/379 [==============================] - 13s 35ms/step - loss: 0.1368 - accuracy: 0.9369 - val_loss: 0.0922 - val_accuracy: 0.9571\n",
      "Epoch 880/1000\n",
      "379/379 [==============================] - 13s 35ms/step - loss: 0.1584 - accuracy: 0.9258 - val_loss: 0.1273 - val_accuracy: 0.9307\n",
      "Epoch 881/1000\n",
      "379/379 [==============================] - 13s 34ms/step - loss: 0.1592 - accuracy: 0.9274 - val_loss: 0.0958 - val_accuracy: 0.9521\n",
      "Epoch 882/1000\n",
      "379/379 [==============================] - 13s 35ms/step - loss: 0.1574 - accuracy: 0.9237 - val_loss: 0.0905 - val_accuracy: 0.9587\n",
      "Epoch 883/1000\n",
      "379/379 [==============================] - 14s 36ms/step - loss: 0.1219 - accuracy: 0.9404 - val_loss: 0.1124 - val_accuracy: 0.9455\n",
      "Epoch 884/1000\n",
      "379/379 [==============================] - 13s 35ms/step - loss: 0.1452 - accuracy: 0.9306 - val_loss: 0.0980 - val_accuracy: 0.9488\n",
      "Epoch 885/1000\n",
      "379/379 [==============================] - 14s 36ms/step - loss: 0.1452 - accuracy: 0.9250 - val_loss: 0.1075 - val_accuracy: 0.9554\n",
      "Epoch 886/1000\n",
      "379/379 [==============================] - 13s 35ms/step - loss: 0.1707 - accuracy: 0.9246 - val_loss: 0.0940 - val_accuracy: 0.9604\n",
      "Epoch 887/1000\n",
      "379/379 [==============================] - 13s 34ms/step - loss: 0.1557 - accuracy: 0.9313 - val_loss: 0.0946 - val_accuracy: 0.9587\n",
      "Epoch 888/1000\n",
      "379/379 [==============================] - 14s 36ms/step - loss: 0.1545 - accuracy: 0.9214 - val_loss: 0.0985 - val_accuracy: 0.9439\n",
      "Epoch 889/1000\n",
      "379/379 [==============================] - 13s 35ms/step - loss: 0.1660 - accuracy: 0.9257 - val_loss: 0.0950 - val_accuracy: 0.9505\n",
      "Epoch 890/1000\n",
      "379/379 [==============================] - 13s 35ms/step - loss: 0.1266 - accuracy: 0.9458 - val_loss: 0.1012 - val_accuracy: 0.9587\n",
      "Epoch 891/1000\n",
      "379/379 [==============================] - 14s 36ms/step - loss: 0.1570 - accuracy: 0.9237 - val_loss: 0.0938 - val_accuracy: 0.9538\n",
      "Epoch 892/1000\n",
      "379/379 [==============================] - 13s 35ms/step - loss: 0.1655 - accuracy: 0.9316 - val_loss: 0.0957 - val_accuracy: 0.9538\n",
      "Epoch 893/1000\n",
      "379/379 [==============================] - 14s 36ms/step - loss: 0.1414 - accuracy: 0.9378 - val_loss: 0.0923 - val_accuracy: 0.9571\n",
      "Epoch 894/1000\n",
      "379/379 [==============================] - 14s 36ms/step - loss: 0.1497 - accuracy: 0.9276 - val_loss: 0.0917 - val_accuracy: 0.9571\n",
      "Epoch 895/1000\n",
      "379/379 [==============================] - 14s 36ms/step - loss: 0.1391 - accuracy: 0.9320 - val_loss: 0.1019 - val_accuracy: 0.9521\n",
      "Epoch 896/1000\n",
      "379/379 [==============================] - 13s 35ms/step - loss: 0.1718 - accuracy: 0.9252 - val_loss: 0.1008 - val_accuracy: 0.9521\n",
      "Epoch 897/1000\n",
      "379/379 [==============================] - 14s 36ms/step - loss: 0.1413 - accuracy: 0.9328 - val_loss: 0.1054 - val_accuracy: 0.9455\n",
      "Epoch 898/1000\n",
      "379/379 [==============================] - 14s 38ms/step - loss: 0.1436 - accuracy: 0.9327 - val_loss: 0.0977 - val_accuracy: 0.9571\n",
      "Epoch 899/1000\n",
      "379/379 [==============================] - 14s 37ms/step - loss: 0.1493 - accuracy: 0.9269 - val_loss: 0.1009 - val_accuracy: 0.9571\n",
      "Epoch 900/1000\n",
      "379/379 [==============================] - 14s 36ms/step - loss: 0.1563 - accuracy: 0.9279 - val_loss: 0.0993 - val_accuracy: 0.9488\n",
      "Epoch 901/1000\n",
      "379/379 [==============================] - 14s 37ms/step - loss: 0.1594 - accuracy: 0.9301 - val_loss: 0.0997 - val_accuracy: 0.9571\n",
      "Epoch 902/1000\n",
      "379/379 [==============================] - 15s 39ms/step - loss: 0.1552 - accuracy: 0.9282 - val_loss: 0.1179 - val_accuracy: 0.9389\n",
      "Epoch 903/1000\n",
      "379/379 [==============================] - 16s 42ms/step - loss: 0.1666 - accuracy: 0.9333 - val_loss: 0.1054 - val_accuracy: 0.9422\n",
      "Epoch 904/1000\n",
      "379/379 [==============================] - 16s 43ms/step - loss: 0.1691 - accuracy: 0.9314 - val_loss: 0.0887 - val_accuracy: 0.9587\n",
      "Epoch 905/1000\n",
      "379/379 [==============================] - 15s 39ms/step - loss: 0.1485 - accuracy: 0.9344 - val_loss: 0.0854 - val_accuracy: 0.9653\n"
     ]
    },
    {
     "name": "stderr",
     "output_type": "stream",
     "text": [
      "WARNING:absl:Found untraced functions such as lstm_cell_layer_call_fn, lstm_cell_layer_call_and_return_conditional_losses, lstm_cell_1_layer_call_fn, lstm_cell_1_layer_call_and_return_conditional_losses, lstm_cell_2_layer_call_fn while saving (showing 5 of 15). These functions will not be directly callable after loading.\n"
     ]
    },
    {
     "name": "stdout",
     "output_type": "stream",
     "text": [
      "INFO:tensorflow:Assets written to: SleppyModels-905\\assets\n"
     ]
    },
    {
     "name": "stderr",
     "output_type": "stream",
     "text": [
      "INFO:tensorflow:Assets written to: SleppyModels-905\\assets\n"
     ]
    },
    {
     "name": "stdout",
     "output_type": "stream",
     "text": [
      "Epoch 906/1000\n",
      "379/379 [==============================] - 13s 35ms/step - loss: 0.1580 - accuracy: 0.9281 - val_loss: 0.0885 - val_accuracy: 0.9604\n",
      "Epoch 907/1000\n",
      "379/379 [==============================] - 15s 40ms/step - loss: 0.1537 - accuracy: 0.9316 - val_loss: 0.1161 - val_accuracy: 0.9472\n",
      "Epoch 908/1000\n",
      "379/379 [==============================] - 14s 37ms/step - loss: 0.1459 - accuracy: 0.9347 - val_loss: 0.0864 - val_accuracy: 0.9571\n",
      "Epoch 909/1000\n",
      "379/379 [==============================] - 13s 35ms/step - loss: 0.1458 - accuracy: 0.9352 - val_loss: 0.0911 - val_accuracy: 0.9571\n",
      "Epoch 910/1000\n",
      "379/379 [==============================] - 13s 35ms/step - loss: 0.1429 - accuracy: 0.9329 - val_loss: 0.0905 - val_accuracy: 0.9620\n",
      "Epoch 911/1000\n",
      "379/379 [==============================] - 13s 35ms/step - loss: 0.1422 - accuracy: 0.9320 - val_loss: 0.0887 - val_accuracy: 0.9620\n",
      "Epoch 912/1000\n",
      "379/379 [==============================] - 14s 37ms/step - loss: 0.1505 - accuracy: 0.9276 - val_loss: 0.0870 - val_accuracy: 0.9620\n",
      "Epoch 913/1000\n",
      "379/379 [==============================] - 14s 36ms/step - loss: 0.1587 - accuracy: 0.9323 - val_loss: 0.1044 - val_accuracy: 0.9505\n",
      "Epoch 914/1000\n",
      "379/379 [==============================] - 14s 36ms/step - loss: 0.1617 - accuracy: 0.9300 - val_loss: 0.0842 - val_accuracy: 0.9620\n",
      "Epoch 915/1000\n",
      "379/379 [==============================] - 14s 36ms/step - loss: 0.1407 - accuracy: 0.9342 - val_loss: 0.0926 - val_accuracy: 0.9637\n",
      "Epoch 916/1000\n",
      "379/379 [==============================] - 14s 36ms/step - loss: 0.1283 - accuracy: 0.9441 - val_loss: 0.0884 - val_accuracy: 0.9538\n",
      "Epoch 917/1000\n",
      "379/379 [==============================] - 14s 36ms/step - loss: 0.1591 - accuracy: 0.9284 - val_loss: 0.0892 - val_accuracy: 0.9620\n",
      "Epoch 918/1000\n",
      "379/379 [==============================] - 14s 36ms/step - loss: 0.1293 - accuracy: 0.9459 - val_loss: 0.0838 - val_accuracy: 0.9686\n"
     ]
    },
    {
     "name": "stderr",
     "output_type": "stream",
     "text": [
      "WARNING:absl:Found untraced functions such as lstm_cell_layer_call_fn, lstm_cell_layer_call_and_return_conditional_losses, lstm_cell_1_layer_call_fn, lstm_cell_1_layer_call_and_return_conditional_losses, lstm_cell_2_layer_call_fn while saving (showing 5 of 15). These functions will not be directly callable after loading.\n"
     ]
    },
    {
     "name": "stdout",
     "output_type": "stream",
     "text": [
      "INFO:tensorflow:Assets written to: SleppyModels-918\\assets\n"
     ]
    },
    {
     "name": "stderr",
     "output_type": "stream",
     "text": [
      "INFO:tensorflow:Assets written to: SleppyModels-918\\assets\n"
     ]
    },
    {
     "name": "stdout",
     "output_type": "stream",
     "text": [
      "Epoch 919/1000\n",
      "379/379 [==============================] - 14s 38ms/step - loss: 0.1418 - accuracy: 0.9291 - val_loss: 0.0927 - val_accuracy: 0.9604\n",
      "Epoch 920/1000\n",
      "379/379 [==============================] - 14s 36ms/step - loss: 0.1446 - accuracy: 0.9312 - val_loss: 0.0838 - val_accuracy: 0.9620\n",
      "Epoch 921/1000\n",
      "379/379 [==============================] - 14s 36ms/step - loss: 0.1332 - accuracy: 0.9376 - val_loss: 0.0857 - val_accuracy: 0.9620\n",
      "Epoch 922/1000\n",
      "379/379 [==============================] - 14s 37ms/step - loss: 0.1332 - accuracy: 0.9390 - val_loss: 0.0826 - val_accuracy: 0.9587\n",
      "Epoch 923/1000\n",
      "379/379 [==============================] - 13s 35ms/step - loss: 0.1605 - accuracy: 0.9229 - val_loss: 0.0902 - val_accuracy: 0.9587\n",
      "Epoch 924/1000\n",
      "379/379 [==============================] - 14s 36ms/step - loss: 0.1453 - accuracy: 0.9300 - val_loss: 0.0947 - val_accuracy: 0.9571\n",
      "Epoch 925/1000\n",
      "379/379 [==============================] - 13s 36ms/step - loss: 0.1398 - accuracy: 0.9365 - val_loss: 0.1024 - val_accuracy: 0.9571\n",
      "Epoch 926/1000\n",
      "379/379 [==============================] - 14s 37ms/step - loss: 0.1812 - accuracy: 0.9195 - val_loss: 0.0927 - val_accuracy: 0.9554\n",
      "Epoch 927/1000\n",
      "379/379 [==============================] - 14s 37ms/step - loss: 0.1403 - accuracy: 0.9435 - val_loss: 0.0960 - val_accuracy: 0.9538\n",
      "Epoch 928/1000\n",
      "379/379 [==============================] - 14s 37ms/step - loss: 0.1354 - accuracy: 0.9350 - val_loss: 0.0925 - val_accuracy: 0.9538\n",
      "Epoch 929/1000\n",
      "379/379 [==============================] - 14s 37ms/step - loss: 0.1439 - accuracy: 0.9307 - val_loss: 0.0846 - val_accuracy: 0.9620\n",
      "Epoch 930/1000\n",
      "379/379 [==============================] - 14s 36ms/step - loss: 0.1348 - accuracy: 0.9425 - val_loss: 0.1006 - val_accuracy: 0.9505\n",
      "Epoch 931/1000\n",
      "379/379 [==============================] - 14s 37ms/step - loss: 0.1376 - accuracy: 0.9427 - val_loss: 0.0890 - val_accuracy: 0.9554\n",
      "Epoch 932/1000\n",
      "379/379 [==============================] - 14s 37ms/step - loss: 0.1550 - accuracy: 0.9347 - val_loss: 0.0859 - val_accuracy: 0.9604\n",
      "Epoch 933/1000\n",
      "379/379 [==============================] - 14s 37ms/step - loss: 0.1336 - accuracy: 0.9390 - val_loss: 0.1026 - val_accuracy: 0.9455\n",
      "Epoch 934/1000\n",
      "379/379 [==============================] - 14s 37ms/step - loss: 0.1357 - accuracy: 0.9332 - val_loss: 0.0939 - val_accuracy: 0.9554\n",
      "Epoch 935/1000\n",
      "379/379 [==============================] - 14s 37ms/step - loss: 0.1371 - accuracy: 0.9373 - val_loss: 0.0904 - val_accuracy: 0.9620\n",
      "Epoch 936/1000\n",
      "379/379 [==============================] - 14s 37ms/step - loss: 0.1576 - accuracy: 0.9293 - val_loss: 0.1069 - val_accuracy: 0.9455\n",
      "Epoch 937/1000\n",
      "379/379 [==============================] - 14s 38ms/step - loss: 0.1543 - accuracy: 0.9271 - val_loss: 0.0942 - val_accuracy: 0.9472\n",
      "Epoch 938/1000\n",
      "379/379 [==============================] - 14s 38ms/step - loss: 0.1648 - accuracy: 0.9333 - val_loss: 0.0896 - val_accuracy: 0.9521\n",
      "Epoch 939/1000\n",
      "379/379 [==============================] - 14s 38ms/step - loss: 0.1356 - accuracy: 0.9392 - val_loss: 0.0876 - val_accuracy: 0.9587\n",
      "Epoch 940/1000\n",
      "379/379 [==============================] - 14s 37ms/step - loss: 0.1554 - accuracy: 0.9326 - val_loss: 0.0844 - val_accuracy: 0.9620\n",
      "Epoch 941/1000\n",
      "379/379 [==============================] - 14s 38ms/step - loss: 0.1440 - accuracy: 0.9352 - val_loss: 0.0823 - val_accuracy: 0.9620\n",
      "Epoch 942/1000\n",
      "379/379 [==============================] - 14s 37ms/step - loss: 0.1315 - accuracy: 0.9406 - val_loss: 0.0834 - val_accuracy: 0.9587\n",
      "Epoch 943/1000\n",
      "379/379 [==============================] - 14s 37ms/step - loss: 0.1306 - accuracy: 0.9357 - val_loss: 0.0871 - val_accuracy: 0.9538\n",
      "Epoch 944/1000\n",
      "379/379 [==============================] - 14s 36ms/step - loss: 0.1620 - accuracy: 0.9296 - val_loss: 0.0903 - val_accuracy: 0.9604\n",
      "Epoch 945/1000\n",
      "379/379 [==============================] - 15s 38ms/step - loss: 0.1520 - accuracy: 0.9300 - val_loss: 0.0895 - val_accuracy: 0.9571\n",
      "Epoch 946/1000\n",
      "379/379 [==============================] - 14s 36ms/step - loss: 0.1375 - accuracy: 0.9395 - val_loss: 0.0886 - val_accuracy: 0.9587\n",
      "Epoch 947/1000\n",
      "379/379 [==============================] - 14s 38ms/step - loss: 0.1357 - accuracy: 0.9360 - val_loss: 0.1137 - val_accuracy: 0.9439\n",
      "Epoch 948/1000\n",
      "379/379 [==============================] - 15s 39ms/step - loss: 0.1535 - accuracy: 0.9307 - val_loss: 0.1233 - val_accuracy: 0.9356\n",
      "Epoch 949/1000\n",
      "379/379 [==============================] - 14s 38ms/step - loss: 0.1519 - accuracy: 0.9290 - val_loss: 0.0812 - val_accuracy: 0.9637\n",
      "Epoch 950/1000\n",
      "379/379 [==============================] - 14s 38ms/step - loss: 0.1346 - accuracy: 0.9390 - val_loss: 0.0791 - val_accuracy: 0.9670\n",
      "Epoch 951/1000\n",
      "379/379 [==============================] - 14s 37ms/step - loss: 0.1493 - accuracy: 0.9339 - val_loss: 0.1111 - val_accuracy: 0.9488\n",
      "Epoch 952/1000\n",
      "379/379 [==============================] - 15s 38ms/step - loss: 0.1641 - accuracy: 0.9226 - val_loss: 0.0805 - val_accuracy: 0.9653\n",
      "Epoch 953/1000\n",
      "379/379 [==============================] - 14s 38ms/step - loss: 0.1446 - accuracy: 0.9367 - val_loss: 0.0846 - val_accuracy: 0.9653\n",
      "Epoch 954/1000\n",
      "379/379 [==============================] - 14s 38ms/step - loss: 0.1242 - accuracy: 0.9404 - val_loss: 0.0847 - val_accuracy: 0.9670\n",
      "Epoch 955/1000\n",
      "379/379 [==============================] - 14s 38ms/step - loss: 0.1414 - accuracy: 0.9349 - val_loss: 0.0895 - val_accuracy: 0.9538\n",
      "Epoch 956/1000\n",
      "379/379 [==============================] - 14s 38ms/step - loss: 0.1485 - accuracy: 0.9427 - val_loss: 0.0828 - val_accuracy: 0.9571\n",
      "Epoch 957/1000\n",
      "379/379 [==============================] - 14s 38ms/step - loss: 0.1312 - accuracy: 0.9361 - val_loss: 0.0887 - val_accuracy: 0.9571\n",
      "Epoch 958/1000\n",
      "379/379 [==============================] - 15s 39ms/step - loss: 0.1485 - accuracy: 0.9319 - val_loss: 0.1017 - val_accuracy: 0.9505\n",
      "Epoch 959/1000\n",
      "379/379 [==============================] - 14s 38ms/step - loss: 0.1521 - accuracy: 0.9278 - val_loss: 0.0818 - val_accuracy: 0.9670\n",
      "Epoch 960/1000\n",
      "379/379 [==============================] - 14s 38ms/step - loss: 0.1437 - accuracy: 0.9363 - val_loss: 0.0861 - val_accuracy: 0.9604\n",
      "Epoch 961/1000\n",
      "379/379 [==============================] - 14s 37ms/step - loss: 0.1292 - accuracy: 0.9449 - val_loss: 0.0852 - val_accuracy: 0.9653\n",
      "Epoch 962/1000\n",
      "379/379 [==============================] - 16s 41ms/step - loss: 0.1548 - accuracy: 0.9327 - val_loss: 0.0835 - val_accuracy: 0.9554\n",
      "Epoch 963/1000\n",
      "379/379 [==============================] - 15s 40ms/step - loss: 0.1832 - accuracy: 0.9181 - val_loss: 0.0885 - val_accuracy: 0.9521\n",
      "Epoch 964/1000\n",
      "379/379 [==============================] - 15s 39ms/step - loss: 0.1440 - accuracy: 0.9382 - val_loss: 0.0942 - val_accuracy: 0.9538\n",
      "Epoch 965/1000\n",
      "379/379 [==============================] - 14s 38ms/step - loss: 0.1378 - accuracy: 0.9381 - val_loss: 0.0909 - val_accuracy: 0.9554\n",
      "Epoch 966/1000\n",
      "379/379 [==============================] - 15s 39ms/step - loss: 0.1347 - accuracy: 0.9409 - val_loss: 0.0792 - val_accuracy: 0.9637\n",
      "Epoch 967/1000\n",
      "379/379 [==============================] - 14s 37ms/step - loss: 0.1266 - accuracy: 0.9371 - val_loss: 0.0779 - val_accuracy: 0.9670\n",
      "Epoch 968/1000\n",
      "379/379 [==============================] - 14s 38ms/step - loss: 0.1346 - accuracy: 0.9387 - val_loss: 0.0868 - val_accuracy: 0.9538\n",
      "Epoch 969/1000\n",
      "379/379 [==============================] - 15s 39ms/step - loss: 0.1690 - accuracy: 0.9270 - val_loss: 0.1059 - val_accuracy: 0.9554\n",
      "Epoch 970/1000\n",
      "379/379 [==============================] - 14s 38ms/step - loss: 0.1400 - accuracy: 0.9428 - val_loss: 0.0835 - val_accuracy: 0.9604\n",
      "Epoch 971/1000\n",
      "379/379 [==============================] - 14s 38ms/step - loss: 0.1510 - accuracy: 0.9391 - val_loss: 0.0828 - val_accuracy: 0.9670\n",
      "Epoch 972/1000\n",
      "379/379 [==============================] - 14s 37ms/step - loss: 0.1325 - accuracy: 0.9425 - val_loss: 0.0848 - val_accuracy: 0.9637\n",
      "Epoch 973/1000\n",
      "379/379 [==============================] - 15s 39ms/step - loss: 0.1441 - accuracy: 0.9354 - val_loss: 0.0813 - val_accuracy: 0.9719\n"
     ]
    },
    {
     "name": "stderr",
     "output_type": "stream",
     "text": [
      "WARNING:absl:Found untraced functions such as lstm_cell_layer_call_fn, lstm_cell_layer_call_and_return_conditional_losses, lstm_cell_1_layer_call_fn, lstm_cell_1_layer_call_and_return_conditional_losses, lstm_cell_2_layer_call_fn while saving (showing 5 of 15). These functions will not be directly callable after loading.\n"
     ]
    },
    {
     "name": "stdout",
     "output_type": "stream",
     "text": [
      "INFO:tensorflow:Assets written to: SleppyModels-973\\assets\n"
     ]
    },
    {
     "name": "stderr",
     "output_type": "stream",
     "text": [
      "INFO:tensorflow:Assets written to: SleppyModels-973\\assets\n"
     ]
    },
    {
     "name": "stdout",
     "output_type": "stream",
     "text": [
      "Epoch 974/1000\n",
      "379/379 [==============================] - 14s 36ms/step - loss: 0.1362 - accuracy: 0.9393 - val_loss: 0.0795 - val_accuracy: 0.9686\n",
      "Epoch 975/1000\n",
      "379/379 [==============================] - 13s 35ms/step - loss: 0.1459 - accuracy: 0.9351 - val_loss: 0.0816 - val_accuracy: 0.9587\n",
      "Epoch 976/1000\n",
      "379/379 [==============================] - 13s 35ms/step - loss: 0.1479 - accuracy: 0.9296 - val_loss: 0.0786 - val_accuracy: 0.9637\n",
      "Epoch 977/1000\n",
      "379/379 [==============================] - 14s 36ms/step - loss: 0.1368 - accuracy: 0.9356 - val_loss: 0.0736 - val_accuracy: 0.9752\n"
     ]
    },
    {
     "name": "stderr",
     "output_type": "stream",
     "text": [
      "WARNING:absl:Found untraced functions such as lstm_cell_layer_call_fn, lstm_cell_layer_call_and_return_conditional_losses, lstm_cell_1_layer_call_fn, lstm_cell_1_layer_call_and_return_conditional_losses, lstm_cell_2_layer_call_fn while saving (showing 5 of 15). These functions will not be directly callable after loading.\n"
     ]
    },
    {
     "name": "stdout",
     "output_type": "stream",
     "text": [
      "INFO:tensorflow:Assets written to: SleppyModels-977\\assets\n"
     ]
    },
    {
     "name": "stderr",
     "output_type": "stream",
     "text": [
      "INFO:tensorflow:Assets written to: SleppyModels-977\\assets\n"
     ]
    },
    {
     "name": "stdout",
     "output_type": "stream",
     "text": [
      "Epoch 978/1000\n",
      "379/379 [==============================] - 14s 36ms/step - loss: 0.1359 - accuracy: 0.9393 - val_loss: 0.0775 - val_accuracy: 0.9637\n",
      "Epoch 979/1000\n",
      "379/379 [==============================] - 14s 36ms/step - loss: 0.1333 - accuracy: 0.9448 - val_loss: 0.0844 - val_accuracy: 0.9686\n",
      "Epoch 980/1000\n",
      "379/379 [==============================] - 13s 35ms/step - loss: 0.1630 - accuracy: 0.9288 - val_loss: 0.0858 - val_accuracy: 0.9620\n",
      "Epoch 981/1000\n",
      "379/379 [==============================] - 14s 36ms/step - loss: 0.1409 - accuracy: 0.9340 - val_loss: 0.0763 - val_accuracy: 0.9703\n",
      "Epoch 982/1000\n",
      "379/379 [==============================] - 13s 36ms/step - loss: 0.1268 - accuracy: 0.9427 - val_loss: 0.0770 - val_accuracy: 0.9719\n",
      "Epoch 983/1000\n",
      "379/379 [==============================] - 13s 35ms/step - loss: 0.1352 - accuracy: 0.9405 - val_loss: 0.0756 - val_accuracy: 0.9686\n",
      "Epoch 984/1000\n",
      "379/379 [==============================] - 14s 37ms/step - loss: 0.1270 - accuracy: 0.9384 - val_loss: 0.0787 - val_accuracy: 0.9703\n",
      "Epoch 985/1000\n",
      "379/379 [==============================] - 14s 36ms/step - loss: 0.1401 - accuracy: 0.9423 - val_loss: 0.0751 - val_accuracy: 0.9637\n",
      "Epoch 986/1000\n",
      "379/379 [==============================] - 14s 36ms/step - loss: 0.1363 - accuracy: 0.9312 - val_loss: 0.0795 - val_accuracy: 0.9686\n",
      "Epoch 987/1000\n",
      "379/379 [==============================] - 14s 36ms/step - loss: 0.1507 - accuracy: 0.9288 - val_loss: 0.0806 - val_accuracy: 0.9686\n",
      "Epoch 988/1000\n",
      "379/379 [==============================] - 14s 36ms/step - loss: 0.1295 - accuracy: 0.9403 - val_loss: 0.0763 - val_accuracy: 0.9653\n",
      "Epoch 989/1000\n",
      "379/379 [==============================] - 13s 36ms/step - loss: 0.2045 - accuracy: 0.9246 - val_loss: 0.0820 - val_accuracy: 0.9653\n",
      "Epoch 990/1000\n",
      "379/379 [==============================] - 13s 36ms/step - loss: 0.1214 - accuracy: 0.9480 - val_loss: 0.0757 - val_accuracy: 0.9620\n",
      "Epoch 991/1000\n",
      "379/379 [==============================] - 13s 36ms/step - loss: 0.1590 - accuracy: 0.9339 - val_loss: 0.0751 - val_accuracy: 0.9604\n",
      "Epoch 992/1000\n",
      "379/379 [==============================] - 14s 37ms/step - loss: 0.1463 - accuracy: 0.9328 - val_loss: 0.0890 - val_accuracy: 0.9587\n",
      "Epoch 993/1000\n",
      "379/379 [==============================] - 14s 36ms/step - loss: 0.1443 - accuracy: 0.9326 - val_loss: 0.0743 - val_accuracy: 0.9686\n",
      "Epoch 994/1000\n",
      "379/379 [==============================] - 13s 35ms/step - loss: 0.1404 - accuracy: 0.9409 - val_loss: 0.1024 - val_accuracy: 0.9488\n",
      "Epoch 995/1000\n",
      "379/379 [==============================] - 14s 36ms/step - loss: 0.1557 - accuracy: 0.9285 - val_loss: 0.0785 - val_accuracy: 0.9637\n",
      "Epoch 996/1000\n",
      "379/379 [==============================] - 14s 36ms/step - loss: 0.1352 - accuracy: 0.9400 - val_loss: 0.0754 - val_accuracy: 0.9620\n",
      "Epoch 997/1000\n",
      "379/379 [==============================] - 14s 36ms/step - loss: 0.1402 - accuracy: 0.9403 - val_loss: 0.0820 - val_accuracy: 0.9637\n",
      "Epoch 998/1000\n",
      "379/379 [==============================] - 13s 34ms/step - loss: 0.1340 - accuracy: 0.9362 - val_loss: 0.0853 - val_accuracy: 0.9620\n",
      "Epoch 999/1000\n",
      "379/379 [==============================] - 14s 37ms/step - loss: 0.1482 - accuracy: 0.9318 - val_loss: 0.0800 - val_accuracy: 0.9653\n",
      "Epoch 1000/1000\n",
      "379/379 [==============================] - 10s 27ms/step - loss: 0.1488 - accuracy: 0.9312 - val_loss: 0.0858 - val_accuracy: 0.9554\n"
     ]
    },
    {
     "name": "stderr",
     "output_type": "stream",
     "text": [
      "WARNING:absl:Found untraced functions such as lstm_cell_layer_call_fn, lstm_cell_layer_call_and_return_conditional_losses, lstm_cell_1_layer_call_fn, lstm_cell_1_layer_call_and_return_conditional_losses, lstm_cell_2_layer_call_fn while saving (showing 5 of 15). These functions will not be directly callable after loading.\n"
     ]
    },
    {
     "name": "stdout",
     "output_type": "stream",
     "text": [
      "INFO:tensorflow:Assets written to: EAR.model\\assets\n"
     ]
    },
    {
     "name": "stderr",
     "output_type": "stream",
     "text": [
      "INFO:tensorflow:Assets written to: EAR.model\\assets\n"
     ]
    }
   ],
   "source": [
    "checkpoint=ModelCheckpoint(filepath='SleppyModels-{epoch:02d}',monitor='val_accuracy',mode='max',save_best_only=True)\n",
    "\n",
    "\n",
    "history=model.fit(data,target,epochs=1000,validation_data=(test_data,test_target),batch_size=8,callbacks=[checkpoint])\n",
    "model.save('EAR.model')"
   ]
  },
  {
   "cell_type": "code",
   "execution_count": 12,
   "metadata": {},
   "outputs": [],
   "source": [
    "# !pip install matplotlib"
   ]
  },
  {
   "cell_type": "code",
   "execution_count": 13,
   "metadata": {},
   "outputs": [
    {
     "data": {
      "image/png": "[encoded data removed]",
      "text/plain": [
       "<Figure size 432x288 with 1 Axes>"
      ]
     },
     "metadata": {
      "needs_background": "light"
     },
     "output_type": "display_data"
    }
   ],
   "source": [
    "from matplotlib import pyplot as plt\n",
    "\n",
    "plt.plot(history.history['loss'],'r',label='train loss')\n",
    "plt.plot(history.history['val_loss'],'g',label='val loss')\n",
    "plt.xlabel('# epoch')\n",
    "plt.ylabel('loss')\n",
    "plt.legend()\n",
    "plt.show()"
   ]
  },
  {
   "cell_type": "code",
   "execution_count": 14,
   "metadata": {},
   "outputs": [
    {
     "data": {
      "image/png": "[encoded data removed]",
      "text/plain": [
       "<Figure size 432x288 with 1 Axes>"
      ]
     },
     "metadata": {
      "needs_background": "light"
     },
     "output_type": "display_data"
    }
   ],
   "source": [
    "from matplotlib import pyplot as plt\n",
    "plt.plot(model.history.history['accuracy'],'g',label='accuracy')\n",
    "plt.plot(model.history.history['val_accuracy'],'b',label='val_accuracy')\n",
    "plt.xlabel('# epoch')\n",
    "plt.ylabel('accuracy')\n",
    "plt.legend()\n",
    "plt.show()"
   ]
  },
  {
   "cell_type": "code",
   "execution_count": 15,
   "metadata": {},
   "outputs": [
    {
     "name": "stderr",
     "output_type": "stream",
     "text": [
      "WARNING:absl:Found untraced functions such as lstm_cell_layer_call_fn, lstm_cell_layer_call_and_return_conditional_losses, lstm_cell_1_layer_call_fn, lstm_cell_1_layer_call_and_return_conditional_losses, lstm_cell_2_layer_call_fn while saving (showing 5 of 15). These functions will not be directly callable after loading.\n"
     ]
    },
    {
     "name": "stdout",
     "output_type": "stream",
     "text": [
      "INFO:tensorflow:Assets written to: EAR.model\\assets\n"
     ]
    },
    {
     "name": "stderr",
     "output_type": "stream",
     "text": [
      "INFO:tensorflow:Assets written to: EAR.model\\assets\n"
     ]
    }
   ],
   "source": [
    "model.save('EAR.model')"
   ]
  },
  {
   "cell_type": "code",
   "execution_count": 16,
   "metadata": {},
   "outputs": [
    {
     "name": "stdout",
     "output_type": "stream",
     "text": [
      "[[324  16]\n",
      " [ 11 255]]\n"
     ]
    }
   ],
   "source": [
    "from sklearn.metrics import confusion_matrix\n",
    "predicted_target=model.predict(test_data)\n",
    "\n",
    "print(confusion_matrix(np.argmax(test_target,axis=1),np.argmax(predicted_target,axis=1)))"
   ]
  },
  {
   "cell_type": "code",
   "execution_count": 17,
   "metadata": {},
   "outputs": [
    {
     "name": "stdout",
     "output_type": "stream",
     "text": [
      "[[324  16]\n",
      " [ 11 255]]\n",
      "              precision    recall  f1-score   support\n",
      "\n",
      "       alert       0.97      0.95      0.96       340\n",
      "      drowsy       0.94      0.96      0.95       266\n",
      "\n",
      "    accuracy                           0.96       606\n",
      "   macro avg       0.95      0.96      0.95       606\n",
      "weighted avg       0.96      0.96      0.96       606\n",
      "\n"
     ]
    }
   ],
   "source": [
    "from sklearn.metrics import confusion_matrix,classification_report,ConfusionMatrixDisplay\n",
    "\n",
    "predicted_target=model.predict(test_data)\n",
    "matrix=confusion_matrix(np.argmax(test_target,axis=1),np.argmax(predicted_target,axis=1))\n",
    "\n",
    "print(matrix)\n",
    "print(classification_report(np.argmax(test_target,axis=1),np.argmax(predicted_target,axis=1),target_names=['alert', 'drowsy']))"
   ]
  },
  {
   "cell_type": "code",
   "execution_count": 18,
   "metadata": {},
   "outputs": [
    {
     "data": {
      "text/plain": [
       "<sklearn.metrics._plot.confusion_matrix.ConfusionMatrixDisplay at 0x1d572fdd0b8>"
      ]
     },
     "execution_count": 18,
     "metadata": {},
     "output_type": "execute_result"
    },
    {
     "data": {
      "image/png": "[encoded data removed]",
      "text/plain": [
       "<Figure size 432x288 with 2 Axes>"
      ]
     },
     "metadata": {
      "needs_background": "light"
     },
     "output_type": "display_data"
    }
   ],
   "source": [
    "disp = ConfusionMatrixDisplay(confusion_matrix=matrix, display_labels=['alert', 'drowsy'])\n",
    "disp.plot()\n"
   ]
  },
  {
   "cell_type": "code",
   "execution_count": 19,
   "metadata": {},
   "outputs": [],
   "source": [
    "# predicted_target=model.predict(test_data)"
   ]
  }
 ],
 "metadata": {
  "kernelspec": {
   "display_name": "Python 3",
   "language": "python",
   "name": "python3"
  },
  "language_info": {
   "codemirror_mode": {
    "name": "ipython",
    "version": 3
   },
   "file_extension": ".py",
   "mimetype": "text/x-python",
   "name": "python",
   "nbconvert_exporter": "python",
   "pygments_lexer": "ipython3",
   "version": "3.6.13"
  }
 },
 "nbformat": 4,
 "nbformat_minor": 4
}
